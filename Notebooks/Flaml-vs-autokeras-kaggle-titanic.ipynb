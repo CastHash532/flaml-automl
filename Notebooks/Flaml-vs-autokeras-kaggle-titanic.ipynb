{
  "nbformat": 4,
  "nbformat_minor": 0,
  "metadata": {
    "interpreter": {
      "hash": "0cfea3304185a9579d09e0953576b57c8581e46e6ebc6dfeb681bc5a511f7544"
    },
    "kernelspec": {
      "name": "python3",
      "display_name": "Python 3.8.0 64-bit ('blend': conda)"
    },
    "language_info": {
      "codemirror_mode": {
        "name": "ipython",
        "version": 3
      },
      "file_extension": ".py",
      "mimetype": "text/x-python",
      "name": "python",
      "nbconvert_exporter": "python",
      "pygments_lexer": "ipython3",
      "version": "3.8.0"
    },
    "colab": {
      "name": "Kaggle-titanic.ipynb",
      "provenance": [],
      "include_colab_link": true
    },
    "accelerator": "GPU"
  },
  "cells": [
    {
      "cell_type": "markdown",
      "metadata": {
        "id": "view-in-github",
        "colab_type": "text"
      },
      "source": [
        "<a href=\"https://colab.research.google.com/github/CastHash532/flaml-automl/blob/main/Notebooks/Flaml-vs-autokeras-kaggle-titanic.ipynb\" target=\"_parent\"><img src=\"https://colab.research.google.com/assets/colab-badge.svg\" alt=\"Open In Colab\"/></a>"
      ]
    },
    {
      "cell_type": "markdown",
      "metadata": {
        "id": "hMY4CFezjcG-"
      },
      "source": [
        "## Authenticating with Kaggle using kaggle.json\n",
        "\n",
        "Navigate to https://www.kaggle.com. Then go to the [Account tab of your user profile](https://www.kaggle.com/me/account) and select Create API Token. This will trigger the download of kaggle.json, a file containing your API credentials.\n",
        "\n",
        "Then run the cell below to upload kaggle.json to your Colab runtime."
      ]
    },
    {
      "cell_type": "code",
      "metadata": {
        "id": "0HtGf0HEXEa5",
        "colab": {
          "resources": {
            "http://localhost:8080/nbextensions/google.colab/files.js": {
              "data": "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",
              "ok": true,
              "headers": [
                [
                  "content-type",
                  "application/javascript"
                ]
              ],
              "status": 200,
              "status_text": ""
            }
          },
          "base_uri": "https://localhost:8080/",
          "height": 0
        },
        "outputId": "38237dce-3c74-49ba-cc14-b8826f87a1b6"
      },
      "source": [
        "from google.colab import files\n",
        "\n",
        "uploaded = files.upload()\n",
        "\n",
        "for fn in uploaded.keys():\n",
        "  print('User uploaded file \"{name}\" with length {length} bytes'.format(\n",
        "      name=fn, length=len(uploaded[fn])))\n",
        "  \n",
        "# Then move kaggle.json into the folder where the API expects to find it.\n",
        "!mkdir -p ~/.kaggle/ && mv kaggle.json ~/.kaggle/ && chmod 600 ~/.kaggle/kaggle.json"
      ],
      "execution_count": 5,
      "outputs": [
        {
          "output_type": "display_data",
          "data": {
            "text/html": [
              "\n",
              "     <input type=\"file\" id=\"files-666fc076-e02c-4465-ba02-e4cbe6373542\" name=\"files[]\" multiple disabled\n",
              "        style=\"border:none\" />\n",
              "     <output id=\"result-666fc076-e02c-4465-ba02-e4cbe6373542\">\n",
              "      Upload widget is only available when the cell has been executed in the\n",
              "      current browser session. Please rerun this cell to enable.\n",
              "      </output>\n",
              "      <script src=\"/nbextensions/google.colab/files.js\"></script> "
            ],
            "text/plain": [
              "<IPython.core.display.HTML object>"
            ]
          },
          "metadata": {}
        },
        {
          "output_type": "stream",
          "name": "stdout",
          "text": [
            "Saving kaggle.json to kaggle.json\n",
            "User uploaded file \"kaggle.json\" with length 70 bytes\n"
          ]
        }
      ]
    },
    {
      "cell_type": "markdown",
      "metadata": {
        "id": "-AaB9a4cq8Hx"
      },
      "source": [
        "## Load data and preprocess\n",
        "\n"
      ]
    },
    {
      "cell_type": "code",
      "metadata": {
        "tags": [],
        "id": "AehaSqAGq8H0",
        "colab": {
          "base_uri": "https://localhost:8080/"
        },
        "outputId": "c86a8738-efa0-4115-af53-81490def6eeb"
      },
      "source": [
        "!kaggle competitions download -c titanic"
      ],
      "execution_count": 6,
      "outputs": [
        {
          "output_type": "stream",
          "name": "stdout",
          "text": [
            "Warning: Looks like you're using an outdated API Version, please consider updating (server 1.5.12 / client 1.5.4)\n",
            "test.csv: Skipping, found more recently modified local copy (use --force to force download)\n",
            "train.csv: Skipping, found more recently modified local copy (use --force to force download)\n",
            "gender_submission.csv: Skipping, found more recently modified local copy (use --force to force download)\n"
          ]
        }
      ]
    },
    {
      "cell_type": "code",
      "metadata": {
        "colab": {
          "base_uri": "https://localhost:8080/"
        },
        "id": "xzazBY-A9I8Z",
        "outputId": "171baee3-9baf-4531-a536-7c201d84f8aa"
      },
      "source": [
        "!ls"
      ],
      "execution_count": 7,
      "outputs": [
        {
          "output_type": "stream",
          "name": "stdout",
          "text": [
            "ds_test.csv   gender_submission.csv  structured_data_classifier  train.csv\n",
            "ds_train.csv  sample_data\t     test.csv\n"
          ]
        }
      ]
    },
    {
      "cell_type": "code",
      "metadata": {
        "id": "dkEOzIzvu-pI"
      },
      "source": [
        "import pandas as pd\n",
        "import numpy as np\n",
        "\n",
        "dataset = pd.read_csv('train.csv')"
      ],
      "execution_count": 8,
      "outputs": []
    },
    {
      "cell_type": "code",
      "metadata": {
        "id": "AwiRWoq9_9b6"
      },
      "source": [
        "from sklearn.model_selection import train_test_split\n",
        "ds_train , ds_test = train_test_split(dataset, test_size=0.2, random_state=42)\n",
        "\n",
        "train_file_path = '/content/ds_train.csv'\n",
        "test_file_path = '/content/ds_test.csv'\n",
        "ds_train.to_csv(train_file_path)\n",
        "ds_test.to_csv(test_file_path)"
      ],
      "execution_count": 9,
      "outputs": []
    },
    {
      "cell_type": "code",
      "metadata": {
        "id": "76Qkjyl1vheB"
      },
      "source": [
        "X_train = ds_train.drop('Survived', axis=1)\n",
        "y_train = ds_train['Survived']\n",
        "X_test = ds_test.drop('Survived', axis=1)\n",
        "y_test = ds_test['Survived']"
      ],
      "execution_count": 10,
      "outputs": []
    },
    {
      "cell_type": "markdown",
      "metadata": {
        "id": "PUYUyOtlq8H3"
      },
      "source": [
        "## Run FLAML\n",
        "In the FLAML automl run configuration, users can specify the task type, time budget, error metric, learner list, whether to subsample, resampling strategy type, and so on. All these arguments have default values which will be used if users do not provide them. For example, the default ML learners of FLAML are `['lgbm', 'xgboost', 'catboost', 'rf', 'extra_tree', 'lrl1']`. "
      ]
    },
    {
      "cell_type": "code",
      "metadata": {
        "id": "PsIDbVI9q8Hv",
        "colab": {
          "base_uri": "https://localhost:8080/"
        },
        "outputId": "31c4d88e-c629-4346-e2a9-a2c9660c1c8f"
      },
      "source": [
        "!pip install flaml[notebook];"
      ],
      "execution_count": 15,
      "outputs": [
        {
          "output_type": "stream",
          "name": "stdout",
          "text": [
            "Requirement already satisfied: flaml[notebook] in /usr/local/lib/python3.7/dist-packages (0.6.3)\n",
            "Requirement already satisfied: lightgbm>=2.3.1 in /usr/local/lib/python3.7/dist-packages (from flaml[notebook]) (3.2.1)\n",
            "Requirement already satisfied: scikit-learn>=0.24 in /usr/local/lib/python3.7/dist-packages (from flaml[notebook]) (0.24.2)\n",
            "Requirement already satisfied: NumPy>=1.16.2 in /usr/local/lib/python3.7/dist-packages (from flaml[notebook]) (1.19.5)\n",
            "Requirement already satisfied: scipy>=1.4.1 in /usr/local/lib/python3.7/dist-packages (from flaml[notebook]) (1.4.1)\n",
            "Requirement already satisfied: catboost>=0.23 in /usr/local/lib/python3.7/dist-packages (from flaml[notebook]) (0.26.1)\n",
            "Requirement already satisfied: xgboost<=1.3.3,>=0.90 in /usr/local/lib/python3.7/dist-packages (from flaml[notebook]) (0.90)\n",
            "Requirement already satisfied: matplotlib==3.2.0 in /usr/local/lib/python3.7/dist-packages (from flaml[notebook]) (3.2.0)\n",
            "Requirement already satisfied: rgf-python in /usr/local/lib/python3.7/dist-packages (from flaml[notebook]) (3.11.0)\n",
            "Requirement already satisfied: jupyter in /usr/local/lib/python3.7/dist-packages (from flaml[notebook]) (1.0.0)\n",
            "Requirement already satisfied: openml==0.10.2 in /usr/local/lib/python3.7/dist-packages (from flaml[notebook]) (0.10.2)\n",
            "Requirement already satisfied: cycler>=0.10 in /usr/local/lib/python3.7/dist-packages (from matplotlib==3.2.0->flaml[notebook]) (0.10.0)\n",
            "Requirement already satisfied: pyparsing!=2.0.4,!=2.1.2,!=2.1.6,>=2.0.1 in /usr/local/lib/python3.7/dist-packages (from matplotlib==3.2.0->flaml[notebook]) (2.4.7)\n",
            "Requirement already satisfied: kiwisolver>=1.0.1 in /usr/local/lib/python3.7/dist-packages (from matplotlib==3.2.0->flaml[notebook]) (1.3.2)\n",
            "Requirement already satisfied: python-dateutil>=2.1 in /usr/local/lib/python3.7/dist-packages (from matplotlib==3.2.0->flaml[notebook]) (2.8.2)\n",
            "Requirement already satisfied: xmltodict in /usr/local/lib/python3.7/dist-packages (from openml==0.10.2->flaml[notebook]) (0.12.0)\n",
            "Requirement already satisfied: pandas>=0.19.2 in /usr/local/lib/python3.7/dist-packages (from openml==0.10.2->flaml[notebook]) (1.1.5)\n",
            "Requirement already satisfied: liac-arff>=2.4.0 in /usr/local/lib/python3.7/dist-packages (from openml==0.10.2->flaml[notebook]) (2.5.0)\n",
            "Requirement already satisfied: requests in /usr/local/lib/python3.7/dist-packages (from openml==0.10.2->flaml[notebook]) (2.23.0)\n",
            "Requirement already satisfied: six in /usr/local/lib/python3.7/dist-packages (from catboost>=0.23->flaml[notebook]) (1.15.0)\n",
            "Requirement already satisfied: graphviz in /usr/local/lib/python3.7/dist-packages (from catboost>=0.23->flaml[notebook]) (0.10.1)\n",
            "Requirement already satisfied: plotly in /usr/local/lib/python3.7/dist-packages (from catboost>=0.23->flaml[notebook]) (4.4.1)\n",
            "Requirement already satisfied: wheel in /usr/local/lib/python3.7/dist-packages (from lightgbm>=2.3.1->flaml[notebook]) (0.37.0)\n",
            "Requirement already satisfied: pytz>=2017.2 in /usr/local/lib/python3.7/dist-packages (from pandas>=0.19.2->openml==0.10.2->flaml[notebook]) (2018.9)\n",
            "Requirement already satisfied: joblib>=0.11 in /usr/local/lib/python3.7/dist-packages (from scikit-learn>=0.24->flaml[notebook]) (1.0.1)\n",
            "Requirement already satisfied: threadpoolctl>=2.0.0 in /usr/local/lib/python3.7/dist-packages (from scikit-learn>=0.24->flaml[notebook]) (2.2.0)\n",
            "Requirement already satisfied: ipykernel in /usr/local/lib/python3.7/dist-packages (from jupyter->flaml[notebook]) (4.10.1)\n",
            "Requirement already satisfied: nbconvert in /usr/local/lib/python3.7/dist-packages (from jupyter->flaml[notebook]) (5.6.1)\n",
            "Requirement already satisfied: jupyter-console in /usr/local/lib/python3.7/dist-packages (from jupyter->flaml[notebook]) (5.2.0)\n",
            "Requirement already satisfied: ipywidgets in /usr/local/lib/python3.7/dist-packages (from jupyter->flaml[notebook]) (7.6.5)\n",
            "Requirement already satisfied: qtconsole in /usr/local/lib/python3.7/dist-packages (from jupyter->flaml[notebook]) (5.1.1)\n",
            "Requirement already satisfied: notebook in /usr/local/lib/python3.7/dist-packages (from jupyter->flaml[notebook]) (5.3.1)\n",
            "Requirement already satisfied: ipython>=4.0.0 in /usr/local/lib/python3.7/dist-packages (from ipykernel->jupyter->flaml[notebook]) (5.5.0)\n",
            "Requirement already satisfied: traitlets>=4.1.0 in /usr/local/lib/python3.7/dist-packages (from ipykernel->jupyter->flaml[notebook]) (5.1.0)\n",
            "Requirement already satisfied: tornado>=4.0 in /usr/local/lib/python3.7/dist-packages (from ipykernel->jupyter->flaml[notebook]) (5.1.1)\n",
            "Requirement already satisfied: jupyter-client in /usr/local/lib/python3.7/dist-packages (from ipykernel->jupyter->flaml[notebook]) (5.3.5)\n",
            "Requirement already satisfied: pickleshare in /usr/local/lib/python3.7/dist-packages (from ipython>=4.0.0->ipykernel->jupyter->flaml[notebook]) (0.7.5)\n",
            "Requirement already satisfied: decorator in /usr/local/lib/python3.7/dist-packages (from ipython>=4.0.0->ipykernel->jupyter->flaml[notebook]) (4.4.2)\n",
            "Requirement already satisfied: pexpect in /usr/local/lib/python3.7/dist-packages (from ipython>=4.0.0->ipykernel->jupyter->flaml[notebook]) (4.8.0)\n",
            "Requirement already satisfied: setuptools>=18.5 in /usr/local/lib/python3.7/dist-packages (from ipython>=4.0.0->ipykernel->jupyter->flaml[notebook]) (57.4.0)\n",
            "Requirement already satisfied: pygments in /usr/local/lib/python3.7/dist-packages (from ipython>=4.0.0->ipykernel->jupyter->flaml[notebook]) (2.6.1)\n",
            "Requirement already satisfied: prompt-toolkit<2.0.0,>=1.0.4 in /usr/local/lib/python3.7/dist-packages (from ipython>=4.0.0->ipykernel->jupyter->flaml[notebook]) (1.0.18)\n",
            "Requirement already satisfied: simplegeneric>0.8 in /usr/local/lib/python3.7/dist-packages (from ipython>=4.0.0->ipykernel->jupyter->flaml[notebook]) (0.8.1)\n",
            "Requirement already satisfied: wcwidth in /usr/local/lib/python3.7/dist-packages (from prompt-toolkit<2.0.0,>=1.0.4->ipython>=4.0.0->ipykernel->jupyter->flaml[notebook]) (0.2.5)\n",
            "Requirement already satisfied: nbformat>=4.2.0 in /usr/local/lib/python3.7/dist-packages (from ipywidgets->jupyter->flaml[notebook]) (5.1.3)\n",
            "Requirement already satisfied: widgetsnbextension~=3.5.0 in /usr/local/lib/python3.7/dist-packages (from ipywidgets->jupyter->flaml[notebook]) (3.5.1)\n",
            "Requirement already satisfied: ipython-genutils~=0.2.0 in /usr/local/lib/python3.7/dist-packages (from ipywidgets->jupyter->flaml[notebook]) (0.2.0)\n",
            "Requirement already satisfied: jupyterlab-widgets>=1.0.0 in /usr/local/lib/python3.7/dist-packages (from ipywidgets->jupyter->flaml[notebook]) (1.0.2)\n",
            "Requirement already satisfied: jupyter-core in /usr/local/lib/python3.7/dist-packages (from nbformat>=4.2.0->ipywidgets->jupyter->flaml[notebook]) (4.7.1)\n",
            "Requirement already satisfied: jsonschema!=2.5.0,>=2.4 in /usr/local/lib/python3.7/dist-packages (from nbformat>=4.2.0->ipywidgets->jupyter->flaml[notebook]) (2.6.0)\n",
            "Requirement already satisfied: jinja2 in /usr/local/lib/python3.7/dist-packages (from notebook->jupyter->flaml[notebook]) (2.11.3)\n",
            "Requirement already satisfied: Send2Trash in /usr/local/lib/python3.7/dist-packages (from notebook->jupyter->flaml[notebook]) (1.8.0)\n",
            "Requirement already satisfied: terminado>=0.8.1 in /usr/local/lib/python3.7/dist-packages (from notebook->jupyter->flaml[notebook]) (0.12.1)\n",
            "Requirement already satisfied: pyzmq>=13 in /usr/local/lib/python3.7/dist-packages (from jupyter-client->ipykernel->jupyter->flaml[notebook]) (22.2.1)\n",
            "Requirement already satisfied: ptyprocess in /usr/local/lib/python3.7/dist-packages (from terminado>=0.8.1->notebook->jupyter->flaml[notebook]) (0.7.0)\n",
            "Requirement already satisfied: MarkupSafe>=0.23 in /usr/local/lib/python3.7/dist-packages (from jinja2->notebook->jupyter->flaml[notebook]) (2.0.1)\n",
            "Requirement already satisfied: bleach in /usr/local/lib/python3.7/dist-packages (from nbconvert->jupyter->flaml[notebook]) (4.1.0)\n",
            "Requirement already satisfied: mistune<2,>=0.8.1 in /usr/local/lib/python3.7/dist-packages (from nbconvert->jupyter->flaml[notebook]) (0.8.4)\n",
            "Requirement already satisfied: pandocfilters>=1.4.1 in /usr/local/lib/python3.7/dist-packages (from nbconvert->jupyter->flaml[notebook]) (1.5.0)\n",
            "Requirement already satisfied: testpath in /usr/local/lib/python3.7/dist-packages (from nbconvert->jupyter->flaml[notebook]) (0.5.0)\n",
            "Requirement already satisfied: entrypoints>=0.2.2 in /usr/local/lib/python3.7/dist-packages (from nbconvert->jupyter->flaml[notebook]) (0.3)\n",
            "Requirement already satisfied: defusedxml in /usr/local/lib/python3.7/dist-packages (from nbconvert->jupyter->flaml[notebook]) (0.7.1)\n",
            "Requirement already satisfied: packaging in /usr/local/lib/python3.7/dist-packages (from bleach->nbconvert->jupyter->flaml[notebook]) (21.0)\n",
            "Requirement already satisfied: webencodings in /usr/local/lib/python3.7/dist-packages (from bleach->nbconvert->jupyter->flaml[notebook]) (0.5.1)\n",
            "Requirement already satisfied: retrying>=1.3.3 in /usr/local/lib/python3.7/dist-packages (from plotly->catboost>=0.23->flaml[notebook]) (1.3.3)\n",
            "Requirement already satisfied: qtpy in /usr/local/lib/python3.7/dist-packages (from qtconsole->jupyter->flaml[notebook]) (1.11.1)\n",
            "Requirement already satisfied: idna<3,>=2.5 in /usr/local/lib/python3.7/dist-packages (from requests->openml==0.10.2->flaml[notebook]) (2.10)\n",
            "Requirement already satisfied: certifi>=2017.4.17 in /usr/local/lib/python3.7/dist-packages (from requests->openml==0.10.2->flaml[notebook]) (2021.5.30)\n",
            "Requirement already satisfied: urllib3!=1.25.0,!=1.25.1,<1.26,>=1.21.1 in /usr/local/lib/python3.7/dist-packages (from requests->openml==0.10.2->flaml[notebook]) (1.24.3)\n",
            "Requirement already satisfied: chardet<4,>=3.0.2 in /usr/local/lib/python3.7/dist-packages (from requests->openml==0.10.2->flaml[notebook]) (3.0.4)\n"
          ]
        }
      ]
    },
    {
      "cell_type": "code",
      "metadata": {
        "id": "WMayPhVTq8H6"
      },
      "source": [
        "''' import AutoML class from flaml package '''\n",
        "from flaml import AutoML\n",
        "automl = AutoML()"
      ],
      "execution_count": 16,
      "outputs": []
    },
    {
      "cell_type": "code",
      "metadata": {
        "id": "c6rD7ScAq8H7"
      },
      "source": [
        "settings = {\n",
        "    \"time_budget\": 240,  # total running time in seconds\n",
        "    \"metric\": 'accuracy',  # can be: 'r2', 'rmse', 'mae', 'mse', 'accuracy', 'roc_auc', 'roc_auc_ovr',\n",
        "                           # 'roc_auc_ovo', 'log_loss', 'mape', 'f1', 'ap', 'ndcg', 'micro_f1', 'macro_f1'\n",
        "    \"task\": 'classification',  # task type    \n",
        "    \"log_file_name\": 'airlines_experiment.log',  # flaml log file\n",
        "    \"seed\": 7654321,    # random seed\n",
        "}"
      ],
      "execution_count": 17,
      "outputs": []
    },
    {
      "cell_type": "code",
      "metadata": {
        "tags": [
          "outputPrepend"
        ],
        "id": "i2uja2qSq8H8",
        "colab": {
          "base_uri": "https://localhost:8080/"
        },
        "outputId": "a29486c8-d639-429e-f100-7f00250ca354"
      },
      "source": [
        "'''The main flaml automl API'''\n",
        "automl.fit(X_train=X_train, y_train=y_train, **settings)"
      ],
      "execution_count": 18,
      "outputs": [
        {
          "output_type": "stream",
          "name": "stderr",
          "text": [
            "[flaml.automl: 09-19 14:41:49] {1427} INFO - Evaluation method: cv\n",
            "[flaml.automl: 09-19 14:41:49] {1473} INFO - Minimizing error metric: 1-accuracy\n",
            "[flaml.automl: 09-19 14:41:49] {1505} INFO - List of ML learners in AutoML Run: ['lgbm', 'rf', 'catboost', 'xgboost', 'extra_tree', 'lrl1']\n",
            "[flaml.automl: 09-19 14:41:49] {1735} INFO - iteration 0, current learner lgbm\n",
            "[flaml.automl: 09-19 14:41:50] {1920} INFO -  at 0.3s,\tbest lgbm's error=0.2079,\tbest lgbm's error=0.2079\n",
            "[flaml.automl: 09-19 14:41:50] {1735} INFO - iteration 1, current learner lgbm\n",
            "[flaml.automl: 09-19 14:41:50] {1920} INFO -  at 0.5s,\tbest lgbm's error=0.2079,\tbest lgbm's error=0.2079\n",
            "[flaml.automl: 09-19 14:41:50] {1735} INFO - iteration 2, current learner lgbm\n",
            "[flaml.automl: 09-19 14:41:50] {1920} INFO -  at 0.7s,\tbest lgbm's error=0.2037,\tbest lgbm's error=0.2037\n",
            "[flaml.automl: 09-19 14:41:50] {1735} INFO - iteration 3, current learner xgboost\n",
            "[flaml.automl: 09-19 14:41:51] {1920} INFO -  at 1.6s,\tbest xgboost's error=0.2065,\tbest lgbm's error=0.2037\n",
            "[flaml.automl: 09-19 14:41:51] {1735} INFO - iteration 4, current learner lgbm\n",
            "[flaml.automl: 09-19 14:41:51] {1920} INFO -  at 1.8s,\tbest lgbm's error=0.1924,\tbest lgbm's error=0.1924\n",
            "[flaml.automl: 09-19 14:41:51] {1735} INFO - iteration 5, current learner lgbm\n",
            "[flaml.automl: 09-19 14:41:51] {1920} INFO -  at 2.0s,\tbest lgbm's error=0.1924,\tbest lgbm's error=0.1924\n",
            "[flaml.automl: 09-19 14:41:51] {1735} INFO - iteration 6, current learner lgbm\n",
            "[flaml.automl: 09-19 14:41:51] {1920} INFO -  at 2.2s,\tbest lgbm's error=0.1924,\tbest lgbm's error=0.1924\n",
            "[flaml.automl: 09-19 14:41:51] {1735} INFO - iteration 7, current learner extra_tree\n",
            "[flaml.automl: 09-19 14:41:53] {1920} INFO -  at 3.5s,\tbest extra_tree's error=0.2206,\tbest lgbm's error=0.1924\n",
            "[flaml.automl: 09-19 14:41:53] {1735} INFO - iteration 8, current learner lgbm\n",
            "[flaml.automl: 09-19 14:41:53] {1920} INFO -  at 3.8s,\tbest lgbm's error=0.1924,\tbest lgbm's error=0.1924\n",
            "[flaml.automl: 09-19 14:41:53] {1735} INFO - iteration 9, current learner rf\n",
            "[flaml.automl: 09-19 14:41:54] {1920} INFO -  at 5.1s,\tbest rf's error=0.1967,\tbest lgbm's error=0.1924\n",
            "[flaml.automl: 09-19 14:41:54] {1735} INFO - iteration 10, current learner lgbm\n",
            "[flaml.automl: 09-19 14:41:54] {1920} INFO -  at 5.2s,\tbest lgbm's error=0.1826,\tbest lgbm's error=0.1826\n",
            "[flaml.automl: 09-19 14:41:54] {1735} INFO - iteration 11, current learner rf\n",
            "[flaml.automl: 09-19 14:41:56] {1920} INFO -  at 6.5s,\tbest rf's error=0.1742,\tbest rf's error=0.1742\n",
            "[flaml.automl: 09-19 14:41:56] {1735} INFO - iteration 12, current learner rf\n",
            "[flaml.automl: 09-19 14:41:57] {1920} INFO -  at 7.9s,\tbest rf's error=0.1742,\tbest rf's error=0.1742\n",
            "[flaml.automl: 09-19 14:41:57] {1735} INFO - iteration 13, current learner xgboost\n",
            "[flaml.automl: 09-19 14:41:57] {1920} INFO -  at 8.0s,\tbest xgboost's error=0.2051,\tbest rf's error=0.1742\n",
            "[flaml.automl: 09-19 14:41:57] {1735} INFO - iteration 14, current learner rf\n",
            "[flaml.automl: 09-19 14:41:59] {1920} INFO -  at 9.5s,\tbest rf's error=0.1742,\tbest rf's error=0.1742\n",
            "[flaml.automl: 09-19 14:41:59] {1735} INFO - iteration 15, current learner extra_tree\n",
            "[flaml.automl: 09-19 14:42:00] {1920} INFO -  at 10.8s,\tbest extra_tree's error=0.1798,\tbest rf's error=0.1742\n",
            "[flaml.automl: 09-19 14:42:00] {1735} INFO - iteration 16, current learner lgbm\n",
            "[flaml.automl: 09-19 14:42:00] {1920} INFO -  at 11.0s,\tbest lgbm's error=0.1826,\tbest rf's error=0.1742\n",
            "[flaml.automl: 09-19 14:42:00] {1735} INFO - iteration 17, current learner extra_tree\n",
            "[flaml.automl: 09-19 14:42:02] {1920} INFO -  at 12.3s,\tbest extra_tree's error=0.1798,\tbest rf's error=0.1742\n",
            "[flaml.automl: 09-19 14:42:02] {1735} INFO - iteration 18, current learner lgbm\n",
            "[flaml.automl: 09-19 14:42:02] {1920} INFO -  at 12.5s,\tbest lgbm's error=0.1826,\tbest rf's error=0.1742\n",
            "[flaml.automl: 09-19 14:42:02] {1735} INFO - iteration 19, current learner extra_tree\n",
            "[flaml.automl: 09-19 14:42:03] {1920} INFO -  at 13.9s,\tbest extra_tree's error=0.1798,\tbest rf's error=0.1742\n",
            "[flaml.automl: 09-19 14:42:03] {1735} INFO - iteration 20, current learner rf\n",
            "[flaml.automl: 09-19 14:42:04] {1920} INFO -  at 15.2s,\tbest rf's error=0.1742,\tbest rf's error=0.1742\n",
            "[flaml.automl: 09-19 14:42:05] {1735} INFO - iteration 21, current learner rf\n",
            "[flaml.automl: 09-19 14:42:06] {1920} INFO -  at 16.7s,\tbest rf's error=0.1742,\tbest rf's error=0.1742\n",
            "[flaml.automl: 09-19 14:42:06] {1735} INFO - iteration 22, current learner lgbm\n",
            "[flaml.automl: 09-19 14:42:06] {1920} INFO -  at 16.9s,\tbest lgbm's error=0.1812,\tbest rf's error=0.1742\n",
            "[flaml.automl: 09-19 14:42:06] {1735} INFO - iteration 23, current learner lgbm\n",
            "[flaml.automl: 09-19 14:42:06] {1920} INFO -  at 17.1s,\tbest lgbm's error=0.1812,\tbest rf's error=0.1742\n",
            "[flaml.automl: 09-19 14:42:06] {1735} INFO - iteration 24, current learner extra_tree\n",
            "[flaml.automl: 09-19 14:42:08] {1920} INFO -  at 18.4s,\tbest extra_tree's error=0.1672,\tbest extra_tree's error=0.1672\n",
            "[flaml.automl: 09-19 14:42:08] {1735} INFO - iteration 25, current learner catboost\n",
            "[flaml.automl: 09-19 14:42:09] {1920} INFO -  at 19.5s,\tbest catboost's error=0.1770,\tbest extra_tree's error=0.1672\n",
            "[flaml.automl: 09-19 14:42:09] {1735} INFO - iteration 26, current learner extra_tree\n",
            "[flaml.automl: 09-19 14:42:10] {1920} INFO -  at 21.0s,\tbest extra_tree's error=0.1672,\tbest extra_tree's error=0.1672\n",
            "[flaml.automl: 09-19 14:42:10] {1735} INFO - iteration 27, current learner catboost\n",
            "[flaml.automl: 09-19 14:42:11] {1920} INFO -  at 22.2s,\tbest catboost's error=0.1756,\tbest extra_tree's error=0.1672\n",
            "[flaml.automl: 09-19 14:42:11] {1735} INFO - iteration 28, current learner extra_tree\n",
            "[flaml.automl: 09-19 14:42:13] {1920} INFO -  at 23.5s,\tbest extra_tree's error=0.1672,\tbest extra_tree's error=0.1672\n",
            "[flaml.automl: 09-19 14:42:13] {1735} INFO - iteration 29, current learner extra_tree\n",
            "[flaml.automl: 09-19 14:42:14] {1920} INFO -  at 24.9s,\tbest extra_tree's error=0.1672,\tbest extra_tree's error=0.1672\n",
            "[flaml.automl: 09-19 14:42:14] {1735} INFO - iteration 30, current learner extra_tree\n",
            "[flaml.automl: 09-19 14:42:15] {1920} INFO -  at 26.2s,\tbest extra_tree's error=0.1672,\tbest extra_tree's error=0.1672\n",
            "[flaml.automl: 09-19 14:42:15] {1735} INFO - iteration 31, current learner lgbm\n",
            "[flaml.automl: 09-19 14:42:16] {1920} INFO -  at 26.4s,\tbest lgbm's error=0.1812,\tbest extra_tree's error=0.1672\n",
            "[flaml.automl: 09-19 14:42:16] {1735} INFO - iteration 32, current learner lgbm\n",
            "[flaml.automl: 09-19 14:42:16] {1920} INFO -  at 26.7s,\tbest lgbm's error=0.1812,\tbest extra_tree's error=0.1672\n",
            "[flaml.automl: 09-19 14:42:16] {1735} INFO - iteration 33, current learner rf\n",
            "[flaml.automl: 09-19 14:42:17] {1920} INFO -  at 28.0s,\tbest rf's error=0.1742,\tbest extra_tree's error=0.1672\n",
            "[flaml.automl: 09-19 14:42:17] {1735} INFO - iteration 34, current learner extra_tree\n",
            "[flaml.automl: 09-19 14:42:19] {1920} INFO -  at 29.4s,\tbest extra_tree's error=0.1672,\tbest extra_tree's error=0.1672\n",
            "[flaml.automl: 09-19 14:42:19] {1735} INFO - iteration 35, current learner rf\n",
            "[flaml.automl: 09-19 14:42:20] {1920} INFO -  at 30.8s,\tbest rf's error=0.1742,\tbest extra_tree's error=0.1672\n",
            "[flaml.automl: 09-19 14:42:20] {1735} INFO - iteration 36, current learner catboost\n",
            "[flaml.automl: 09-19 14:42:21] {1920} INFO -  at 31.8s,\tbest catboost's error=0.1756,\tbest extra_tree's error=0.1672\n",
            "[flaml.automl: 09-19 14:42:21] {1735} INFO - iteration 37, current learner extra_tree\n",
            "[flaml.automl: 09-19 14:42:22] {1920} INFO -  at 33.1s,\tbest extra_tree's error=0.1672,\tbest extra_tree's error=0.1672\n",
            "[flaml.automl: 09-19 14:42:22] {1735} INFO - iteration 38, current learner xgboost\n",
            "[flaml.automl: 09-19 14:42:23] {1920} INFO -  at 33.3s,\tbest xgboost's error=0.2051,\tbest extra_tree's error=0.1672\n",
            "[flaml.automl: 09-19 14:42:23] {1735} INFO - iteration 39, current learner extra_tree\n",
            "[flaml.automl: 09-19 14:42:24] {1920} INFO -  at 34.6s,\tbest extra_tree's error=0.1672,\tbest extra_tree's error=0.1672\n",
            "[flaml.automl: 09-19 14:42:24] {1735} INFO - iteration 40, current learner rf\n",
            "[flaml.automl: 09-19 14:42:25] {1920} INFO -  at 35.9s,\tbest rf's error=0.1742,\tbest extra_tree's error=0.1672\n",
            "[flaml.automl: 09-19 14:42:25] {1735} INFO - iteration 41, current learner xgboost\n",
            "[flaml.automl: 09-19 14:42:25] {1920} INFO -  at 36.1s,\tbest xgboost's error=0.2051,\tbest extra_tree's error=0.1672\n",
            "[flaml.automl: 09-19 14:42:25] {1735} INFO - iteration 42, current learner extra_tree\n",
            "[flaml.automl: 09-19 14:42:27] {1920} INFO -  at 37.5s,\tbest extra_tree's error=0.1672,\tbest extra_tree's error=0.1672\n",
            "[flaml.automl: 09-19 14:42:27] {1735} INFO - iteration 43, current learner lgbm\n",
            "[flaml.automl: 09-19 14:42:27] {1920} INFO -  at 37.8s,\tbest lgbm's error=0.1812,\tbest extra_tree's error=0.1672\n",
            "[flaml.automl: 09-19 14:42:27] {1735} INFO - iteration 44, current learner extra_tree\n",
            "[flaml.automl: 09-19 14:42:28] {1920} INFO -  at 39.1s,\tbest extra_tree's error=0.1672,\tbest extra_tree's error=0.1672\n",
            "[flaml.automl: 09-19 14:42:28] {1735} INFO - iteration 45, current learner extra_tree\n",
            "[flaml.automl: 09-19 14:42:30] {1920} INFO -  at 40.5s,\tbest extra_tree's error=0.1672,\tbest extra_tree's error=0.1672\n",
            "[flaml.automl: 09-19 14:42:30] {1735} INFO - iteration 46, current learner extra_tree\n",
            "[flaml.automl: 09-19 14:42:31] {1920} INFO -  at 41.8s,\tbest extra_tree's error=0.1672,\tbest extra_tree's error=0.1672\n",
            "[flaml.automl: 09-19 14:42:31] {1735} INFO - iteration 47, current learner rf\n",
            "[flaml.automl: 09-19 14:42:32] {1920} INFO -  at 43.2s,\tbest rf's error=0.1742,\tbest extra_tree's error=0.1672\n",
            "[flaml.automl: 09-19 14:42:33] {1735} INFO - iteration 48, current learner extra_tree\n",
            "[flaml.automl: 09-19 14:42:34] {1920} INFO -  at 44.7s,\tbest extra_tree's error=0.1672,\tbest extra_tree's error=0.1672\n",
            "[flaml.automl: 09-19 14:42:34] {1735} INFO - iteration 49, current learner lgbm\n",
            "[flaml.automl: 09-19 14:42:34] {1920} INFO -  at 44.9s,\tbest lgbm's error=0.1812,\tbest extra_tree's error=0.1672\n",
            "[flaml.automl: 09-19 14:42:34] {1735} INFO - iteration 50, current learner rf\n",
            "[flaml.automl: 09-19 14:42:35] {1920} INFO -  at 46.2s,\tbest rf's error=0.1742,\tbest extra_tree's error=0.1672\n",
            "[flaml.automl: 09-19 14:42:35] {1735} INFO - iteration 51, current learner extra_tree\n",
            "[flaml.automl: 09-19 14:42:37] {1920} INFO -  at 47.5s,\tbest extra_tree's error=0.1672,\tbest extra_tree's error=0.1672\n",
            "[flaml.automl: 09-19 14:42:37] {1735} INFO - iteration 52, current learner rf\n",
            "[flaml.automl: 09-19 14:42:38] {1920} INFO -  at 48.8s,\tbest rf's error=0.1742,\tbest extra_tree's error=0.1672\n",
            "[flaml.automl: 09-19 14:42:38] {1735} INFO - iteration 53, current learner rf\n",
            "[flaml.automl: 09-19 14:42:40] {1920} INFO -  at 50.3s,\tbest rf's error=0.1742,\tbest extra_tree's error=0.1672\n",
            "[flaml.automl: 09-19 14:42:40] {1735} INFO - iteration 54, current learner lgbm\n",
            "[flaml.automl: 09-19 14:42:40] {1920} INFO -  at 50.5s,\tbest lgbm's error=0.1812,\tbest extra_tree's error=0.1672\n",
            "[flaml.automl: 09-19 14:42:40] {1735} INFO - iteration 55, current learner lgbm\n",
            "[flaml.automl: 09-19 14:42:40] {1920} INFO -  at 50.7s,\tbest lgbm's error=0.1812,\tbest extra_tree's error=0.1672\n",
            "[flaml.automl: 09-19 14:42:40] {1735} INFO - iteration 56, current learner xgboost\n",
            "[flaml.automl: 09-19 14:42:40] {1920} INFO -  at 50.9s,\tbest xgboost's error=0.2022,\tbest extra_tree's error=0.1672\n",
            "[flaml.automl: 09-19 14:42:40] {1735} INFO - iteration 57, current learner rf\n",
            "[flaml.automl: 09-19 14:42:41] {1920} INFO -  at 52.2s,\tbest rf's error=0.1742,\tbest extra_tree's error=0.1672\n",
            "[flaml.automl: 09-19 14:42:41] {1735} INFO - iteration 58, current learner rf\n",
            "[flaml.automl: 09-19 14:42:43] {1920} INFO -  at 53.6s,\tbest rf's error=0.1742,\tbest extra_tree's error=0.1672\n",
            "[flaml.automl: 09-19 14:42:43] {1735} INFO - iteration 59, current learner xgboost\n",
            "[flaml.automl: 09-19 14:42:43] {1920} INFO -  at 53.8s,\tbest xgboost's error=0.2022,\tbest extra_tree's error=0.1672\n",
            "[flaml.automl: 09-19 14:42:43] {1735} INFO - iteration 60, current learner lgbm\n",
            "[flaml.automl: 09-19 14:42:43] {1920} INFO -  at 54.1s,\tbest lgbm's error=0.1812,\tbest extra_tree's error=0.1672\n",
            "[flaml.automl: 09-19 14:42:43] {1735} INFO - iteration 61, current learner xgboost\n",
            "[flaml.automl: 09-19 14:42:44] {1920} INFO -  at 54.3s,\tbest xgboost's error=0.1854,\tbest extra_tree's error=0.1672\n",
            "[flaml.automl: 09-19 14:42:44] {1735} INFO - iteration 62, current learner xgboost\n",
            "[flaml.automl: 09-19 14:42:44] {1920} INFO -  at 54.5s,\tbest xgboost's error=0.1854,\tbest extra_tree's error=0.1672\n",
            "[flaml.automl: 09-19 14:42:44] {1735} INFO - iteration 63, current learner xgboost\n",
            "[flaml.automl: 09-19 14:42:44] {1920} INFO -  at 54.7s,\tbest xgboost's error=0.1854,\tbest extra_tree's error=0.1672\n",
            "[flaml.automl: 09-19 14:42:44] {1735} INFO - iteration 64, current learner xgboost\n",
            "[flaml.automl: 09-19 14:42:44] {1920} INFO -  at 54.9s,\tbest xgboost's error=0.1826,\tbest extra_tree's error=0.1672\n",
            "[flaml.automl: 09-19 14:42:44] {1735} INFO - iteration 65, current learner rf\n",
            "[flaml.automl: 09-19 14:42:45] {1920} INFO -  at 56.2s,\tbest rf's error=0.1742,\tbest extra_tree's error=0.1672\n",
            "[flaml.automl: 09-19 14:42:45] {1735} INFO - iteration 66, current learner xgboost\n",
            "[flaml.automl: 09-19 14:42:46] {1920} INFO -  at 56.4s,\tbest xgboost's error=0.1784,\tbest extra_tree's error=0.1672\n",
            "[flaml.automl: 09-19 14:42:46] {1735} INFO - iteration 67, current learner xgboost\n",
            "[flaml.automl: 09-19 14:42:46] {1920} INFO -  at 56.6s,\tbest xgboost's error=0.1784,\tbest extra_tree's error=0.1672\n",
            "[flaml.automl: 09-19 14:42:46] {1735} INFO - iteration 68, current learner xgboost\n",
            "[flaml.automl: 09-19 14:42:46] {1920} INFO -  at 56.8s,\tbest xgboost's error=0.1784,\tbest extra_tree's error=0.1672\n",
            "[flaml.automl: 09-19 14:42:46] {1735} INFO - iteration 69, current learner rf\n",
            "[flaml.automl: 09-19 14:42:47] {1920} INFO -  at 58.2s,\tbest rf's error=0.1742,\tbest extra_tree's error=0.1672\n",
            "[flaml.automl: 09-19 14:42:47] {1735} INFO - iteration 70, current learner xgboost\n",
            "[flaml.automl: 09-19 14:42:48] {1920} INFO -  at 58.4s,\tbest xgboost's error=0.1700,\tbest extra_tree's error=0.1672\n",
            "[flaml.automl: 09-19 14:42:48] {1735} INFO - iteration 71, current learner xgboost\n",
            "[flaml.automl: 09-19 14:42:48] {1920} INFO -  at 58.6s,\tbest xgboost's error=0.1700,\tbest extra_tree's error=0.1672\n",
            "[flaml.automl: 09-19 14:42:48] {1735} INFO - iteration 72, current learner xgboost\n",
            "[flaml.automl: 09-19 14:42:48] {1920} INFO -  at 58.8s,\tbest xgboost's error=0.1700,\tbest extra_tree's error=0.1672\n",
            "[flaml.automl: 09-19 14:42:48] {1735} INFO - iteration 73, current learner xgboost\n",
            "[flaml.automl: 09-19 14:42:48] {1920} INFO -  at 59.0s,\tbest xgboost's error=0.1700,\tbest extra_tree's error=0.1672\n",
            "[flaml.automl: 09-19 14:42:48] {1735} INFO - iteration 74, current learner xgboost\n",
            "[flaml.automl: 09-19 14:42:48] {1920} INFO -  at 59.2s,\tbest xgboost's error=0.1700,\tbest extra_tree's error=0.1672\n",
            "[flaml.automl: 09-19 14:42:48] {1735} INFO - iteration 75, current learner xgboost\n",
            "[flaml.automl: 09-19 14:42:49] {1920} INFO -  at 59.4s,\tbest xgboost's error=0.1700,\tbest extra_tree's error=0.1672\n",
            "[flaml.automl: 09-19 14:42:49] {1735} INFO - iteration 76, current learner xgboost\n",
            "[flaml.automl: 09-19 14:42:49] {1920} INFO -  at 59.6s,\tbest xgboost's error=0.1700,\tbest extra_tree's error=0.1672\n",
            "[flaml.automl: 09-19 14:42:49] {1735} INFO - iteration 77, current learner xgboost\n",
            "[flaml.automl: 09-19 14:42:49] {1920} INFO -  at 59.8s,\tbest xgboost's error=0.1700,\tbest extra_tree's error=0.1672\n",
            "[flaml.automl: 09-19 14:42:49] {1735} INFO - iteration 78, current learner xgboost\n",
            "[flaml.automl: 09-19 14:42:49] {1920} INFO -  at 60.0s,\tbest xgboost's error=0.1700,\tbest extra_tree's error=0.1672\n",
            "[flaml.automl: 09-19 14:42:49] {1735} INFO - iteration 79, current learner xgboost\n",
            "[flaml.automl: 09-19 14:42:49] {1920} INFO -  at 60.2s,\tbest xgboost's error=0.1700,\tbest extra_tree's error=0.1672\n",
            "[flaml.automl: 09-19 14:42:49] {1735} INFO - iteration 80, current learner xgboost\n",
            "[flaml.automl: 09-19 14:42:50] {1920} INFO -  at 60.4s,\tbest xgboost's error=0.1700,\tbest extra_tree's error=0.1672\n",
            "[flaml.automl: 09-19 14:42:50] {1735} INFO - iteration 81, current learner extra_tree\n",
            "[flaml.automl: 09-19 14:42:51] {1920} INFO -  at 61.8s,\tbest extra_tree's error=0.1672,\tbest extra_tree's error=0.1672\n",
            "[flaml.automl: 09-19 14:42:51] {1735} INFO - iteration 82, current learner xgboost\n",
            "[flaml.automl: 09-19 14:42:51] {1920} INFO -  at 62.0s,\tbest xgboost's error=0.1700,\tbest extra_tree's error=0.1672\n",
            "[flaml.automl: 09-19 14:42:51] {1735} INFO - iteration 83, current learner xgboost\n",
            "[flaml.automl: 09-19 14:42:51] {1920} INFO -  at 62.2s,\tbest xgboost's error=0.1700,\tbest extra_tree's error=0.1672\n",
            "[flaml.automl: 09-19 14:42:51] {1735} INFO - iteration 84, current learner xgboost\n",
            "[flaml.automl: 09-19 14:42:52] {1920} INFO -  at 62.5s,\tbest xgboost's error=0.1700,\tbest extra_tree's error=0.1672\n",
            "[flaml.automl: 09-19 14:42:52] {1735} INFO - iteration 85, current learner xgboost\n",
            "[flaml.automl: 09-19 14:42:52] {1920} INFO -  at 62.7s,\tbest xgboost's error=0.1700,\tbest extra_tree's error=0.1672\n",
            "[flaml.automl: 09-19 14:42:52] {1735} INFO - iteration 86, current learner xgboost\n",
            "[flaml.automl: 09-19 14:42:52] {1920} INFO -  at 62.9s,\tbest xgboost's error=0.1700,\tbest extra_tree's error=0.1672\n",
            "[flaml.automl: 09-19 14:42:52] {1735} INFO - iteration 87, current learner xgboost\n",
            "[flaml.automl: 09-19 14:42:52] {1920} INFO -  at 63.0s,\tbest xgboost's error=0.1700,\tbest extra_tree's error=0.1672\n",
            "[flaml.automl: 09-19 14:42:52] {1735} INFO - iteration 88, current learner xgboost\n",
            "[flaml.automl: 09-19 14:42:53] {1920} INFO -  at 63.3s,\tbest xgboost's error=0.1700,\tbest extra_tree's error=0.1672\n",
            "[flaml.automl: 09-19 14:42:53] {1735} INFO - iteration 89, current learner xgboost\n",
            "[flaml.automl: 09-19 14:42:53] {1920} INFO -  at 63.4s,\tbest xgboost's error=0.1700,\tbest extra_tree's error=0.1672\n",
            "[flaml.automl: 09-19 14:42:53] {1735} INFO - iteration 90, current learner extra_tree\n",
            "[flaml.automl: 09-19 14:42:54] {1920} INFO -  at 64.8s,\tbest extra_tree's error=0.1672,\tbest extra_tree's error=0.1672\n",
            "[flaml.automl: 09-19 14:42:54] {1735} INFO - iteration 91, current learner xgboost\n",
            "[flaml.automl: 09-19 14:42:54] {1920} INFO -  at 65.0s,\tbest xgboost's error=0.1700,\tbest extra_tree's error=0.1672\n",
            "[flaml.automl: 09-19 14:42:54] {1735} INFO - iteration 92, current learner extra_tree\n",
            "[flaml.automl: 09-19 14:42:56] {1920} INFO -  at 66.3s,\tbest extra_tree's error=0.1672,\tbest extra_tree's error=0.1672\n",
            "[flaml.automl: 09-19 14:42:56] {1735} INFO - iteration 93, current learner xgboost\n",
            "[flaml.automl: 09-19 14:42:56] {1920} INFO -  at 66.5s,\tbest xgboost's error=0.1700,\tbest extra_tree's error=0.1672\n",
            "[flaml.automl: 09-19 14:42:56] {1735} INFO - iteration 94, current learner xgboost\n",
            "[flaml.automl: 09-19 14:42:56] {1920} INFO -  at 66.7s,\tbest xgboost's error=0.1700,\tbest extra_tree's error=0.1672\n",
            "[flaml.automl: 09-19 14:42:56] {1735} INFO - iteration 95, current learner rf\n",
            "[flaml.automl: 09-19 14:42:57] {1920} INFO -  at 68.0s,\tbest rf's error=0.1742,\tbest extra_tree's error=0.1672\n",
            "[flaml.automl: 09-19 14:42:57] {1735} INFO - iteration 96, current learner extra_tree\n",
            "[flaml.automl: 09-19 14:42:59] {1920} INFO -  at 69.3s,\tbest extra_tree's error=0.1672,\tbest extra_tree's error=0.1672\n",
            "[flaml.automl: 09-19 14:42:59] {1735} INFO - iteration 97, current learner xgboost\n",
            "[flaml.automl: 09-19 14:42:59] {1920} INFO -  at 69.5s,\tbest xgboost's error=0.1644,\tbest xgboost's error=0.1644\n",
            "[flaml.automl: 09-19 14:42:59] {1735} INFO - iteration 98, current learner xgboost\n",
            "[flaml.automl: 09-19 14:42:59] {1920} INFO -  at 69.8s,\tbest xgboost's error=0.1644,\tbest xgboost's error=0.1644\n",
            "[flaml.automl: 09-19 14:42:59] {1735} INFO - iteration 99, current learner xgboost\n",
            "[flaml.automl: 09-19 14:42:59] {1920} INFO -  at 70.0s,\tbest xgboost's error=0.1644,\tbest xgboost's error=0.1644\n",
            "[flaml.automl: 09-19 14:42:59] {1735} INFO - iteration 100, current learner catboost\n",
            "[flaml.automl: 09-19 14:43:01] {1920} INFO -  at 71.5s,\tbest catboost's error=0.1714,\tbest xgboost's error=0.1644\n",
            "[flaml.automl: 09-19 14:43:01] {1735} INFO - iteration 101, current learner xgboost\n",
            "[flaml.automl: 09-19 14:43:01] {1920} INFO -  at 71.7s,\tbest xgboost's error=0.1644,\tbest xgboost's error=0.1644\n",
            "[flaml.automl: 09-19 14:43:01] {1735} INFO - iteration 102, current learner xgboost\n",
            "[flaml.automl: 09-19 14:43:01] {1920} INFO -  at 71.9s,\tbest xgboost's error=0.1644,\tbest xgboost's error=0.1644\n",
            "[flaml.automl: 09-19 14:43:01] {1735} INFO - iteration 103, current learner lgbm\n",
            "[flaml.automl: 09-19 14:43:01] {1920} INFO -  at 72.2s,\tbest lgbm's error=0.1812,\tbest xgboost's error=0.1644\n",
            "[flaml.automl: 09-19 14:43:01] {1735} INFO - iteration 104, current learner xgboost\n",
            "[flaml.automl: 09-19 14:43:02] {1920} INFO -  at 72.4s,\tbest xgboost's error=0.1644,\tbest xgboost's error=0.1644\n",
            "[flaml.automl: 09-19 14:43:02] {1735} INFO - iteration 105, current learner catboost\n",
            "[flaml.automl: 09-19 14:43:03] {1920} INFO -  at 73.6s,\tbest catboost's error=0.1714,\tbest xgboost's error=0.1644\n",
            "[flaml.automl: 09-19 14:43:03] {1735} INFO - iteration 106, current learner xgboost\n",
            "[flaml.automl: 09-19 14:43:03] {1920} INFO -  at 73.8s,\tbest xgboost's error=0.1644,\tbest xgboost's error=0.1644\n",
            "[flaml.automl: 09-19 14:43:03] {1735} INFO - iteration 107, current learner xgboost\n",
            "[flaml.automl: 09-19 14:43:03] {1920} INFO -  at 74.1s,\tbest xgboost's error=0.1644,\tbest xgboost's error=0.1644\n",
            "[flaml.automl: 09-19 14:43:03] {1735} INFO - iteration 108, current learner xgboost\n",
            "[flaml.automl: 09-19 14:43:04] {1920} INFO -  at 74.3s,\tbest xgboost's error=0.1644,\tbest xgboost's error=0.1644\n",
            "[flaml.automl: 09-19 14:43:04] {1735} INFO - iteration 109, current learner extra_tree\n",
            "[flaml.automl: 09-19 14:43:05] {1920} INFO -  at 75.6s,\tbest extra_tree's error=0.1672,\tbest xgboost's error=0.1644\n",
            "[flaml.automl: 09-19 14:43:05] {1735} INFO - iteration 110, current learner xgboost\n",
            "[flaml.automl: 09-19 14:43:05] {1920} INFO -  at 75.8s,\tbest xgboost's error=0.1643,\tbest xgboost's error=0.1643\n",
            "[flaml.automl: 09-19 14:43:05] {1735} INFO - iteration 111, current learner lgbm\n",
            "[flaml.automl: 09-19 14:43:05] {1920} INFO -  at 76.1s,\tbest lgbm's error=0.1812,\tbest xgboost's error=0.1643\n",
            "[flaml.automl: 09-19 14:43:05] {1735} INFO - iteration 112, current learner xgboost\n",
            "[flaml.automl: 09-19 14:43:06] {1920} INFO -  at 76.3s,\tbest xgboost's error=0.1643,\tbest xgboost's error=0.1643\n",
            "[flaml.automl: 09-19 14:43:06] {1735} INFO - iteration 113, current learner xgboost\n",
            "[flaml.automl: 09-19 14:43:06] {1920} INFO -  at 76.5s,\tbest xgboost's error=0.1643,\tbest xgboost's error=0.1643\n",
            "[flaml.automl: 09-19 14:43:06] {1735} INFO - iteration 114, current learner extra_tree\n",
            "[flaml.automl: 09-19 14:43:07] {1920} INFO -  at 77.9s,\tbest extra_tree's error=0.1672,\tbest xgboost's error=0.1643\n",
            "[flaml.automl: 09-19 14:43:07] {1735} INFO - iteration 115, current learner catboost\n",
            "[flaml.automl: 09-19 14:43:09] {1920} INFO -  at 79.9s,\tbest catboost's error=0.1714,\tbest xgboost's error=0.1643\n",
            "[flaml.automl: 09-19 14:43:09] {1735} INFO - iteration 116, current learner catboost\n",
            "[flaml.automl: 09-19 14:43:10] {1920} INFO -  at 81.1s,\tbest catboost's error=0.1714,\tbest xgboost's error=0.1643\n",
            "[flaml.automl: 09-19 14:43:10] {1735} INFO - iteration 117, current learner xgboost\n",
            "[flaml.automl: 09-19 14:43:11] {1920} INFO -  at 81.3s,\tbest xgboost's error=0.1643,\tbest xgboost's error=0.1643\n",
            "[flaml.automl: 09-19 14:43:11] {1735} INFO - iteration 118, current learner xgboost\n",
            "[flaml.automl: 09-19 14:43:11] {1920} INFO -  at 81.6s,\tbest xgboost's error=0.1643,\tbest xgboost's error=0.1643\n",
            "[flaml.automl: 09-19 14:43:11] {1735} INFO - iteration 119, current learner rf\n",
            "[flaml.automl: 09-19 14:43:12] {1920} INFO -  at 83.0s,\tbest rf's error=0.1742,\tbest xgboost's error=0.1643\n",
            "[flaml.automl: 09-19 14:43:12] {1735} INFO - iteration 120, current learner xgboost\n",
            "[flaml.automl: 09-19 14:43:12] {1920} INFO -  at 83.2s,\tbest xgboost's error=0.1643,\tbest xgboost's error=0.1643\n",
            "[flaml.automl: 09-19 14:43:12] {1735} INFO - iteration 121, current learner xgboost\n",
            "[flaml.automl: 09-19 14:43:13] {1920} INFO -  at 83.4s,\tbest xgboost's error=0.1643,\tbest xgboost's error=0.1643\n",
            "[flaml.automl: 09-19 14:43:13] {1735} INFO - iteration 122, current learner xgboost\n",
            "[flaml.automl: 09-19 14:43:13] {1920} INFO -  at 83.7s,\tbest xgboost's error=0.1643,\tbest xgboost's error=0.1643\n",
            "[flaml.automl: 09-19 14:43:13] {1735} INFO - iteration 123, current learner xgboost\n",
            "[flaml.automl: 09-19 14:43:13] {1920} INFO -  at 83.9s,\tbest xgboost's error=0.1643,\tbest xgboost's error=0.1643\n",
            "[flaml.automl: 09-19 14:43:13] {1735} INFO - iteration 124, current learner catboost\n",
            "[flaml.automl: 09-19 14:43:15] {1920} INFO -  at 85.6s,\tbest catboost's error=0.1686,\tbest xgboost's error=0.1643\n",
            "[flaml.automl: 09-19 14:43:15] {1735} INFO - iteration 125, current learner lgbm\n",
            "[flaml.automl: 09-19 14:43:15] {1920} INFO -  at 85.8s,\tbest lgbm's error=0.1812,\tbest xgboost's error=0.1643\n",
            "[flaml.automl: 09-19 14:43:15] {1735} INFO - iteration 126, current learner rf\n",
            "[flaml.automl: 09-19 14:43:16] {1920} INFO -  at 87.1s,\tbest rf's error=0.1742,\tbest xgboost's error=0.1643\n",
            "[flaml.automl: 09-19 14:43:16] {1735} INFO - iteration 127, current learner rf\n",
            "[flaml.automl: 09-19 14:43:18] {1920} INFO -  at 88.4s,\tbest rf's error=0.1742,\tbest xgboost's error=0.1643\n",
            "[flaml.automl: 09-19 14:43:18] {1735} INFO - iteration 128, current learner xgboost\n",
            "[flaml.automl: 09-19 14:43:18] {1920} INFO -  at 88.7s,\tbest xgboost's error=0.1643,\tbest xgboost's error=0.1643\n",
            "[flaml.automl: 09-19 14:43:18] {1735} INFO - iteration 129, current learner xgboost\n",
            "[flaml.automl: 09-19 14:43:18] {1920} INFO -  at 88.9s,\tbest xgboost's error=0.1643,\tbest xgboost's error=0.1643\n",
            "[flaml.automl: 09-19 14:43:18] {1735} INFO - iteration 130, current learner xgboost\n",
            "[flaml.automl: 09-19 14:43:18] {1920} INFO -  at 89.1s,\tbest xgboost's error=0.1643,\tbest xgboost's error=0.1643\n",
            "[flaml.automl: 09-19 14:43:18] {1735} INFO - iteration 131, current learner xgboost\n",
            "[flaml.automl: 09-19 14:43:19] {1920} INFO -  at 89.4s,\tbest xgboost's error=0.1643,\tbest xgboost's error=0.1643\n",
            "[flaml.automl: 09-19 14:43:19] {1735} INFO - iteration 132, current learner xgboost\n",
            "[flaml.automl: 09-19 14:43:19] {1920} INFO -  at 89.6s,\tbest xgboost's error=0.1643,\tbest xgboost's error=0.1643\n",
            "[flaml.automl: 09-19 14:43:19] {1735} INFO - iteration 133, current learner catboost\n",
            "[flaml.automl: 09-19 14:43:20] {1920} INFO -  at 91.1s,\tbest catboost's error=0.1686,\tbest xgboost's error=0.1643\n",
            "[flaml.automl: 09-19 14:43:20] {1735} INFO - iteration 134, current learner xgboost\n",
            "[flaml.automl: 09-19 14:43:21] {1920} INFO -  at 91.3s,\tbest xgboost's error=0.1643,\tbest xgboost's error=0.1643\n",
            "[flaml.automl: 09-19 14:43:21] {1735} INFO - iteration 135, current learner xgboost\n",
            "[flaml.automl: 09-19 14:43:21] {1920} INFO -  at 91.5s,\tbest xgboost's error=0.1643,\tbest xgboost's error=0.1643\n",
            "[flaml.automl: 09-19 14:43:21] {1735} INFO - iteration 136, current learner extra_tree\n",
            "[flaml.automl: 09-19 14:43:22] {1920} INFO -  at 92.9s,\tbest extra_tree's error=0.1672,\tbest xgboost's error=0.1643\n",
            "[flaml.automl: 09-19 14:43:22] {1735} INFO - iteration 137, current learner xgboost\n",
            "[flaml.automl: 09-19 14:43:22] {1920} INFO -  at 93.1s,\tbest xgboost's error=0.1643,\tbest xgboost's error=0.1643\n",
            "[flaml.automl: 09-19 14:43:22] {1735} INFO - iteration 138, current learner lgbm\n",
            "[flaml.automl: 09-19 14:43:23] {1920} INFO -  at 93.3s,\tbest lgbm's error=0.1798,\tbest xgboost's error=0.1643\n",
            "[flaml.automl: 09-19 14:43:23] {1735} INFO - iteration 139, current learner xgboost\n",
            "[flaml.automl: 09-19 14:43:23] {1920} INFO -  at 93.6s,\tbest xgboost's error=0.1643,\tbest xgboost's error=0.1643\n",
            "[flaml.automl: 09-19 14:43:23] {1735} INFO - iteration 140, current learner catboost\n",
            "[flaml.automl: 09-19 14:43:25] {1920} INFO -  at 95.7s,\tbest catboost's error=0.1686,\tbest xgboost's error=0.1643\n",
            "[flaml.automl: 09-19 14:43:25] {1735} INFO - iteration 141, current learner xgboost\n",
            "[flaml.automl: 09-19 14:43:25] {1920} INFO -  at 95.9s,\tbest xgboost's error=0.1643,\tbest xgboost's error=0.1643\n",
            "[flaml.automl: 09-19 14:43:25] {1735} INFO - iteration 142, current learner xgboost\n",
            "[flaml.automl: 09-19 14:43:25] {1920} INFO -  at 96.1s,\tbest xgboost's error=0.1643,\tbest xgboost's error=0.1643\n",
            "[flaml.automl: 09-19 14:43:25] {1735} INFO - iteration 143, current learner xgboost\n",
            "[flaml.automl: 09-19 14:43:26] {1920} INFO -  at 96.3s,\tbest xgboost's error=0.1643,\tbest xgboost's error=0.1643\n",
            "[flaml.automl: 09-19 14:43:26] {1735} INFO - iteration 144, current learner xgboost\n",
            "[flaml.automl: 09-19 14:43:26] {1920} INFO -  at 96.5s,\tbest xgboost's error=0.1643,\tbest xgboost's error=0.1643\n",
            "[flaml.automl: 09-19 14:43:26] {1735} INFO - iteration 145, current learner xgboost\n",
            "[flaml.automl: 09-19 14:43:26] {1920} INFO -  at 96.8s,\tbest xgboost's error=0.1643,\tbest xgboost's error=0.1643\n",
            "[flaml.automl: 09-19 14:43:26] {1735} INFO - iteration 146, current learner rf\n",
            "[flaml.automl: 09-19 14:43:27] {1920} INFO -  at 98.2s,\tbest rf's error=0.1742,\tbest xgboost's error=0.1643\n",
            "[flaml.automl: 09-19 14:43:27] {1735} INFO - iteration 147, current learner rf\n",
            "[flaml.automl: 09-19 14:43:29] {1920} INFO -  at 99.6s,\tbest rf's error=0.1742,\tbest xgboost's error=0.1643\n",
            "[flaml.automl: 09-19 14:43:29] {1735} INFO - iteration 148, current learner rf\n",
            "[flaml.automl: 09-19 14:43:30] {1920} INFO -  at 100.9s,\tbest rf's error=0.1742,\tbest xgboost's error=0.1643\n",
            "[flaml.automl: 09-19 14:43:30] {1735} INFO - iteration 149, current learner lgbm\n",
            "[flaml.automl: 09-19 14:43:30] {1920} INFO -  at 101.1s,\tbest lgbm's error=0.1798,\tbest xgboost's error=0.1643\n",
            "[flaml.automl: 09-19 14:43:30] {1735} INFO - iteration 150, current learner rf\n",
            "[flaml.automl: 09-19 14:43:32] {1920} INFO -  at 102.4s,\tbest rf's error=0.1742,\tbest xgboost's error=0.1643\n",
            "[flaml.automl: 09-19 14:43:32] {1735} INFO - iteration 151, current learner catboost\n",
            "[flaml.automl: 09-19 14:43:33] {1920} INFO -  at 104.1s,\tbest catboost's error=0.1686,\tbest xgboost's error=0.1643\n",
            "[flaml.automl: 09-19 14:43:33] {1735} INFO - iteration 152, current learner xgboost\n",
            "[flaml.automl: 09-19 14:43:34] {1920} INFO -  at 104.3s,\tbest xgboost's error=0.1643,\tbest xgboost's error=0.1643\n",
            "[flaml.automl: 09-19 14:43:34] {1735} INFO - iteration 153, current learner xgboost\n",
            "[flaml.automl: 09-19 14:43:34] {1920} INFO -  at 104.5s,\tbest xgboost's error=0.1643,\tbest xgboost's error=0.1643\n",
            "[flaml.automl: 09-19 14:43:34] {1735} INFO - iteration 154, current learner lgbm\n",
            "[flaml.automl: 09-19 14:43:34] {1920} INFO -  at 104.7s,\tbest lgbm's error=0.1798,\tbest xgboost's error=0.1643\n",
            "[flaml.automl: 09-19 14:43:34] {1735} INFO - iteration 155, current learner rf\n",
            "[flaml.automl: 09-19 14:43:35] {1920} INFO -  at 106.0s,\tbest rf's error=0.1742,\tbest xgboost's error=0.1643\n",
            "[flaml.automl: 09-19 14:43:35] {1735} INFO - iteration 156, current learner extra_tree\n",
            "[flaml.automl: 09-19 14:43:37] {1920} INFO -  at 107.5s,\tbest extra_tree's error=0.1672,\tbest xgboost's error=0.1643\n",
            "[flaml.automl: 09-19 14:43:37] {1735} INFO - iteration 157, current learner xgboost\n",
            "[flaml.automl: 09-19 14:43:37] {1920} INFO -  at 107.7s,\tbest xgboost's error=0.1643,\tbest xgboost's error=0.1643\n",
            "[flaml.automl: 09-19 14:43:37] {1735} INFO - iteration 158, current learner catboost\n",
            "[flaml.automl: 09-19 14:43:38] {1920} INFO -  at 109.0s,\tbest catboost's error=0.1686,\tbest xgboost's error=0.1643\n",
            "[flaml.automl: 09-19 14:43:38] {1735} INFO - iteration 159, current learner xgboost\n",
            "[flaml.automl: 09-19 14:43:38] {1920} INFO -  at 109.2s,\tbest xgboost's error=0.1643,\tbest xgboost's error=0.1643\n",
            "[flaml.automl: 09-19 14:43:38] {1735} INFO - iteration 160, current learner xgboost\n",
            "[flaml.automl: 09-19 14:43:39] {1920} INFO -  at 109.5s,\tbest xgboost's error=0.1643,\tbest xgboost's error=0.1643\n",
            "[flaml.automl: 09-19 14:43:39] {1735} INFO - iteration 161, current learner catboost\n",
            "[flaml.automl: 09-19 14:43:41] {1920} INFO -  at 112.1s,\tbest catboost's error=0.1686,\tbest xgboost's error=0.1643\n",
            "[flaml.automl: 09-19 14:43:41] {1735} INFO - iteration 162, current learner xgboost\n",
            "[flaml.automl: 09-19 14:43:42] {1920} INFO -  at 112.4s,\tbest xgboost's error=0.1643,\tbest xgboost's error=0.1643\n",
            "[flaml.automl: 09-19 14:43:42] {1735} INFO - iteration 163, current learner extra_tree\n",
            "[flaml.automl: 09-19 14:43:43] {1920} INFO -  at 113.7s,\tbest extra_tree's error=0.1672,\tbest xgboost's error=0.1643\n",
            "[flaml.automl: 09-19 14:43:43] {1735} INFO - iteration 164, current learner xgboost\n",
            "[flaml.automl: 09-19 14:43:43] {1920} INFO -  at 113.9s,\tbest xgboost's error=0.1643,\tbest xgboost's error=0.1643\n",
            "[flaml.automl: 09-19 14:43:43] {1735} INFO - iteration 165, current learner catboost\n",
            "[flaml.automl: 09-19 14:43:45] {1920} INFO -  at 116.2s,\tbest catboost's error=0.1686,\tbest xgboost's error=0.1643\n",
            "[flaml.automl: 09-19 14:43:45] {1735} INFO - iteration 166, current learner xgboost\n",
            "[flaml.automl: 09-19 14:43:46] {1920} INFO -  at 116.4s,\tbest xgboost's error=0.1643,\tbest xgboost's error=0.1643\n",
            "[flaml.automl: 09-19 14:43:46] {1735} INFO - iteration 167, current learner xgboost\n",
            "[flaml.automl: 09-19 14:43:46] {1920} INFO -  at 116.6s,\tbest xgboost's error=0.1643,\tbest xgboost's error=0.1643\n",
            "[flaml.automl: 09-19 14:43:46] {1735} INFO - iteration 168, current learner xgboost\n",
            "[flaml.automl: 09-19 14:43:46] {1920} INFO -  at 116.9s,\tbest xgboost's error=0.1643,\tbest xgboost's error=0.1643\n",
            "[flaml.automl: 09-19 14:43:46] {1735} INFO - iteration 169, current learner rf\n",
            "[flaml.automl: 09-19 14:43:47] {1920} INFO -  at 118.2s,\tbest rf's error=0.1742,\tbest xgboost's error=0.1643\n",
            "[flaml.automl: 09-19 14:43:47] {1735} INFO - iteration 170, current learner lgbm\n",
            "[flaml.automl: 09-19 14:43:48] {1920} INFO -  at 118.4s,\tbest lgbm's error=0.1798,\tbest xgboost's error=0.1643\n",
            "[flaml.automl: 09-19 14:43:48] {1735} INFO - iteration 171, current learner rf\n",
            "[flaml.automl: 09-19 14:43:49] {1920} INFO -  at 119.7s,\tbest rf's error=0.1742,\tbest xgboost's error=0.1643\n",
            "[flaml.automl: 09-19 14:43:49] {1735} INFO - iteration 172, current learner xgboost\n",
            "[flaml.automl: 09-19 14:43:49] {1920} INFO -  at 119.9s,\tbest xgboost's error=0.1643,\tbest xgboost's error=0.1643\n",
            "[flaml.automl: 09-19 14:43:49] {1735} INFO - iteration 173, current learner xgboost\n",
            "[flaml.automl: 09-19 14:43:49] {1920} INFO -  at 120.1s,\tbest xgboost's error=0.1643,\tbest xgboost's error=0.1643\n",
            "[flaml.automl: 09-19 14:43:49] {1735} INFO - iteration 174, current learner xgboost\n",
            "[flaml.automl: 09-19 14:43:50] {1920} INFO -  at 120.3s,\tbest xgboost's error=0.1643,\tbest xgboost's error=0.1643\n",
            "[flaml.automl: 09-19 14:43:50] {1735} INFO - iteration 175, current learner xgboost\n",
            "[flaml.automl: 09-19 14:43:50] {1920} INFO -  at 120.5s,\tbest xgboost's error=0.1643,\tbest xgboost's error=0.1643\n",
            "[flaml.automl: 09-19 14:43:50] {1735} INFO - iteration 176, current learner extra_tree\n",
            "[flaml.automl: 09-19 14:43:51] {1920} INFO -  at 122.0s,\tbest extra_tree's error=0.1672,\tbest xgboost's error=0.1643\n",
            "[flaml.automl: 09-19 14:43:51] {1735} INFO - iteration 177, current learner xgboost\n",
            "[flaml.automl: 09-19 14:43:51] {1920} INFO -  at 122.2s,\tbest xgboost's error=0.1643,\tbest xgboost's error=0.1643\n",
            "[flaml.automl: 09-19 14:43:51] {1735} INFO - iteration 178, current learner xgboost\n",
            "[flaml.automl: 09-19 14:43:52] {1920} INFO -  at 122.4s,\tbest xgboost's error=0.1643,\tbest xgboost's error=0.1643\n",
            "[flaml.automl: 09-19 14:43:52] {1735} INFO - iteration 179, current learner xgboost\n",
            "[flaml.automl: 09-19 14:43:52] {1920} INFO -  at 122.6s,\tbest xgboost's error=0.1643,\tbest xgboost's error=0.1643\n",
            "[flaml.automl: 09-19 14:43:52] {1735} INFO - iteration 180, current learner xgboost\n",
            "[flaml.automl: 09-19 14:43:52] {1920} INFO -  at 122.9s,\tbest xgboost's error=0.1643,\tbest xgboost's error=0.1643\n",
            "[flaml.automl: 09-19 14:43:52] {1735} INFO - iteration 181, current learner xgboost\n",
            "[flaml.automl: 09-19 14:43:52] {1920} INFO -  at 123.1s,\tbest xgboost's error=0.1643,\tbest xgboost's error=0.1643\n",
            "[flaml.automl: 09-19 14:43:52] {1735} INFO - iteration 182, current learner catboost\n",
            "[flaml.automl: 09-19 14:43:54] {1920} INFO -  at 124.4s,\tbest catboost's error=0.1686,\tbest xgboost's error=0.1643\n",
            "[flaml.automl: 09-19 14:43:54] {1735} INFO - iteration 183, current learner lgbm\n",
            "[flaml.automl: 09-19 14:43:54] {1920} INFO -  at 124.7s,\tbest lgbm's error=0.1798,\tbest xgboost's error=0.1643\n",
            "[flaml.automl: 09-19 14:43:54] {1735} INFO - iteration 184, current learner xgboost\n",
            "[flaml.automl: 09-19 14:43:54] {1920} INFO -  at 124.9s,\tbest xgboost's error=0.1643,\tbest xgboost's error=0.1643\n",
            "[flaml.automl: 09-19 14:43:54] {1735} INFO - iteration 185, current learner xgboost\n",
            "[flaml.automl: 09-19 14:43:54] {1920} INFO -  at 125.1s,\tbest xgboost's error=0.1643,\tbest xgboost's error=0.1643\n",
            "[flaml.automl: 09-19 14:43:54] {1735} INFO - iteration 186, current learner rf\n",
            "[flaml.automl: 09-19 14:43:56] {1920} INFO -  at 126.4s,\tbest rf's error=0.1742,\tbest xgboost's error=0.1643\n",
            "[flaml.automl: 09-19 14:43:56] {1735} INFO - iteration 187, current learner xgboost\n",
            "[flaml.automl: 09-19 14:43:56] {1920} INFO -  at 126.7s,\tbest xgboost's error=0.1643,\tbest xgboost's error=0.1643\n",
            "[flaml.automl: 09-19 14:43:56] {1735} INFO - iteration 188, current learner rf\n",
            "[flaml.automl: 09-19 14:43:57] {1920} INFO -  at 128.0s,\tbest rf's error=0.1742,\tbest xgboost's error=0.1643\n",
            "[flaml.automl: 09-19 14:43:57] {1735} INFO - iteration 189, current learner catboost\n",
            "[flaml.automl: 09-19 14:43:59] {1920} INFO -  at 130.2s,\tbest catboost's error=0.1686,\tbest xgboost's error=0.1643\n",
            "[flaml.automl: 09-19 14:43:59] {1735} INFO - iteration 190, current learner xgboost\n",
            "[flaml.automl: 09-19 14:44:00] {1920} INFO -  at 130.5s,\tbest xgboost's error=0.1643,\tbest xgboost's error=0.1643\n",
            "[flaml.automl: 09-19 14:44:00] {1735} INFO - iteration 191, current learner rf\n",
            "[flaml.automl: 09-19 14:44:01] {1920} INFO -  at 131.8s,\tbest rf's error=0.1742,\tbest xgboost's error=0.1643\n",
            "[flaml.automl: 09-19 14:44:01] {1735} INFO - iteration 192, current learner xgboost\n",
            "[flaml.automl: 09-19 14:44:01] {1920} INFO -  at 132.0s,\tbest xgboost's error=0.1643,\tbest xgboost's error=0.1643\n",
            "[flaml.automl: 09-19 14:44:01] {1735} INFO - iteration 193, current learner xgboost\n",
            "[flaml.automl: 09-19 14:44:01] {1920} INFO -  at 132.2s,\tbest xgboost's error=0.1643,\tbest xgboost's error=0.1643\n",
            "[flaml.automl: 09-19 14:44:01] {1735} INFO - iteration 194, current learner extra_tree\n",
            "[flaml.automl: 09-19 14:44:03] {1920} INFO -  at 133.5s,\tbest extra_tree's error=0.1672,\tbest xgboost's error=0.1643\n",
            "[flaml.automl: 09-19 14:44:03] {1735} INFO - iteration 195, current learner catboost\n",
            "[flaml.automl: 09-19 14:44:04] {1920} INFO -  at 134.9s,\tbest catboost's error=0.1686,\tbest xgboost's error=0.1643\n",
            "[flaml.automl: 09-19 14:44:04] {1735} INFO - iteration 196, current learner lgbm\n",
            "[flaml.automl: 09-19 14:44:04] {1920} INFO -  at 135.1s,\tbest lgbm's error=0.1798,\tbest xgboost's error=0.1643\n",
            "[flaml.automl: 09-19 14:44:04] {1735} INFO - iteration 197, current learner xgboost\n",
            "[flaml.automl: 09-19 14:44:05] {1920} INFO -  at 135.4s,\tbest xgboost's error=0.1643,\tbest xgboost's error=0.1643\n",
            "[flaml.automl: 09-19 14:44:05] {1735} INFO - iteration 198, current learner xgboost\n",
            "[flaml.automl: 09-19 14:44:05] {1920} INFO -  at 135.6s,\tbest xgboost's error=0.1643,\tbest xgboost's error=0.1643\n",
            "[flaml.automl: 09-19 14:44:05] {1735} INFO - iteration 199, current learner extra_tree\n",
            "[flaml.automl: 09-19 14:44:06] {1920} INFO -  at 136.9s,\tbest extra_tree's error=0.1672,\tbest xgboost's error=0.1643\n",
            "[flaml.automl: 09-19 14:44:06] {1735} INFO - iteration 200, current learner extra_tree\n",
            "[flaml.automl: 09-19 14:44:07] {1920} INFO -  at 138.2s,\tbest extra_tree's error=0.1672,\tbest xgboost's error=0.1643\n",
            "[flaml.automl: 09-19 14:44:07] {1735} INFO - iteration 201, current learner lgbm\n",
            "[flaml.automl: 09-19 14:44:08] {1920} INFO -  at 138.4s,\tbest lgbm's error=0.1798,\tbest xgboost's error=0.1643\n",
            "[flaml.automl: 09-19 14:44:08] {1735} INFO - iteration 202, current learner catboost\n",
            "[flaml.automl: 09-19 14:44:09] {1920} INFO -  at 139.7s,\tbest catboost's error=0.1672,\tbest xgboost's error=0.1643\n",
            "[flaml.automl: 09-19 14:44:09] {1735} INFO - iteration 203, current learner xgboost\n",
            "[flaml.automl: 09-19 14:44:09] {1920} INFO -  at 140.0s,\tbest xgboost's error=0.1643,\tbest xgboost's error=0.1643\n",
            "[flaml.automl: 09-19 14:44:09] {1735} INFO - iteration 204, current learner extra_tree\n",
            "[flaml.automl: 09-19 14:44:11] {1920} INFO -  at 141.3s,\tbest extra_tree's error=0.1672,\tbest xgboost's error=0.1643\n",
            "[flaml.automl: 09-19 14:44:11] {1735} INFO - iteration 205, current learner extra_tree\n",
            "[flaml.automl: 09-19 14:44:12] {1920} INFO -  at 142.7s,\tbest extra_tree's error=0.1672,\tbest xgboost's error=0.1643\n",
            "[flaml.automl: 09-19 14:44:12] {1735} INFO - iteration 206, current learner xgboost\n",
            "[flaml.automl: 09-19 14:44:12] {1920} INFO -  at 142.9s,\tbest xgboost's error=0.1643,\tbest xgboost's error=0.1643\n",
            "[flaml.automl: 09-19 14:44:12] {1735} INFO - iteration 207, current learner extra_tree\n",
            "[flaml.automl: 09-19 14:44:14] {1920} INFO -  at 144.4s,\tbest extra_tree's error=0.1672,\tbest xgboost's error=0.1643\n",
            "[flaml.automl: 09-19 14:44:14] {1735} INFO - iteration 208, current learner xgboost\n",
            "[flaml.automl: 09-19 14:44:14] {1920} INFO -  at 144.6s,\tbest xgboost's error=0.1643,\tbest xgboost's error=0.1643\n",
            "[flaml.automl: 09-19 14:44:14] {1735} INFO - iteration 209, current learner xgboost\n",
            "[flaml.automl: 09-19 14:44:14] {1920} INFO -  at 144.8s,\tbest xgboost's error=0.1643,\tbest xgboost's error=0.1643\n",
            "[flaml.automl: 09-19 14:44:14] {1735} INFO - iteration 210, current learner xgboost\n",
            "[flaml.automl: 09-19 14:44:14] {1920} INFO -  at 145.0s,\tbest xgboost's error=0.1643,\tbest xgboost's error=0.1643\n",
            "[flaml.automl: 09-19 14:44:14] {1735} INFO - iteration 211, current learner xgboost\n",
            "[flaml.automl: 09-19 14:44:15] {1920} INFO -  at 145.2s,\tbest xgboost's error=0.1643,\tbest xgboost's error=0.1643\n",
            "[flaml.automl: 09-19 14:44:15] {1735} INFO - iteration 212, current learner xgboost\n",
            "[flaml.automl: 09-19 14:44:15] {1920} INFO -  at 145.5s,\tbest xgboost's error=0.1643,\tbest xgboost's error=0.1643\n",
            "[flaml.automl: 09-19 14:44:15] {1735} INFO - iteration 213, current learner extra_tree\n",
            "[flaml.automl: 09-19 14:44:16] {1920} INFO -  at 146.8s,\tbest extra_tree's error=0.1672,\tbest xgboost's error=0.1643\n",
            "[flaml.automl: 09-19 14:44:16] {1735} INFO - iteration 214, current learner extra_tree\n",
            "[flaml.automl: 09-19 14:44:17] {1920} INFO -  at 148.1s,\tbest extra_tree's error=0.1672,\tbest xgboost's error=0.1643\n",
            "[flaml.automl: 09-19 14:44:17] {1735} INFO - iteration 215, current learner xgboost\n",
            "[flaml.automl: 09-19 14:44:18] {1920} INFO -  at 148.3s,\tbest xgboost's error=0.1643,\tbest xgboost's error=0.1643\n",
            "[flaml.automl: 09-19 14:44:18] {1735} INFO - iteration 216, current learner extra_tree\n",
            "[flaml.automl: 09-19 14:44:19] {1920} INFO -  at 149.7s,\tbest extra_tree's error=0.1672,\tbest xgboost's error=0.1643\n",
            "[flaml.automl: 09-19 14:44:19] {1735} INFO - iteration 217, current learner rf\n",
            "[flaml.automl: 09-19 14:44:20] {1920} INFO -  at 151.1s,\tbest rf's error=0.1742,\tbest xgboost's error=0.1643\n",
            "[flaml.automl: 09-19 14:44:20] {1735} INFO - iteration 218, current learner rf\n",
            "[flaml.automl: 09-19 14:44:22] {1920} INFO -  at 152.5s,\tbest rf's error=0.1742,\tbest xgboost's error=0.1643\n",
            "[flaml.automl: 09-19 14:44:22] {1735} INFO - iteration 219, current learner rf\n",
            "[flaml.automl: 09-19 14:44:23] {1920} INFO -  at 153.8s,\tbest rf's error=0.1742,\tbest xgboost's error=0.1643\n",
            "[flaml.automl: 09-19 14:44:23] {1735} INFO - iteration 220, current learner xgboost\n",
            "[flaml.automl: 09-19 14:44:23] {1920} INFO -  at 154.0s,\tbest xgboost's error=0.1643,\tbest xgboost's error=0.1643\n",
            "[flaml.automl: 09-19 14:44:23] {1735} INFO - iteration 221, current learner lgbm\n",
            "[flaml.automl: 09-19 14:44:23] {1920} INFO -  at 154.2s,\tbest lgbm's error=0.1798,\tbest xgboost's error=0.1643\n",
            "[flaml.automl: 09-19 14:44:23] {1735} INFO - iteration 222, current learner extra_tree\n",
            "[flaml.automl: 09-19 14:44:25] {1920} INFO -  at 155.6s,\tbest extra_tree's error=0.1672,\tbest xgboost's error=0.1643\n",
            "[flaml.automl: 09-19 14:44:25] {1735} INFO - iteration 223, current learner xgboost\n",
            "[flaml.automl: 09-19 14:44:25] {1920} INFO -  at 155.8s,\tbest xgboost's error=0.1643,\tbest xgboost's error=0.1643\n",
            "[flaml.automl: 09-19 14:44:25] {1735} INFO - iteration 224, current learner lgbm\n",
            "[flaml.automl: 09-19 14:44:25] {1920} INFO -  at 156.1s,\tbest lgbm's error=0.1798,\tbest xgboost's error=0.1643\n",
            "[flaml.automl: 09-19 14:44:25] {1735} INFO - iteration 225, current learner rf\n",
            "[flaml.automl: 09-19 14:44:27] {1920} INFO -  at 157.4s,\tbest rf's error=0.1742,\tbest xgboost's error=0.1643\n",
            "[flaml.automl: 09-19 14:44:27] {1735} INFO - iteration 226, current learner xgboost\n",
            "[flaml.automl: 09-19 14:44:27] {1920} INFO -  at 157.6s,\tbest xgboost's error=0.1643,\tbest xgboost's error=0.1643\n",
            "[flaml.automl: 09-19 14:44:27] {1735} INFO - iteration 227, current learner rf\n",
            "[flaml.automl: 09-19 14:44:28] {1920} INFO -  at 158.9s,\tbest rf's error=0.1742,\tbest xgboost's error=0.1643\n",
            "[flaml.automl: 09-19 14:44:28] {1735} INFO - iteration 228, current learner xgboost\n",
            "[flaml.automl: 09-19 14:44:28] {1920} INFO -  at 159.1s,\tbest xgboost's error=0.1643,\tbest xgboost's error=0.1643\n",
            "[flaml.automl: 09-19 14:44:28] {1735} INFO - iteration 229, current learner xgboost\n",
            "[flaml.automl: 09-19 14:44:29] {1920} INFO -  at 159.3s,\tbest xgboost's error=0.1643,\tbest xgboost's error=0.1643\n",
            "[flaml.automl: 09-19 14:44:29] {1735} INFO - iteration 230, current learner extra_tree\n",
            "[flaml.automl: 09-19 14:44:30] {1920} INFO -  at 160.6s,\tbest extra_tree's error=0.1672,\tbest xgboost's error=0.1643\n",
            "[flaml.automl: 09-19 14:44:30] {1735} INFO - iteration 231, current learner xgboost\n",
            "[flaml.automl: 09-19 14:44:30] {1920} INFO -  at 160.8s,\tbest xgboost's error=0.1643,\tbest xgboost's error=0.1643\n",
            "[flaml.automl: 09-19 14:44:30] {1735} INFO - iteration 232, current learner extra_tree\n",
            "[flaml.automl: 09-19 14:44:31] {1920} INFO -  at 162.1s,\tbest extra_tree's error=0.1672,\tbest xgboost's error=0.1643\n",
            "[flaml.automl: 09-19 14:44:31] {1735} INFO - iteration 233, current learner xgboost\n",
            "[flaml.automl: 09-19 14:44:32] {1920} INFO -  at 162.4s,\tbest xgboost's error=0.1643,\tbest xgboost's error=0.1643\n",
            "[flaml.automl: 09-19 14:44:32] {1735} INFO - iteration 234, current learner extra_tree\n",
            "[flaml.automl: 09-19 14:44:33] {1920} INFO -  at 163.8s,\tbest extra_tree's error=0.1672,\tbest xgboost's error=0.1643\n",
            "[flaml.automl: 09-19 14:44:33] {1735} INFO - iteration 235, current learner xgboost\n",
            "[flaml.automl: 09-19 14:44:33] {1920} INFO -  at 164.0s,\tbest xgboost's error=0.1643,\tbest xgboost's error=0.1643\n",
            "[flaml.automl: 09-19 14:44:33] {1735} INFO - iteration 236, current learner xgboost\n",
            "[flaml.automl: 09-19 14:44:34] {1920} INFO -  at 164.2s,\tbest xgboost's error=0.1643,\tbest xgboost's error=0.1643\n",
            "[flaml.automl: 09-19 14:44:34] {1735} INFO - iteration 237, current learner xgboost\n",
            "[flaml.automl: 09-19 14:44:34] {1920} INFO -  at 164.4s,\tbest xgboost's error=0.1643,\tbest xgboost's error=0.1643\n",
            "[flaml.automl: 09-19 14:44:34] {1735} INFO - iteration 238, current learner catboost\n",
            "[flaml.automl: 09-19 14:44:35] {1920} INFO -  at 166.1s,\tbest catboost's error=0.1672,\tbest xgboost's error=0.1643\n",
            "[flaml.automl: 09-19 14:44:35] {1735} INFO - iteration 239, current learner xgboost\n",
            "[flaml.automl: 09-19 14:44:36] {1920} INFO -  at 166.3s,\tbest xgboost's error=0.1643,\tbest xgboost's error=0.1643\n",
            "[flaml.automl: 09-19 14:44:36] {1735} INFO - iteration 240, current learner xgboost\n",
            "[flaml.automl: 09-19 14:44:36] {1920} INFO -  at 166.6s,\tbest xgboost's error=0.1643,\tbest xgboost's error=0.1643\n",
            "[flaml.automl: 09-19 14:44:36] {1735} INFO - iteration 241, current learner lgbm\n",
            "[flaml.automl: 09-19 14:44:36] {1920} INFO -  at 166.8s,\tbest lgbm's error=0.1798,\tbest xgboost's error=0.1643\n",
            "[flaml.automl: 09-19 14:44:36] {1735} INFO - iteration 242, current learner xgboost\n",
            "[flaml.automl: 09-19 14:44:36] {1920} INFO -  at 167.0s,\tbest xgboost's error=0.1643,\tbest xgboost's error=0.1643\n",
            "[flaml.automl: 09-19 14:44:36] {1735} INFO - iteration 243, current learner xgboost\n",
            "[flaml.automl: 09-19 14:44:36] {1920} INFO -  at 167.2s,\tbest xgboost's error=0.1643,\tbest xgboost's error=0.1643\n",
            "[flaml.automl: 09-19 14:44:36] {1735} INFO - iteration 244, current learner xgboost\n",
            "[flaml.automl: 09-19 14:44:37] {1920} INFO -  at 167.4s,\tbest xgboost's error=0.1643,\tbest xgboost's error=0.1643\n",
            "[flaml.automl: 09-19 14:44:37] {1735} INFO - iteration 245, current learner catboost\n",
            "[flaml.automl: 09-19 14:44:38] {1920} INFO -  at 168.8s,\tbest catboost's error=0.1672,\tbest xgboost's error=0.1643\n",
            "[flaml.automl: 09-19 14:44:38] {1735} INFO - iteration 246, current learner extra_tree\n",
            "[flaml.automl: 09-19 14:44:39] {1920} INFO -  at 170.1s,\tbest extra_tree's error=0.1672,\tbest xgboost's error=0.1643\n",
            "[flaml.automl: 09-19 14:44:39] {1735} INFO - iteration 247, current learner xgboost\n",
            "[flaml.automl: 09-19 14:44:40] {1920} INFO -  at 170.3s,\tbest xgboost's error=0.1643,\tbest xgboost's error=0.1643\n",
            "[flaml.automl: 09-19 14:44:40] {1735} INFO - iteration 248, current learner rf\n",
            "[flaml.automl: 09-19 14:44:41] {1920} INFO -  at 171.6s,\tbest rf's error=0.1742,\tbest xgboost's error=0.1643\n",
            "[flaml.automl: 09-19 14:44:41] {1735} INFO - iteration 249, current learner xgboost\n",
            "[flaml.automl: 09-19 14:44:41] {1920} INFO -  at 171.8s,\tbest xgboost's error=0.1643,\tbest xgboost's error=0.1643\n",
            "[flaml.automl: 09-19 14:44:41] {1735} INFO - iteration 250, current learner xgboost\n",
            "[flaml.automl: 09-19 14:44:41] {1920} INFO -  at 172.0s,\tbest xgboost's error=0.1643,\tbest xgboost's error=0.1643\n",
            "[flaml.automl: 09-19 14:44:41] {1735} INFO - iteration 251, current learner lgbm\n",
            "[flaml.automl: 09-19 14:44:42] {1920} INFO -  at 172.3s,\tbest lgbm's error=0.1798,\tbest xgboost's error=0.1643\n",
            "[flaml.automl: 09-19 14:44:42] {1735} INFO - iteration 252, current learner xgboost\n",
            "[flaml.automl: 09-19 14:44:42] {1920} INFO -  at 172.5s,\tbest xgboost's error=0.1643,\tbest xgboost's error=0.1643\n",
            "[flaml.automl: 09-19 14:44:42] {1735} INFO - iteration 253, current learner xgboost\n",
            "[flaml.automl: 09-19 14:44:42] {1920} INFO -  at 172.7s,\tbest xgboost's error=0.1643,\tbest xgboost's error=0.1643\n",
            "[flaml.automl: 09-19 14:44:42] {1735} INFO - iteration 254, current learner extra_tree\n",
            "[flaml.automl: 09-19 14:44:43] {1920} INFO -  at 174.0s,\tbest extra_tree's error=0.1672,\tbest xgboost's error=0.1643\n",
            "[flaml.automl: 09-19 14:44:43] {1735} INFO - iteration 255, current learner lgbm\n",
            "[flaml.automl: 09-19 14:44:43] {1920} INFO -  at 174.2s,\tbest lgbm's error=0.1798,\tbest xgboost's error=0.1643\n",
            "[flaml.automl: 09-19 14:44:43] {1735} INFO - iteration 256, current learner extra_tree\n",
            "[flaml.automl: 09-19 14:44:45] {1920} INFO -  at 175.5s,\tbest extra_tree's error=0.1672,\tbest xgboost's error=0.1643\n",
            "[flaml.automl: 09-19 14:44:45] {1735} INFO - iteration 257, current learner xgboost\n",
            "[flaml.automl: 09-19 14:44:45] {1920} INFO -  at 175.8s,\tbest xgboost's error=0.1643,\tbest xgboost's error=0.1643\n",
            "[flaml.automl: 09-19 14:44:45] {1735} INFO - iteration 258, current learner extra_tree\n",
            "[flaml.automl: 09-19 14:44:46] {1920} INFO -  at 177.1s,\tbest extra_tree's error=0.1672,\tbest xgboost's error=0.1643\n",
            "[flaml.automl: 09-19 14:44:46] {1735} INFO - iteration 259, current learner xgboost\n",
            "[flaml.automl: 09-19 14:44:47] {1920} INFO -  at 177.3s,\tbest xgboost's error=0.1643,\tbest xgboost's error=0.1643\n",
            "[flaml.automl: 09-19 14:44:47] {1735} INFO - iteration 260, current learner xgboost\n",
            "[flaml.automl: 09-19 14:44:47] {1920} INFO -  at 177.5s,\tbest xgboost's error=0.1643,\tbest xgboost's error=0.1643\n",
            "[flaml.automl: 09-19 14:44:47] {1735} INFO - iteration 261, current learner xgboost\n",
            "[flaml.automl: 09-19 14:44:47] {1920} INFO -  at 177.7s,\tbest xgboost's error=0.1643,\tbest xgboost's error=0.1643\n",
            "[flaml.automl: 09-19 14:44:47] {1735} INFO - iteration 262, current learner xgboost\n",
            "[flaml.automl: 09-19 14:44:47] {1920} INFO -  at 178.0s,\tbest xgboost's error=0.1643,\tbest xgboost's error=0.1643\n",
            "[flaml.automl: 09-19 14:44:47] {1735} INFO - iteration 263, current learner catboost\n",
            "[flaml.automl: 09-19 14:44:49] {1920} INFO -  at 179.5s,\tbest catboost's error=0.1672,\tbest xgboost's error=0.1643\n",
            "[flaml.automl: 09-19 14:44:49] {1735} INFO - iteration 264, current learner xgboost\n",
            "[flaml.automl: 09-19 14:44:49] {1920} INFO -  at 179.7s,\tbest xgboost's error=0.1643,\tbest xgboost's error=0.1643\n",
            "[flaml.automl: 09-19 14:44:49] {1735} INFO - iteration 265, current learner xgboost\n",
            "[flaml.automl: 09-19 14:44:49] {1920} INFO -  at 180.0s,\tbest xgboost's error=0.1643,\tbest xgboost's error=0.1643\n",
            "[flaml.automl: 09-19 14:44:49] {1735} INFO - iteration 266, current learner extra_tree\n",
            "[flaml.automl: 09-19 14:44:51] {1920} INFO -  at 181.4s,\tbest extra_tree's error=0.1672,\tbest xgboost's error=0.1643\n",
            "[flaml.automl: 09-19 14:44:51] {1735} INFO - iteration 267, current learner xgboost\n",
            "[flaml.automl: 09-19 14:44:51] {1920} INFO -  at 181.6s,\tbest xgboost's error=0.1643,\tbest xgboost's error=0.1643\n",
            "[flaml.automl: 09-19 14:44:51] {1735} INFO - iteration 268, current learner xgboost\n",
            "[flaml.automl: 09-19 14:44:51] {1920} INFO -  at 181.9s,\tbest xgboost's error=0.1643,\tbest xgboost's error=0.1643\n",
            "[flaml.automl: 09-19 14:44:51] {1735} INFO - iteration 269, current learner extra_tree\n",
            "[flaml.automl: 09-19 14:44:52] {1920} INFO -  at 183.2s,\tbest extra_tree's error=0.1672,\tbest xgboost's error=0.1643\n",
            "[flaml.automl: 09-19 14:44:52] {1735} INFO - iteration 270, current learner catboost\n",
            "[flaml.automl: 09-19 14:44:54] {1920} INFO -  at 184.7s,\tbest catboost's error=0.1672,\tbest xgboost's error=0.1643\n",
            "[flaml.automl: 09-19 14:44:54] {1735} INFO - iteration 271, current learner xgboost\n",
            "[flaml.automl: 09-19 14:44:54] {1920} INFO -  at 184.9s,\tbest xgboost's error=0.1643,\tbest xgboost's error=0.1643\n",
            "[flaml.automl: 09-19 14:44:54] {1735} INFO - iteration 272, current learner xgboost\n",
            "[flaml.automl: 09-19 14:44:54] {1920} INFO -  at 185.1s,\tbest xgboost's error=0.1643,\tbest xgboost's error=0.1643\n",
            "[flaml.automl: 09-19 14:44:54] {1735} INFO - iteration 273, current learner xgboost\n",
            "[flaml.automl: 09-19 14:44:55] {1920} INFO -  at 185.3s,\tbest xgboost's error=0.1643,\tbest xgboost's error=0.1643\n",
            "[flaml.automl: 09-19 14:44:55] {1735} INFO - iteration 274, current learner xgboost\n",
            "[flaml.automl: 09-19 14:44:55] {1920} INFO -  at 185.6s,\tbest xgboost's error=0.1643,\tbest xgboost's error=0.1643\n",
            "[flaml.automl: 09-19 14:44:55] {1735} INFO - iteration 275, current learner xgboost\n",
            "[flaml.automl: 09-19 14:44:55] {1920} INFO -  at 185.8s,\tbest xgboost's error=0.1643,\tbest xgboost's error=0.1643\n",
            "[flaml.automl: 09-19 14:44:55] {1735} INFO - iteration 276, current learner catboost\n",
            "[flaml.automl: 09-19 14:44:56] {1920} INFO -  at 187.1s,\tbest catboost's error=0.1672,\tbest xgboost's error=0.1643\n",
            "[flaml.automl: 09-19 14:44:56] {1735} INFO - iteration 277, current learner xgboost\n",
            "[flaml.automl: 09-19 14:44:57] {1920} INFO -  at 187.3s,\tbest xgboost's error=0.1643,\tbest xgboost's error=0.1643\n",
            "[flaml.automl: 09-19 14:44:57] {1735} INFO - iteration 278, current learner xgboost\n",
            "[flaml.automl: 09-19 14:44:57] {1920} INFO -  at 187.5s,\tbest xgboost's error=0.1643,\tbest xgboost's error=0.1643\n",
            "[flaml.automl: 09-19 14:44:57] {1735} INFO - iteration 279, current learner extra_tree\n",
            "[flaml.automl: 09-19 14:44:58] {1920} INFO -  at 188.8s,\tbest extra_tree's error=0.1672,\tbest xgboost's error=0.1643\n",
            "[flaml.automl: 09-19 14:44:58] {1735} INFO - iteration 280, current learner xgboost\n",
            "[flaml.automl: 09-19 14:44:58] {1920} INFO -  at 189.0s,\tbest xgboost's error=0.1643,\tbest xgboost's error=0.1643\n",
            "[flaml.automl: 09-19 14:44:58] {1735} INFO - iteration 281, current learner rf\n",
            "[flaml.automl: 09-19 14:45:00] {1920} INFO -  at 190.3s,\tbest rf's error=0.1742,\tbest xgboost's error=0.1643\n",
            "[flaml.automl: 09-19 14:45:00] {1735} INFO - iteration 282, current learner xgboost\n",
            "[flaml.automl: 09-19 14:45:00] {1920} INFO -  at 190.5s,\tbest xgboost's error=0.1643,\tbest xgboost's error=0.1643\n",
            "[flaml.automl: 09-19 14:45:00] {1735} INFO - iteration 283, current learner catboost\n",
            "[flaml.automl: 09-19 14:45:02] {1920} INFO -  at 192.4s,\tbest catboost's error=0.1672,\tbest xgboost's error=0.1643\n",
            "[flaml.automl: 09-19 14:45:02] {1735} INFO - iteration 284, current learner xgboost\n",
            "[flaml.automl: 09-19 14:45:02] {1920} INFO -  at 192.6s,\tbest xgboost's error=0.1643,\tbest xgboost's error=0.1643\n",
            "[flaml.automl: 09-19 14:45:02] {1735} INFO - iteration 285, current learner extra_tree\n",
            "[flaml.automl: 09-19 14:45:03] {1920} INFO -  at 193.9s,\tbest extra_tree's error=0.1672,\tbest xgboost's error=0.1643\n",
            "[flaml.automl: 09-19 14:45:03] {1735} INFO - iteration 286, current learner extra_tree\n",
            "[flaml.automl: 09-19 14:45:04] {1920} INFO -  at 195.2s,\tbest extra_tree's error=0.1672,\tbest xgboost's error=0.1643\n",
            "[flaml.automl: 09-19 14:45:04] {1735} INFO - iteration 287, current learner xgboost\n",
            "[flaml.automl: 09-19 14:45:05] {1920} INFO -  at 195.5s,\tbest xgboost's error=0.1643,\tbest xgboost's error=0.1643\n",
            "[flaml.automl: 09-19 14:45:05] {1735} INFO - iteration 288, current learner rf\n",
            "[flaml.automl: 09-19 14:45:06] {1920} INFO -  at 196.8s,\tbest rf's error=0.1742,\tbest xgboost's error=0.1643\n",
            "[flaml.automl: 09-19 14:45:06] {1735} INFO - iteration 289, current learner rf\n",
            "[flaml.automl: 09-19 14:45:07] {1920} INFO -  at 198.2s,\tbest rf's error=0.1742,\tbest xgboost's error=0.1643\n",
            "[flaml.automl: 09-19 14:45:07] {1735} INFO - iteration 290, current learner extra_tree\n",
            "[flaml.automl: 09-19 14:45:09] {1920} INFO -  at 199.5s,\tbest extra_tree's error=0.1672,\tbest xgboost's error=0.1643\n",
            "[flaml.automl: 09-19 14:45:09] {1735} INFO - iteration 291, current learner xgboost\n",
            "[flaml.automl: 09-19 14:45:09] {1920} INFO -  at 199.7s,\tbest xgboost's error=0.1643,\tbest xgboost's error=0.1643\n",
            "[flaml.automl: 09-19 14:45:09] {1735} INFO - iteration 292, current learner xgboost\n",
            "[flaml.automl: 09-19 14:45:09] {1920} INFO -  at 200.0s,\tbest xgboost's error=0.1643,\tbest xgboost's error=0.1643\n",
            "[flaml.automl: 09-19 14:45:09] {1735} INFO - iteration 293, current learner xgboost\n",
            "[flaml.automl: 09-19 14:45:09] {1920} INFO -  at 200.2s,\tbest xgboost's error=0.1643,\tbest xgboost's error=0.1643\n",
            "[flaml.automl: 09-19 14:45:09] {1735} INFO - iteration 294, current learner xgboost\n",
            "[flaml.automl: 09-19 14:45:10] {1920} INFO -  at 200.4s,\tbest xgboost's error=0.1643,\tbest xgboost's error=0.1643\n",
            "[flaml.automl: 09-19 14:45:10] {1735} INFO - iteration 295, current learner xgboost\n",
            "[flaml.automl: 09-19 14:45:10] {1920} INFO -  at 200.6s,\tbest xgboost's error=0.1643,\tbest xgboost's error=0.1643\n",
            "[flaml.automl: 09-19 14:45:10] {1735} INFO - iteration 296, current learner xgboost\n",
            "[flaml.automl: 09-19 14:45:10] {1920} INFO -  at 200.9s,\tbest xgboost's error=0.1643,\tbest xgboost's error=0.1643\n",
            "[flaml.automl: 09-19 14:45:10] {1735} INFO - iteration 297, current learner xgboost\n",
            "[flaml.automl: 09-19 14:45:10] {1920} INFO -  at 201.1s,\tbest xgboost's error=0.1643,\tbest xgboost's error=0.1643\n",
            "[flaml.automl: 09-19 14:45:10] {1735} INFO - iteration 298, current learner xgboost\n",
            "[flaml.automl: 09-19 14:45:11] {1920} INFO -  at 201.3s,\tbest xgboost's error=0.1643,\tbest xgboost's error=0.1643\n",
            "[flaml.automl: 09-19 14:45:11] {1735} INFO - iteration 299, current learner catboost\n",
            "[flaml.automl: 09-19 14:45:12] {1920} INFO -  at 202.4s,\tbest catboost's error=0.1672,\tbest xgboost's error=0.1643\n",
            "[flaml.automl: 09-19 14:45:12] {1735} INFO - iteration 300, current learner lgbm\n",
            "[flaml.automl: 09-19 14:45:12] {1920} INFO -  at 202.7s,\tbest lgbm's error=0.1798,\tbest xgboost's error=0.1643\n",
            "[flaml.automl: 09-19 14:45:12] {1735} INFO - iteration 301, current learner catboost\n",
            "[flaml.automl: 09-19 14:45:13] {1920} INFO -  at 204.1s,\tbest catboost's error=0.1672,\tbest xgboost's error=0.1643\n",
            "[flaml.automl: 09-19 14:45:13] {1735} INFO - iteration 302, current learner lgbm\n",
            "[flaml.automl: 09-19 14:45:14] {1920} INFO -  at 204.4s,\tbest lgbm's error=0.1798,\tbest xgboost's error=0.1643\n",
            "[flaml.automl: 09-19 14:45:14] {1735} INFO - iteration 303, current learner extra_tree\n",
            "[flaml.automl: 09-19 14:45:15] {1920} INFO -  at 205.8s,\tbest extra_tree's error=0.1672,\tbest xgboost's error=0.1643\n",
            "[flaml.automl: 09-19 14:45:15] {1735} INFO - iteration 304, current learner rf\n",
            "[flaml.automl: 09-19 14:45:16] {1920} INFO -  at 207.2s,\tbest rf's error=0.1742,\tbest xgboost's error=0.1643\n",
            "[flaml.automl: 09-19 14:45:16] {1735} INFO - iteration 305, current learner xgboost\n",
            "[flaml.automl: 09-19 14:45:17] {1920} INFO -  at 207.4s,\tbest xgboost's error=0.1643,\tbest xgboost's error=0.1643\n",
            "[flaml.automl: 09-19 14:45:17] {1735} INFO - iteration 306, current learner extra_tree\n",
            "[flaml.automl: 09-19 14:45:18] {1920} INFO -  at 208.9s,\tbest extra_tree's error=0.1672,\tbest xgboost's error=0.1643\n",
            "[flaml.automl: 09-19 14:45:18] {1735} INFO - iteration 307, current learner xgboost\n",
            "[flaml.automl: 09-19 14:45:18] {1920} INFO -  at 209.1s,\tbest xgboost's error=0.1643,\tbest xgboost's error=0.1643\n",
            "[flaml.automl: 09-19 14:45:18] {1735} INFO - iteration 308, current learner xgboost\n",
            "[flaml.automl: 09-19 14:45:19] {1920} INFO -  at 209.3s,\tbest xgboost's error=0.1643,\tbest xgboost's error=0.1643\n",
            "[flaml.automl: 09-19 14:45:19] {1735} INFO - iteration 309, current learner rf\n",
            "[flaml.automl: 09-19 14:45:20] {1920} INFO -  at 210.6s,\tbest rf's error=0.1742,\tbest xgboost's error=0.1643\n",
            "[flaml.automl: 09-19 14:45:20] {1735} INFO - iteration 310, current learner xgboost\n",
            "[flaml.automl: 09-19 14:45:20] {1920} INFO -  at 210.8s,\tbest xgboost's error=0.1643,\tbest xgboost's error=0.1643\n",
            "[flaml.automl: 09-19 14:45:20] {1735} INFO - iteration 311, current learner catboost\n",
            "[flaml.automl: 09-19 14:45:22] {1920} INFO -  at 212.4s,\tbest catboost's error=0.1658,\tbest xgboost's error=0.1643\n",
            "[flaml.automl: 09-19 14:45:22] {1735} INFO - iteration 312, current learner catboost\n",
            "[flaml.automl: 09-19 14:45:23] {1920} INFO -  at 213.9s,\tbest catboost's error=0.1658,\tbest xgboost's error=0.1643\n",
            "[flaml.automl: 09-19 14:45:23] {1735} INFO - iteration 313, current learner xgboost\n",
            "[flaml.automl: 09-19 14:45:23] {1920} INFO -  at 214.2s,\tbest xgboost's error=0.1643,\tbest xgboost's error=0.1643\n",
            "[flaml.automl: 09-19 14:45:23] {1735} INFO - iteration 314, current learner catboost\n",
            "[flaml.automl: 09-19 14:45:26] {1920} INFO -  at 216.4s,\tbest catboost's error=0.1658,\tbest xgboost's error=0.1643\n",
            "[flaml.automl: 09-19 14:45:26] {1735} INFO - iteration 315, current learner extra_tree\n",
            "[flaml.automl: 09-19 14:45:27] {1920} INFO -  at 217.7s,\tbest extra_tree's error=0.1672,\tbest xgboost's error=0.1643\n",
            "[flaml.automl: 09-19 14:45:27] {1735} INFO - iteration 316, current learner extra_tree\n",
            "[flaml.automl: 09-19 14:45:28] {1920} INFO -  at 219.1s,\tbest extra_tree's error=0.1672,\tbest xgboost's error=0.1643\n",
            "[flaml.automl: 09-19 14:45:28] {1735} INFO - iteration 317, current learner catboost\n",
            "[flaml.automl: 09-19 14:45:30] {1920} INFO -  at 220.4s,\tbest catboost's error=0.1658,\tbest xgboost's error=0.1643\n",
            "[flaml.automl: 09-19 14:45:30] {1735} INFO - iteration 318, current learner rf\n",
            "[flaml.automl: 09-19 14:45:31] {1920} INFO -  at 221.8s,\tbest rf's error=0.1742,\tbest xgboost's error=0.1643\n",
            "[flaml.automl: 09-19 14:45:31] {1735} INFO - iteration 319, current learner rf\n",
            "[flaml.automl: 09-19 14:45:32] {1920} INFO -  at 223.1s,\tbest rf's error=0.1742,\tbest xgboost's error=0.1643\n",
            "[flaml.automl: 09-19 14:45:32] {1735} INFO - iteration 320, current learner xgboost\n",
            "[flaml.automl: 09-19 14:45:33] {1920} INFO -  at 223.3s,\tbest xgboost's error=0.1643,\tbest xgboost's error=0.1643\n",
            "[flaml.automl: 09-19 14:45:33] {1735} INFO - iteration 321, current learner xgboost\n",
            "[flaml.automl: 09-19 14:45:33] {1920} INFO -  at 223.5s,\tbest xgboost's error=0.1643,\tbest xgboost's error=0.1643\n",
            "[flaml.automl: 09-19 14:45:33] {1735} INFO - iteration 322, current learner rf\n",
            "[flaml.automl: 09-19 14:45:34] {1920} INFO -  at 225.0s,\tbest rf's error=0.1742,\tbest xgboost's error=0.1643\n",
            "[flaml.automl: 09-19 14:45:34] {1735} INFO - iteration 323, current learner catboost\n",
            "[flaml.automl: 09-19 14:45:37] {1920} INFO -  at 227.3s,\tbest catboost's error=0.1616,\tbest catboost's error=0.1616\n",
            "[flaml.automl: 09-19 14:45:37] {1735} INFO - iteration 324, current learner catboost\n",
            "[flaml.automl: 09-19 14:45:39] {1920} INFO -  at 229.5s,\tbest catboost's error=0.1616,\tbest catboost's error=0.1616\n",
            "[flaml.automl: 09-19 14:45:39] {1735} INFO - iteration 325, current learner catboost\n",
            "[flaml.automl: 09-19 14:45:40] {1920} INFO -  at 231.2s,\tbest catboost's error=0.1616,\tbest catboost's error=0.1616\n",
            "[flaml.automl: 09-19 14:45:40] {1735} INFO - iteration 326, current learner catboost\n",
            "[flaml.automl: 09-19 14:45:42] {1920} INFO -  at 232.7s,\tbest catboost's error=0.1616,\tbest catboost's error=0.1616\n",
            "[flaml.automl: 09-19 14:45:42] {1735} INFO - iteration 327, current learner catboost\n",
            "[flaml.automl: 09-19 14:45:43] {1920} INFO -  at 234.0s,\tbest catboost's error=0.1616,\tbest catboost's error=0.1616\n",
            "[flaml.automl: 09-19 14:45:43] {1735} INFO - iteration 328, current learner rf\n",
            "[flaml.automl: 09-19 14:45:45] {1920} INFO -  at 235.3s,\tbest rf's error=0.1742,\tbest catboost's error=0.1616\n",
            "[flaml.automl: 09-19 14:45:45] {1735} INFO - iteration 329, current learner catboost\n",
            "[flaml.automl: 09-19 14:45:46] {1920} INFO -  at 236.3s,\tbest catboost's error=0.1616,\tbest catboost's error=0.1616\n",
            "[flaml.automl: 09-19 14:45:46] {1735} INFO - iteration 330, current learner catboost\n",
            "[flaml.automl: 09-19 14:45:46] {1920} INFO -  at 237.1s,\tbest catboost's error=0.1616,\tbest catboost's error=0.1616\n",
            "[flaml.automl: 09-19 14:45:46] {1735} INFO - iteration 331, current learner catboost\n",
            "[flaml.automl: 09-19 14:45:47] {1920} INFO -  at 237.8s,\tbest catboost's error=0.1616,\tbest catboost's error=0.1616\n",
            "[flaml.automl: 09-19 14:45:47] {1735} INFO - iteration 332, current learner lrl1\n",
            "No low-cost partial config given to the search algorithm. For cost-frugal search, consider providing low-cost values for cost-related hps via 'low_cost_partial_config'.\n",
            "/usr/local/lib/python3.7/dist-packages/sklearn/linear_model/_sag.py:329: ConvergenceWarning: The max_iter was reached which means the coef_ did not converge\n",
            "  \"the coef_ did not converge\", ConvergenceWarning)\n",
            "/usr/local/lib/python3.7/dist-packages/sklearn/linear_model/_sag.py:329: ConvergenceWarning: The max_iter was reached which means the coef_ did not converge\n",
            "  \"the coef_ did not converge\", ConvergenceWarning)\n",
            "/usr/local/lib/python3.7/dist-packages/sklearn/linear_model/_sag.py:329: ConvergenceWarning: The max_iter was reached which means the coef_ did not converge\n",
            "  \"the coef_ did not converge\", ConvergenceWarning)\n",
            "/usr/local/lib/python3.7/dist-packages/sklearn/linear_model/_sag.py:329: ConvergenceWarning: The max_iter was reached which means the coef_ did not converge\n",
            "  \"the coef_ did not converge\", ConvergenceWarning)\n",
            "/usr/local/lib/python3.7/dist-packages/sklearn/linear_model/_sag.py:329: ConvergenceWarning: The max_iter was reached which means the coef_ did not converge\n",
            "  \"the coef_ did not converge\", ConvergenceWarning)\n",
            "[flaml.automl: 09-19 14:45:48] {1920} INFO -  at 238.5s,\tbest lrl1's error=0.3187,\tbest catboost's error=0.1616\n",
            "[flaml.automl: 09-19 14:45:48] {1735} INFO - iteration 333, current learner lrl1\n",
            "/usr/local/lib/python3.7/dist-packages/sklearn/linear_model/_sag.py:329: ConvergenceWarning: The max_iter was reached which means the coef_ did not converge\n",
            "  \"the coef_ did not converge\", ConvergenceWarning)\n",
            "/usr/local/lib/python3.7/dist-packages/sklearn/linear_model/_sag.py:329: ConvergenceWarning: The max_iter was reached which means the coef_ did not converge\n",
            "  \"the coef_ did not converge\", ConvergenceWarning)\n",
            "/usr/local/lib/python3.7/dist-packages/sklearn/linear_model/_sag.py:329: ConvergenceWarning: The max_iter was reached which means the coef_ did not converge\n",
            "  \"the coef_ did not converge\", ConvergenceWarning)\n",
            "/usr/local/lib/python3.7/dist-packages/sklearn/linear_model/_sag.py:329: ConvergenceWarning: The max_iter was reached which means the coef_ did not converge\n",
            "  \"the coef_ did not converge\", ConvergenceWarning)\n",
            "/usr/local/lib/python3.7/dist-packages/sklearn/linear_model/_sag.py:329: ConvergenceWarning: The max_iter was reached which means the coef_ did not converge\n",
            "  \"the coef_ did not converge\", ConvergenceWarning)\n",
            "[flaml.automl: 09-19 14:45:48] {1920} INFO -  at 239.1s,\tbest lrl1's error=0.3187,\tbest catboost's error=0.1616\n",
            "[flaml.automl: 09-19 14:45:48] {1735} INFO - iteration 334, current learner lrl1\n",
            "/usr/local/lib/python3.7/dist-packages/sklearn/linear_model/_sag.py:329: ConvergenceWarning: The max_iter was reached which means the coef_ did not converge\n",
            "  \"the coef_ did not converge\", ConvergenceWarning)\n",
            "/usr/local/lib/python3.7/dist-packages/sklearn/linear_model/_sag.py:329: ConvergenceWarning: The max_iter was reached which means the coef_ did not converge\n",
            "  \"the coef_ did not converge\", ConvergenceWarning)\n",
            "/usr/local/lib/python3.7/dist-packages/sklearn/linear_model/_sag.py:329: ConvergenceWarning: The max_iter was reached which means the coef_ did not converge\n",
            "  \"the coef_ did not converge\", ConvergenceWarning)\n",
            "/usr/local/lib/python3.7/dist-packages/sklearn/linear_model/_sag.py:329: ConvergenceWarning: The max_iter was reached which means the coef_ did not converge\n",
            "  \"the coef_ did not converge\", ConvergenceWarning)\n",
            "/usr/local/lib/python3.7/dist-packages/sklearn/linear_model/_sag.py:329: ConvergenceWarning: The max_iter was reached which means the coef_ did not converge\n",
            "  \"the coef_ did not converge\", ConvergenceWarning)\n",
            "[flaml.automl: 09-19 14:45:49] {1920} INFO -  at 239.8s,\tbest lrl1's error=0.3187,\tbest catboost's error=0.1616\n",
            "[flaml.automl: 09-19 14:45:49] {2021} INFO - selected model: <catboost.core.CatBoostClassifier object at 0x7f7fe930f150>\n",
            "[flaml.automl: 09-19 14:45:50] {2084} INFO - retrain catboost for 0.5s\n",
            "[flaml.automl: 09-19 14:45:50] {2088} INFO - retrained model: <catboost.core.CatBoostClassifier object at 0x7f7fea46a310>\n",
            "[flaml.automl: 09-19 14:45:50] {1529} INFO - fit succeeded\n",
            "[flaml.automl: 09-19 14:45:50] {1531} INFO - Time taken to find the best model: 227.28632521629333\n",
            "[flaml.automl: 09-19 14:45:50] {1545} WARNING - Time taken to find the best model is 95% of the provided time budget and not all estimators' hyperparameter search converged. Consider increasing the time budget.\n"
          ]
        }
      ]
    },
    {
      "cell_type": "markdown",
      "metadata": {
        "id": "UDiRZRGaq8H-"
      },
      "source": [
        "### Best model and metric"
      ]
    },
    {
      "cell_type": "code",
      "metadata": {
        "tags": [],
        "id": "qWeLf9fxq8IA",
        "colab": {
          "base_uri": "https://localhost:8080/"
        },
        "outputId": "30c2d8af-f042-4c9f-e977-fccd0f43f1ea"
      },
      "source": [
        "''' retrieve best config and best learner'''\n",
        "print('Best ML leaner:', automl.best_estimator)\n",
        "print('Best hyperparmeter config:', automl.best_config)\n",
        "print('Best accuracy on validation data: {0:.4g}'.format(1-automl.best_loss))\n",
        "print('Training duration of best run: {0:.4g} s'.format(automl.best_config_train_time))"
      ],
      "execution_count": 19,
      "outputs": [
        {
          "output_type": "stream",
          "name": "stdout",
          "text": [
            "Best ML leaner: catboost\n",
            "Best hyperparmeter config: {'early_stopping_rounds': 22, 'learning_rate': 0.027169076557905677}\n",
            "Best accuracy on validation data: 0.8384\n",
            "Training duration of best run: 2.321 s\n"
          ]
        }
      ]
    },
    {
      "cell_type": "code",
      "metadata": {
        "id": "Cl0MQu5cq8IB",
        "colab": {
          "base_uri": "https://localhost:8080/"
        },
        "outputId": "a5cc8720-ff3c-4297-8894-5706815eb5b9"
      },
      "source": [
        "automl.model.estimator"
      ],
      "execution_count": 20,
      "outputs": [
        {
          "output_type": "execute_result",
          "data": {
            "text/plain": [
              "<catboost.core.CatBoostClassifier at 0x7f7fea46a310>"
            ]
          },
          "metadata": {},
          "execution_count": 20
        }
      ]
    },
    {
      "cell_type": "code",
      "metadata": {
        "tags": [],
        "id": "HkeW2yE9q8ID",
        "colab": {
          "base_uri": "https://localhost:8080/"
        },
        "outputId": "e1863983-c0a0-4be8-d0b7-0e120f263368"
      },
      "source": [
        "''' compute predictions of testing dataset ''' \n",
        "y_pred = automl.predict(X_test)\n",
        "print('Predicted labels', y_pred)\n",
        "print('True labels', y_test)\n",
        "y_pred_proba = automl.predict_proba(X_test)[:,1]"
      ],
      "execution_count": 21,
      "outputs": [
        {
          "output_type": "stream",
          "name": "stdout",
          "text": [
            "Predicted labels [0 0 0 1 1 1 1 0 1 1 1 0 0 0 0 1 0 1 0 0 0 0 1 0 0 0 0 0 0 1 0 1 0 1 0 0 0\n",
            " 1 1 0 0 0 0 0 1 0 0 0 0 0 1 1 0 1 0 1 0 1 1 1 0 1 1 0 0 1 0 0 0 1 1 1 0 1\n",
            " 0 0 1 1 1 0 0 1 1 0 0 0 1 1 0 0 0 0 0 0 0 0 0 0 1 0 0 0 1 0 0 0 1 0 0 0 1\n",
            " 0 1 0 0 0 0 1 1 0 0 1 1 1 0 0 1 0 1 0 1 0 0 1 0 1 1 0 0 0 0 1 0 0 0 1 0 0\n",
            " 1 0 0 0 0 0 0 0 0 1 1 1 0 0 0 1 0 0 0 1 0 0 0 1 0 1 0 0 0 1 1]\n",
            "True labels 709    1\n",
            "439    0\n",
            "840    0\n",
            "720    1\n",
            "39     1\n",
            "      ..\n",
            "433    0\n",
            "773    0\n",
            "25     1\n",
            "84     1\n",
            "10     1\n",
            "Name: Survived, Length: 179, dtype: int64\n"
          ]
        }
      ]
    },
    {
      "cell_type": "code",
      "metadata": {
        "tags": [],
        "id": "sJ8jmPUzq8IE",
        "colab": {
          "base_uri": "https://localhost:8080/"
        },
        "outputId": "579b56bf-07bf-4c2b-cd43-0cad00f2bdbd"
      },
      "source": [
        "''' compute different metric values on testing dataset'''\n",
        "from flaml.ml import sklearn_metric_loss_score\n",
        "print('accuracy', '=', 1 - sklearn_metric_loss_score('accuracy', y_pred, y_test))\n"
      ],
      "execution_count": 22,
      "outputs": [
        {
          "output_type": "stream",
          "name": "stdout",
          "text": [
            "accuracy = 0.8044692737430168\n"
          ]
        }
      ]
    },
    {
      "cell_type": "markdown",
      "metadata": {
        "id": "LyOGKeXfq8IF"
      },
      "source": [
        "See Section 4 for an accuracy comparison with default LightGBM and XGBoost.\n",
        "\n",
        "### Log history"
      ]
    },
    {
      "cell_type": "code",
      "metadata": {
        "tags": [],
        "id": "1zr-bKJdq8IH",
        "colab": {
          "base_uri": "https://localhost:8080/"
        },
        "outputId": "d87985d5-eab1-49f0-f6fd-46825cc88282"
      },
      "source": [
        "from flaml.data import get_output_from_log\n",
        "time_history, best_valid_loss_history, valid_loss_history, config_history, metric_history = \\\n",
        "    get_output_from_log(filename=settings['log_file_name'], time_budget=240)\n",
        "for config in config_history:\n",
        "    print(config)"
      ],
      "execution_count": 23,
      "outputs": [
        {
          "output_type": "stream",
          "name": "stdout",
          "text": [
            "{'Current Learner': 'lgbm', 'Current Sample': 712, 'Current Hyper-parameters': {'n_estimators': 4, 'num_leaves': 4, 'min_child_samples': 20, 'learning_rate': 0.09999999999999995, 'log_max_bin': 8, 'colsample_bytree': 1.0, 'reg_alpha': 0.0009765625, 'reg_lambda': 1.0}, 'Best Learner': 'lgbm', 'Best Hyper-parameters': {'n_estimators': 4, 'num_leaves': 4, 'min_child_samples': 20, 'learning_rate': 0.09999999999999995, 'log_max_bin': 8, 'colsample_bytree': 1.0, 'reg_alpha': 0.0009765625, 'reg_lambda': 1.0}}\n",
            "{'Current Learner': 'lgbm', 'Current Sample': 712, 'Current Hyper-parameters': {'n_estimators': 4, 'num_leaves': 4, 'min_child_samples': 12, 'learning_rate': 0.26770501231052046, 'log_max_bin': 7, 'colsample_bytree': 1.0, 'reg_alpha': 0.001348364934537134, 'reg_lambda': 1.4442580148221913}, 'Best Learner': 'lgbm', 'Best Hyper-parameters': {'n_estimators': 4, 'num_leaves': 4, 'min_child_samples': 12, 'learning_rate': 0.26770501231052046, 'log_max_bin': 7, 'colsample_bytree': 1.0, 'reg_alpha': 0.001348364934537134, 'reg_lambda': 1.4442580148221913}}\n",
            "{'Current Learner': 'lgbm', 'Current Sample': 712, 'Current Hyper-parameters': {'n_estimators': 7, 'num_leaves': 4, 'min_child_samples': 9, 'learning_rate': 0.7260594590615893, 'log_max_bin': 9, 'colsample_bytree': 0.9285002286474459, 'reg_alpha': 0.0036840681931986645, 'reg_lambda': 0.7532480505730402}, 'Best Learner': 'lgbm', 'Best Hyper-parameters': {'n_estimators': 7, 'num_leaves': 4, 'min_child_samples': 9, 'learning_rate': 0.7260594590615893, 'log_max_bin': 9, 'colsample_bytree': 0.9285002286474459, 'reg_alpha': 0.0036840681931986645, 'reg_lambda': 0.7532480505730402}}\n",
            "{'Current Learner': 'lgbm', 'Current Sample': 712, 'Current Hyper-parameters': {'n_estimators': 4, 'num_leaves': 5, 'min_child_samples': 12, 'learning_rate': 1.0, 'log_max_bin': 9, 'colsample_bytree': 0.9978540381500408, 'reg_alpha': 0.03272242872077145, 'reg_lambda': 3.8897912933900862}, 'Best Learner': 'lgbm', 'Best Hyper-parameters': {'n_estimators': 4, 'num_leaves': 5, 'min_child_samples': 12, 'learning_rate': 1.0, 'log_max_bin': 9, 'colsample_bytree': 0.9978540381500408, 'reg_alpha': 0.03272242872077145, 'reg_lambda': 3.8897912933900862}}\n",
            "{'Current Learner': 'rf', 'Current Sample': 712, 'Current Hyper-parameters': {'n_estimators': 4, 'max_features': 0.9692029582222275, 'max_leaves': 8, 'criterion': 'entropy'}, 'Best Learner': 'rf', 'Best Hyper-parameters': {'n_estimators': 4, 'max_features': 0.9692029582222275, 'max_leaves': 8, 'criterion': 'entropy'}}\n",
            "{'Current Learner': 'extra', 'Current Sample': 712, 'Current Hyper-parameters': {'n_estimators': 4, 'max_features': 1.0, 'max_leaves': 9, 'criterion': 'entropy'}, 'Best Learner': 'extra', 'Best Hyper-parameters': {'n_estimators': 4, 'max_features': 1.0, 'max_leaves': 9, 'criterion': 'entropy'}}\n",
            "{'Current Learner': 'xgboost', 'Current Sample': 712, 'Current Hyper-parameters': {'n_estimators': 12, 'max_leaves': 9, 'min_child_weight': 2.0876646726010812, 'learning_rate': 0.11259043988256902, 'subsample': 0.8759890539704472, 'colsample_bylevel': 1.0, 'colsample_bytree': 0.8904833742804712, 'reg_alpha': 0.0010427594190797666, 'reg_lambda': 0.7041813735871983}, 'Best Learner': 'xgboost', 'Best Hyper-parameters': {'n_estimators': 12, 'max_leaves': 9, 'min_child_weight': 2.0876646726010812, 'learning_rate': 0.11259043988256902, 'subsample': 0.8759890539704472, 'colsample_bylevel': 1.0, 'colsample_bytree': 0.8904833742804712, 'reg_alpha': 0.0010427594190797666, 'reg_lambda': 0.7041813735871983}}\n",
            "{'Current Learner': 'xgboost', 'Current Sample': 712, 'Current Hyper-parameters': {'n_estimators': 12, 'max_leaves': 7, 'min_child_weight': 0.4195513373649429, 'learning_rate': 0.4984843076885476, 'subsample': 0.9801080367195829, 'colsample_bylevel': 0.9632605707956107, 'colsample_bytree': 0.832866191429293, 'reg_alpha': 0.0009765625, 'reg_lambda': 0.32737983379194024}, 'Best Learner': 'xgboost', 'Best Hyper-parameters': {'n_estimators': 12, 'max_leaves': 7, 'min_child_weight': 0.4195513373649429, 'learning_rate': 0.4984843076885476, 'subsample': 0.9801080367195829, 'colsample_bylevel': 0.9632605707956107, 'colsample_bytree': 0.832866191429293, 'reg_alpha': 0.0009765625, 'reg_lambda': 0.32737983379194024}}\n",
            "{'Current Learner': 'catboost', 'Current Sample': 712, 'Current Hyper-parameters': {'early_stopping_rounds': 22, 'learning_rate': 0.027169076557905677}, 'Best Learner': 'catboost', 'Best Hyper-parameters': {'early_stopping_rounds': 22, 'learning_rate': 0.027169076557905677}}\n"
          ]
        }
      ]
    },
    {
      "cell_type": "code",
      "metadata": {
        "id": "iWOgNDZgq8IH",
        "colab": {
          "base_uri": "https://localhost:8080/",
          "height": 295
        },
        "outputId": "ca1b26f3-c52f-4093-8441-9b2b4991b10d"
      },
      "source": [
        "import matplotlib.pyplot as plt\n",
        "import numpy as np\n",
        "\n",
        "plt.title('Learning Curve')\n",
        "plt.xlabel('Wall Clock Time (s)')\n",
        "plt.ylabel('Validation Accuracy')\n",
        "plt.scatter(time_history, 1 - np.array(valid_loss_history))\n",
        "plt.step(time_history, 1 - np.array(best_valid_loss_history), where='post')\n",
        "plt.show()"
      ],
      "execution_count": 24,
      "outputs": [
        {
          "output_type": "display_data",
          "data": {
            "image/png": "[encoded data removed]",
            "text/plain": [
              "<Figure size 432x288 with 1 Axes>"
            ]
          },
          "metadata": {
            "needs_background": "light"
          }
        }
      ]
    },
    {
      "cell_type": "markdown",
      "metadata": {
        "id": "bNtKpr4judVp"
      },
      "source": [
        "## Autokeras"
      ]
    },
    {
      "cell_type": "code",
      "metadata": {
        "colab": {
          "base_uri": "https://localhost:8080/"
        },
        "id": "4WowL-vxu8v8",
        "outputId": "2914aac2-261a-4f79-e258-b101ce88b513"
      },
      "source": [
        "!pip install autokeras"
      ],
      "execution_count": 30,
      "outputs": [
        {
          "output_type": "stream",
          "name": "stdout",
          "text": [
            "Requirement already satisfied: autokeras in /usr/local/lib/python3.7/dist-packages (1.0.16)\n",
            "Requirement already satisfied: tensorflow<=2.5.0,>=2.3.0 in /usr/local/lib/python3.7/dist-packages (from autokeras) (2.5.0)\n",
            "Requirement already satisfied: pandas in /usr/local/lib/python3.7/dist-packages (from autokeras) (1.1.5)\n",
            "Requirement already satisfied: keras-tuner>=1.0.2 in /usr/local/lib/python3.7/dist-packages (from autokeras) (1.0.4)\n",
            "Requirement already satisfied: packaging in /usr/local/lib/python3.7/dist-packages (from autokeras) (21.0)\n",
            "Requirement already satisfied: scikit-learn in /usr/local/lib/python3.7/dist-packages (from autokeras) (0.24.2)\n",
            "Requirement already satisfied: requests in /usr/local/lib/python3.7/dist-packages (from keras-tuner>=1.0.2->autokeras) (2.23.0)\n",
            "Requirement already satisfied: numpy in /usr/local/lib/python3.7/dist-packages (from keras-tuner>=1.0.2->autokeras) (1.19.5)\n",
            "Requirement already satisfied: tensorboard in /usr/local/lib/python3.7/dist-packages (from keras-tuner>=1.0.2->autokeras) (2.6.0)\n",
            "Requirement already satisfied: ipython in /usr/local/lib/python3.7/dist-packages (from keras-tuner>=1.0.2->autokeras) (5.5.0)\n",
            "Requirement already satisfied: scipy in /usr/local/lib/python3.7/dist-packages (from keras-tuner>=1.0.2->autokeras) (1.4.1)\n",
            "Requirement already satisfied: kt-legacy in /usr/local/lib/python3.7/dist-packages (from keras-tuner>=1.0.2->autokeras) (1.0.4)\n",
            "Requirement already satisfied: protobuf>=3.9.2 in /usr/local/lib/python3.7/dist-packages (from tensorflow<=2.5.0,>=2.3.0->autokeras) (3.17.3)\n",
            "Requirement already satisfied: opt-einsum~=3.3.0 in /usr/local/lib/python3.7/dist-packages (from tensorflow<=2.5.0,>=2.3.0->autokeras) (3.3.0)\n",
            "Requirement already satisfied: wrapt~=1.12.1 in /usr/local/lib/python3.7/dist-packages (from tensorflow<=2.5.0,>=2.3.0->autokeras) (1.12.1)\n",
            "Requirement already satisfied: keras-nightly~=2.5.0.dev in /usr/local/lib/python3.7/dist-packages (from tensorflow<=2.5.0,>=2.3.0->autokeras) (2.5.0.dev2021032900)\n",
            "Requirement already satisfied: wheel~=0.35 in /usr/local/lib/python3.7/dist-packages (from tensorflow<=2.5.0,>=2.3.0->autokeras) (0.37.0)\n",
            "Requirement already satisfied: termcolor~=1.1.0 in /usr/local/lib/python3.7/dist-packages (from tensorflow<=2.5.0,>=2.3.0->autokeras) (1.1.0)\n",
            "Requirement already satisfied: keras-preprocessing~=1.1.2 in /usr/local/lib/python3.7/dist-packages (from tensorflow<=2.5.0,>=2.3.0->autokeras) (1.1.2)\n",
            "Requirement already satisfied: flatbuffers~=1.12.0 in /usr/local/lib/python3.7/dist-packages (from tensorflow<=2.5.0,>=2.3.0->autokeras) (1.12)\n",
            "Requirement already satisfied: grpcio~=1.34.0 in /usr/local/lib/python3.7/dist-packages (from tensorflow<=2.5.0,>=2.3.0->autokeras) (1.34.1)\n",
            "Requirement already satisfied: astunparse~=1.6.3 in /usr/local/lib/python3.7/dist-packages (from tensorflow<=2.5.0,>=2.3.0->autokeras) (1.6.3)\n",
            "Requirement already satisfied: gast==0.4.0 in /usr/local/lib/python3.7/dist-packages (from tensorflow<=2.5.0,>=2.3.0->autokeras) (0.4.0)\n",
            "Requirement already satisfied: tensorflow-estimator<2.6.0,>=2.5.0rc0 in /usr/local/lib/python3.7/dist-packages (from tensorflow<=2.5.0,>=2.3.0->autokeras) (2.5.0)\n",
            "Requirement already satisfied: six~=1.15.0 in /usr/local/lib/python3.7/dist-packages (from tensorflow<=2.5.0,>=2.3.0->autokeras) (1.15.0)\n",
            "Requirement already satisfied: h5py~=3.1.0 in /usr/local/lib/python3.7/dist-packages (from tensorflow<=2.5.0,>=2.3.0->autokeras) (3.1.0)\n",
            "Requirement already satisfied: absl-py~=0.10 in /usr/local/lib/python3.7/dist-packages (from tensorflow<=2.5.0,>=2.3.0->autokeras) (0.12.0)\n",
            "Requirement already satisfied: google-pasta~=0.2 in /usr/local/lib/python3.7/dist-packages (from tensorflow<=2.5.0,>=2.3.0->autokeras) (0.2.0)\n",
            "Requirement already satisfied: typing-extensions~=3.7.4 in /usr/local/lib/python3.7/dist-packages (from tensorflow<=2.5.0,>=2.3.0->autokeras) (3.7.4.3)\n",
            "Requirement already satisfied: cached-property in /usr/local/lib/python3.7/dist-packages (from h5py~=3.1.0->tensorflow<=2.5.0,>=2.3.0->autokeras) (1.5.2)\n",
            "Requirement already satisfied: google-auth<2,>=1.6.3 in /usr/local/lib/python3.7/dist-packages (from tensorboard->keras-tuner>=1.0.2->autokeras) (1.35.0)\n",
            "Requirement already satisfied: markdown>=2.6.8 in /usr/local/lib/python3.7/dist-packages (from tensorboard->keras-tuner>=1.0.2->autokeras) (3.3.4)\n",
            "Requirement already satisfied: werkzeug>=0.11.15 in /usr/local/lib/python3.7/dist-packages (from tensorboard->keras-tuner>=1.0.2->autokeras) (1.0.1)\n",
            "Requirement already satisfied: tensorboard-data-server<0.7.0,>=0.6.0 in /usr/local/lib/python3.7/dist-packages (from tensorboard->keras-tuner>=1.0.2->autokeras) (0.6.1)\n",
            "Requirement already satisfied: tensorboard-plugin-wit>=1.6.0 in /usr/local/lib/python3.7/dist-packages (from tensorboard->keras-tuner>=1.0.2->autokeras) (1.8.0)\n",
            "Requirement already satisfied: setuptools>=41.0.0 in /usr/local/lib/python3.7/dist-packages (from tensorboard->keras-tuner>=1.0.2->autokeras) (57.4.0)\n",
            "Requirement already satisfied: google-auth-oauthlib<0.5,>=0.4.1 in /usr/local/lib/python3.7/dist-packages (from tensorboard->keras-tuner>=1.0.2->autokeras) (0.4.6)\n",
            "Requirement already satisfied: cachetools<5.0,>=2.0.0 in /usr/local/lib/python3.7/dist-packages (from google-auth<2,>=1.6.3->tensorboard->keras-tuner>=1.0.2->autokeras) (4.2.2)\n",
            "Requirement already satisfied: pyasn1-modules>=0.2.1 in /usr/local/lib/python3.7/dist-packages (from google-auth<2,>=1.6.3->tensorboard->keras-tuner>=1.0.2->autokeras) (0.2.8)\n",
            "Requirement already satisfied: rsa<5,>=3.1.4 in /usr/local/lib/python3.7/dist-packages (from google-auth<2,>=1.6.3->tensorboard->keras-tuner>=1.0.2->autokeras) (4.7.2)\n",
            "Requirement already satisfied: requests-oauthlib>=0.7.0 in /usr/local/lib/python3.7/dist-packages (from google-auth-oauthlib<0.5,>=0.4.1->tensorboard->keras-tuner>=1.0.2->autokeras) (1.3.0)\n",
            "Requirement already satisfied: importlib-metadata in /usr/local/lib/python3.7/dist-packages (from markdown>=2.6.8->tensorboard->keras-tuner>=1.0.2->autokeras) (4.8.1)\n",
            "Requirement already satisfied: pyasn1<0.5.0,>=0.4.6 in /usr/local/lib/python3.7/dist-packages (from pyasn1-modules>=0.2.1->google-auth<2,>=1.6.3->tensorboard->keras-tuner>=1.0.2->autokeras) (0.4.8)\n",
            "Requirement already satisfied: certifi>=2017.4.17 in /usr/local/lib/python3.7/dist-packages (from requests->keras-tuner>=1.0.2->autokeras) (2021.5.30)\n",
            "Requirement already satisfied: idna<3,>=2.5 in /usr/local/lib/python3.7/dist-packages (from requests->keras-tuner>=1.0.2->autokeras) (2.10)\n",
            "Requirement already satisfied: chardet<4,>=3.0.2 in /usr/local/lib/python3.7/dist-packages (from requests->keras-tuner>=1.0.2->autokeras) (3.0.4)\n",
            "Requirement already satisfied: urllib3!=1.25.0,!=1.25.1,<1.26,>=1.21.1 in /usr/local/lib/python3.7/dist-packages (from requests->keras-tuner>=1.0.2->autokeras) (1.24.3)\n",
            "Requirement already satisfied: oauthlib>=3.0.0 in /usr/local/lib/python3.7/dist-packages (from requests-oauthlib>=0.7.0->google-auth-oauthlib<0.5,>=0.4.1->tensorboard->keras-tuner>=1.0.2->autokeras) (3.1.1)\n",
            "Requirement already satisfied: zipp>=0.5 in /usr/local/lib/python3.7/dist-packages (from importlib-metadata->markdown>=2.6.8->tensorboard->keras-tuner>=1.0.2->autokeras) (3.5.0)\n",
            "Requirement already satisfied: pygments in /usr/local/lib/python3.7/dist-packages (from ipython->keras-tuner>=1.0.2->autokeras) (2.6.1)\n",
            "Requirement already satisfied: simplegeneric>0.8 in /usr/local/lib/python3.7/dist-packages (from ipython->keras-tuner>=1.0.2->autokeras) (0.8.1)\n",
            "Requirement already satisfied: pexpect in /usr/local/lib/python3.7/dist-packages (from ipython->keras-tuner>=1.0.2->autokeras) (4.8.0)\n",
            "Requirement already satisfied: pickleshare in /usr/local/lib/python3.7/dist-packages (from ipython->keras-tuner>=1.0.2->autokeras) (0.7.5)\n",
            "Requirement already satisfied: traitlets>=4.2 in /usr/local/lib/python3.7/dist-packages (from ipython->keras-tuner>=1.0.2->autokeras) (5.1.0)\n",
            "Requirement already satisfied: decorator in /usr/local/lib/python3.7/dist-packages (from ipython->keras-tuner>=1.0.2->autokeras) (4.4.2)\n",
            "Requirement already satisfied: prompt-toolkit<2.0.0,>=1.0.4 in /usr/local/lib/python3.7/dist-packages (from ipython->keras-tuner>=1.0.2->autokeras) (1.0.18)\n",
            "Requirement already satisfied: wcwidth in /usr/local/lib/python3.7/dist-packages (from prompt-toolkit<2.0.0,>=1.0.4->ipython->keras-tuner>=1.0.2->autokeras) (0.2.5)\n",
            "Requirement already satisfied: pyparsing>=2.0.2 in /usr/local/lib/python3.7/dist-packages (from packaging->autokeras) (2.4.7)\n",
            "Requirement already satisfied: python-dateutil>=2.7.3 in /usr/local/lib/python3.7/dist-packages (from pandas->autokeras) (2.8.2)\n",
            "Requirement already satisfied: pytz>=2017.2 in /usr/local/lib/python3.7/dist-packages (from pandas->autokeras) (2018.9)\n",
            "Requirement already satisfied: ptyprocess>=0.5 in /usr/local/lib/python3.7/dist-packages (from pexpect->ipython->keras-tuner>=1.0.2->autokeras) (0.7.0)\n",
            "Requirement already satisfied: joblib>=0.11 in /usr/local/lib/python3.7/dist-packages (from scikit-learn->autokeras) (1.0.1)\n",
            "Requirement already satisfied: threadpoolctl>=2.0.0 in /usr/local/lib/python3.7/dist-packages (from scikit-learn->autokeras) (2.2.0)\n"
          ]
        }
      ]
    },
    {
      "cell_type": "code",
      "metadata": {
        "id": "T_IfBDViujyC"
      },
      "source": [
        "import pandas as pd\n",
        "import numpy as np\n",
        "import tensorflow as tf\n",
        "import autokeras as ak\n",
        "\n",
        "# Initialize the structured data classifier.\n",
        "clf = ak.StructuredDataClassifier(\n",
        "    overwrite=True, max_trials=10\n",
        ")  # It tries 3 different models."
      ],
      "execution_count": 35,
      "outputs": []
    },
    {
      "cell_type": "code",
      "metadata": {
        "id": "4Lx4gMPIu7Yn",
        "colab": {
          "base_uri": "https://localhost:8080/"
        },
        "outputId": "acd01df5-548c-4e7c-9577-e43dd1ddc77c"
      },
      "source": [
        "# Feed the structured data classifier with training data.\n",
        "clf.fit(\n",
        "    # The path to the train.csv file.\n",
        "    train_file_path,\n",
        "    # The name of the label column.\n",
        "    \"Survived\",\n",
        "    epochs=30,\n",
        ")"
      ],
      "execution_count": 36,
      "outputs": [
        {
          "output_type": "stream",
          "name": "stdout",
          "text": [
            "Trial 10 Complete [00h 00m 09s]\n",
            "val_accuracy: 0.8653846383094788\n",
            "\n",
            "Best val_accuracy So Far: 0.875\n",
            "Total elapsed time: 00h 01m 31s\n",
            "INFO:tensorflow:Oracle triggered exit\n",
            "Epoch 1/30\n",
            "23/23 [==============================] - 1s 5ms/step - loss: 0.6643 - accuracy: 0.5997\n",
            "Epoch 2/30\n",
            "23/23 [==============================] - 0s 5ms/step - loss: 0.5966 - accuracy: 0.7289\n",
            "Epoch 3/30\n",
            "23/23 [==============================] - 0s 5ms/step - loss: 0.5349 - accuracy: 0.7739\n",
            "Epoch 4/30\n",
            "23/23 [==============================] - 0s 5ms/step - loss: 0.4796 - accuracy: 0.7978\n",
            "Epoch 5/30\n",
            "23/23 [==============================] - 0s 5ms/step - loss: 0.4478 - accuracy: 0.8034\n",
            "Epoch 6/30\n",
            "23/23 [==============================] - 0s 5ms/step - loss: 0.4313 - accuracy: 0.8118\n",
            "Epoch 7/30\n",
            "23/23 [==============================] - 0s 5ms/step - loss: 0.4196 - accuracy: 0.8118\n",
            "Epoch 8/30\n",
            "23/23 [==============================] - 0s 5ms/step - loss: 0.4101 - accuracy: 0.8174\n",
            "Epoch 9/30\n",
            "23/23 [==============================] - 0s 5ms/step - loss: 0.4017 - accuracy: 0.8244\n",
            "Epoch 10/30\n",
            "23/23 [==============================] - 0s 5ms/step - loss: 0.3939 - accuracy: 0.8301\n",
            "Epoch 11/30\n",
            "23/23 [==============================] - 0s 5ms/step - loss: 0.3867 - accuracy: 0.8343\n",
            "Epoch 12/30\n",
            "23/23 [==============================] - 0s 5ms/step - loss: 0.3796 - accuracy: 0.8399\n",
            "Epoch 13/30\n",
            "23/23 [==============================] - 0s 4ms/step - loss: 0.3729 - accuracy: 0.8371\n",
            "Epoch 14/30\n",
            "23/23 [==============================] - 0s 5ms/step - loss: 0.3665 - accuracy: 0.8413\n",
            "Epoch 15/30\n",
            "23/23 [==============================] - 0s 6ms/step - loss: 0.3600 - accuracy: 0.8483\n",
            "Epoch 16/30\n",
            "23/23 [==============================] - 0s 5ms/step - loss: 0.3536 - accuracy: 0.8539\n",
            "Epoch 17/30\n",
            "23/23 [==============================] - 0s 5ms/step - loss: 0.3471 - accuracy: 0.8567\n",
            "Epoch 18/30\n",
            "23/23 [==============================] - 0s 5ms/step - loss: 0.3405 - accuracy: 0.8581\n",
            "Epoch 19/30\n",
            "23/23 [==============================] - 0s 6ms/step - loss: 0.3342 - accuracy: 0.8610\n",
            "Epoch 20/30\n",
            "23/23 [==============================] - 0s 5ms/step - loss: 0.3284 - accuracy: 0.8638\n",
            "Epoch 21/30\n",
            "23/23 [==============================] - 0s 5ms/step - loss: 0.3225 - accuracy: 0.8652\n",
            "Epoch 22/30\n",
            "23/23 [==============================] - 0s 5ms/step - loss: 0.3169 - accuracy: 0.8708\n",
            "Epoch 23/30\n",
            "23/23 [==============================] - 0s 5ms/step - loss: 0.3112 - accuracy: 0.8722\n",
            "Epoch 24/30\n",
            "23/23 [==============================] - 0s 5ms/step - loss: 0.3058 - accuracy: 0.8792\n",
            "Epoch 25/30\n",
            "23/23 [==============================] - 0s 5ms/step - loss: 0.3005 - accuracy: 0.8764\n",
            "Epoch 26/30\n",
            "23/23 [==============================] - 0s 5ms/step - loss: 0.2953 - accuracy: 0.8806\n",
            "Epoch 27/30\n",
            "23/23 [==============================] - 0s 5ms/step - loss: 0.2904 - accuracy: 0.8820\n",
            "Epoch 28/30\n",
            "23/23 [==============================] - 0s 5ms/step - loss: 0.2854 - accuracy: 0.8834\n",
            "Epoch 29/30\n",
            "23/23 [==============================] - 0s 5ms/step - loss: 0.2807 - accuracy: 0.8876\n",
            "Epoch 30/30\n",
            "23/23 [==============================] - 0s 5ms/step - loss: 0.2763 - accuracy: 0.8862\n",
            "INFO:tensorflow:Assets written to: ./structured_data_classifier/best_model/assets\n"
          ]
        },
        {
          "output_type": "execute_result",
          "data": {
            "text/plain": [
              "<tensorflow.python.keras.callbacks.History at 0x7f7f2a166c90>"
            ]
          },
          "metadata": {},
          "execution_count": 36
        }
      ]
    },
    {
      "cell_type": "code",
      "metadata": {
        "colab": {
          "base_uri": "https://localhost:8080/"
        },
        "id": "KoPoJ0NhvDLt",
        "outputId": "0b93d332-bb01-48cc-d353-d43808eeb5b7"
      },
      "source": [
        "# Predict with the best model.\n",
        "predicted_y = clf.predict(test_file_path)"
      ],
      "execution_count": 37,
      "outputs": [
        {
          "output_type": "stream",
          "name": "stdout",
          "text": [
            "6/6 [==============================] - 0s 4ms/step\n"
          ]
        }
      ]
    },
    {
      "cell_type": "code",
      "metadata": {
        "colab": {
          "base_uri": "https://localhost:8080/"
        },
        "id": "UxZAXKxkvFCt",
        "outputId": "776ff3d5-9a67-47d7-ad14-e42c2aec672e"
      },
      "source": [
        "# Evaluate the best model with testing data.\n",
        "print(clf.evaluate(test_file_path, \"Survived\"))"
      ],
      "execution_count": 38,
      "outputs": [
        {
          "output_type": "stream",
          "name": "stdout",
          "text": [
            "6/6 [==============================] - 0s 4ms/step - loss: 0.5732 - accuracy: 0.7821\n",
            "[0.5732184648513794, 0.7821229100227356]\n"
          ]
        }
      ]
    }
  ]
}