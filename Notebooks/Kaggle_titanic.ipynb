{
  "nbformat": 4,
  "nbformat_minor": 0,
  "metadata": {
    "interpreter": {
      "hash": "0cfea3304185a9579d09e0953576b57c8581e46e6ebc6dfeb681bc5a511f7544"
    },
    "kernelspec": {
      "name": "python3",
      "display_name": "Python 3.8.0 64-bit ('blend': conda)"
    },
    "language_info": {
      "codemirror_mode": {
        "name": "ipython",
        "version": 3
      },
      "file_extension": ".py",
      "mimetype": "text/x-python",
      "name": "python",
      "nbconvert_exporter": "python",
      "pygments_lexer": "ipython3",
      "version": "3.8.0"
    },
    "colab": {
      "name": "Kaggle-titanic.ipynb",
      "provenance": [],
      "include_colab_link": true
    },
    "accelerator": "GPU"
  },
  "cells": [
    {
      "cell_type": "markdown",
      "metadata": {
        "id": "view-in-github",
        "colab_type": "text"
      },
      "source": [
        "<a href=\"https://colab.research.google.com/github/CastHash532/flaml-automl/blob/main/Notebooks/Kaggle_titanic.ipynb\" target=\"_parent\"><img src=\"https://colab.research.google.com/assets/colab-badge.svg\" alt=\"Open In Colab\"/></a>"
      ]
    },
    {
      "cell_type": "markdown",
      "metadata": {
        "id": "Ok55Zybuq8Hr"
      },
      "source": [
        "Copyright (c) 2020-2021 Microsoft Corporation. All rights reserved. \n",
        "\n",
        "Licensed under the MIT License.\n",
        "\n",
        "AutoML with FLAML Library\n",
        "\n",
        "\n",
        "## Introduction\n",
        "\n",
        "FLAML is a Python library (https://github.com/microsoft/FLAML) designed to automatically produce accurate machine learning models \n",
        "with low computational cost. It is fast and cheap. The simple and lightweight design makes it easy \n",
        "to use and extend, such as adding new learners. FLAML can \n",
        "- serve as an economical AutoML engine,\n",
        "- be used as a fast hyperparameter tuning tool, or \n",
        "- be embedded in self-tuning software that requires low latency & resource in repetitive\n",
        "   tuning tasks.\n",
        "\n",
        "In this notebook, we use one real data example (binary classification) to showcase how to use FLAML library.\n",
        "\n",
        "FLAML requires `Python>=3.6`. To run this notebook example, please install flaml with the `notebook` option:\n",
        "```bash\n",
        "pip install flaml[notebook]\n",
        "```"
      ]
    },
    {
      "cell_type": "code",
      "metadata": {
        "id": "PsIDbVI9q8Hv",
        "colab": {
          "base_uri": "https://localhost:8080/",
          "height": 1000
        },
        "outputId": "3b34ff37-f392-4617-8579-41aa4ed8d9e4"
      },
      "source": [
        "!pip install flaml[notebook];"
      ],
      "execution_count": null,
      "outputs": [
        {
          "output_type": "stream",
          "name": "stdout",
          "text": [
            "Collecting flaml[notebook]\n",
            "  Downloading FLAML-0.6.3-py3-none-any.whl (155 kB)\n",
            "\u001b[K     |████████████████████████████████| 155 kB 5.3 MB/s \n",
            "\u001b[?25hCollecting lightgbm>=2.3.1\n",
            "  Downloading lightgbm-3.2.1-py3-none-manylinux1_x86_64.whl (2.0 MB)\n",
            "\u001b[K     |████████████████████████████████| 2.0 MB 40.2 MB/s \n",
            "\u001b[?25hRequirement already satisfied: NumPy>=1.16.2 in /usr/local/lib/python3.7/dist-packages (from flaml[notebook]) (1.19.5)\n",
            "Collecting scikit-learn>=0.24\n",
            "  Downloading scikit_learn-0.24.2-cp37-cp37m-manylinux2010_x86_64.whl (22.3 MB)\n",
            "\u001b[K     |████████████████████████████████| 22.3 MB 1.6 MB/s \n",
            "\u001b[?25hRequirement already satisfied: scipy>=1.4.1 in /usr/local/lib/python3.7/dist-packages (from flaml[notebook]) (1.4.1)\n",
            "Requirement already satisfied: xgboost<=1.3.3,>=0.90 in /usr/local/lib/python3.7/dist-packages (from flaml[notebook]) (0.90)\n",
            "Collecting catboost>=0.23\n",
            "  Downloading catboost-0.26.1-cp37-none-manylinux1_x86_64.whl (67.4 MB)\n",
            "\u001b[K     |████████████████████████████████| 67.4 MB 31 kB/s \n",
            "\u001b[?25hRequirement already satisfied: jupyter in /usr/local/lib/python3.7/dist-packages (from flaml[notebook]) (1.0.0)\n",
            "Collecting matplotlib==3.2.0\n",
            "  Downloading matplotlib-3.2.0-cp37-cp37m-manylinux1_x86_64.whl (12.4 MB)\n",
            "\u001b[K     |████████████████████████████████| 12.4 MB 175 kB/s \n",
            "\u001b[?25hCollecting rgf-python\n",
            "  Downloading rgf_python-3.11.0-py3-none-manylinux1_x86_64.whl (757 kB)\n",
            "\u001b[K     |████████████████████████████████| 757 kB 45.9 MB/s \n",
            "\u001b[?25hCollecting openml==0.10.2\n",
            "  Downloading openml-0.10.2.tar.gz (158 kB)\n",
            "\u001b[K     |████████████████████████████████| 158 kB 49.8 MB/s \n",
            "\u001b[?25hRequirement already satisfied: python-dateutil>=2.1 in /usr/local/lib/python3.7/dist-packages (from matplotlib==3.2.0->flaml[notebook]) (2.8.2)\n",
            "Requirement already satisfied: kiwisolver>=1.0.1 in /usr/local/lib/python3.7/dist-packages (from matplotlib==3.2.0->flaml[notebook]) (1.3.2)\n",
            "Requirement already satisfied: cycler>=0.10 in /usr/local/lib/python3.7/dist-packages (from matplotlib==3.2.0->flaml[notebook]) (0.10.0)\n",
            "Requirement already satisfied: pyparsing!=2.0.4,!=2.1.2,!=2.1.6,>=2.0.1 in /usr/local/lib/python3.7/dist-packages (from matplotlib==3.2.0->flaml[notebook]) (2.4.7)\n",
            "Collecting liac-arff>=2.4.0\n",
            "  Downloading liac-arff-2.5.0.tar.gz (13 kB)\n",
            "Collecting xmltodict\n",
            "  Downloading xmltodict-0.12.0-py2.py3-none-any.whl (9.2 kB)\n",
            "Requirement already satisfied: requests in /usr/local/lib/python3.7/dist-packages (from openml==0.10.2->flaml[notebook]) (2.23.0)\n",
            "Requirement already satisfied: pandas>=0.19.2 in /usr/local/lib/python3.7/dist-packages (from openml==0.10.2->flaml[notebook]) (1.1.5)\n",
            "Requirement already satisfied: plotly in /usr/local/lib/python3.7/dist-packages (from catboost>=0.23->flaml[notebook]) (4.4.1)\n",
            "Requirement already satisfied: graphviz in /usr/local/lib/python3.7/dist-packages (from catboost>=0.23->flaml[notebook]) (0.10.1)\n",
            "Requirement already satisfied: six in /usr/local/lib/python3.7/dist-packages (from catboost>=0.23->flaml[notebook]) (1.15.0)\n",
            "Requirement already satisfied: wheel in /usr/local/lib/python3.7/dist-packages (from lightgbm>=2.3.1->flaml[notebook]) (0.37.0)\n",
            "Requirement already satisfied: pytz>=2017.2 in /usr/local/lib/python3.7/dist-packages (from pandas>=0.19.2->openml==0.10.2->flaml[notebook]) (2018.9)\n",
            "Requirement already satisfied: joblib>=0.11 in /usr/local/lib/python3.7/dist-packages (from scikit-learn>=0.24->flaml[notebook]) (1.0.1)\n",
            "Collecting threadpoolctl>=2.0.0\n",
            "  Downloading threadpoolctl-2.2.0-py3-none-any.whl (12 kB)\n",
            "Requirement already satisfied: jupyter-console in /usr/local/lib/python3.7/dist-packages (from jupyter->flaml[notebook]) (5.2.0)\n",
            "Requirement already satisfied: notebook in /usr/local/lib/python3.7/dist-packages (from jupyter->flaml[notebook]) (5.3.1)\n",
            "Requirement already satisfied: nbconvert in /usr/local/lib/python3.7/dist-packages (from jupyter->flaml[notebook]) (5.6.1)\n",
            "Requirement already satisfied: ipykernel in /usr/local/lib/python3.7/dist-packages (from jupyter->flaml[notebook]) (4.10.1)\n",
            "Requirement already satisfied: ipywidgets in /usr/local/lib/python3.7/dist-packages (from jupyter->flaml[notebook]) (7.6.5)\n",
            "Requirement already satisfied: qtconsole in /usr/local/lib/python3.7/dist-packages (from jupyter->flaml[notebook]) (5.1.1)\n",
            "Requirement already satisfied: jupyter-client in /usr/local/lib/python3.7/dist-packages (from ipykernel->jupyter->flaml[notebook]) (5.3.5)\n",
            "Requirement already satisfied: traitlets>=4.1.0 in /usr/local/lib/python3.7/dist-packages (from ipykernel->jupyter->flaml[notebook]) (5.1.0)\n",
            "Requirement already satisfied: ipython>=4.0.0 in /usr/local/lib/python3.7/dist-packages (from ipykernel->jupyter->flaml[notebook]) (5.5.0)\n",
            "Requirement already satisfied: tornado>=4.0 in /usr/local/lib/python3.7/dist-packages (from ipykernel->jupyter->flaml[notebook]) (5.1.1)\n",
            "Requirement already satisfied: decorator in /usr/local/lib/python3.7/dist-packages (from ipython>=4.0.0->ipykernel->jupyter->flaml[notebook]) (4.4.2)\n",
            "Requirement already satisfied: pexpect in /usr/local/lib/python3.7/dist-packages (from ipython>=4.0.0->ipykernel->jupyter->flaml[notebook]) (4.8.0)\n",
            "Requirement already satisfied: pygments in /usr/local/lib/python3.7/dist-packages (from ipython>=4.0.0->ipykernel->jupyter->flaml[notebook]) (2.6.1)\n",
            "Requirement already satisfied: prompt-toolkit<2.0.0,>=1.0.4 in /usr/local/lib/python3.7/dist-packages (from ipython>=4.0.0->ipykernel->jupyter->flaml[notebook]) (1.0.18)\n",
            "Requirement already satisfied: simplegeneric>0.8 in /usr/local/lib/python3.7/dist-packages (from ipython>=4.0.0->ipykernel->jupyter->flaml[notebook]) (0.8.1)\n",
            "Requirement already satisfied: pickleshare in /usr/local/lib/python3.7/dist-packages (from ipython>=4.0.0->ipykernel->jupyter->flaml[notebook]) (0.7.5)\n",
            "Requirement already satisfied: setuptools>=18.5 in /usr/local/lib/python3.7/dist-packages (from ipython>=4.0.0->ipykernel->jupyter->flaml[notebook]) (57.4.0)\n",
            "Requirement already satisfied: wcwidth in /usr/local/lib/python3.7/dist-packages (from prompt-toolkit<2.0.0,>=1.0.4->ipython>=4.0.0->ipykernel->jupyter->flaml[notebook]) (0.2.5)\n",
            "Requirement already satisfied: nbformat>=4.2.0 in /usr/local/lib/python3.7/dist-packages (from ipywidgets->jupyter->flaml[notebook]) (5.1.3)\n",
            "Requirement already satisfied: jupyterlab-widgets>=1.0.0 in /usr/local/lib/python3.7/dist-packages (from ipywidgets->jupyter->flaml[notebook]) (1.0.2)\n",
            "Requirement already satisfied: ipython-genutils~=0.2.0 in /usr/local/lib/python3.7/dist-packages (from ipywidgets->jupyter->flaml[notebook]) (0.2.0)\n",
            "Requirement already satisfied: widgetsnbextension~=3.5.0 in /usr/local/lib/python3.7/dist-packages (from ipywidgets->jupyter->flaml[notebook]) (3.5.1)\n",
            "Requirement already satisfied: jsonschema!=2.5.0,>=2.4 in /usr/local/lib/python3.7/dist-packages (from nbformat>=4.2.0->ipywidgets->jupyter->flaml[notebook]) (2.6.0)\n",
            "Requirement already satisfied: jupyter-core in /usr/local/lib/python3.7/dist-packages (from nbformat>=4.2.0->ipywidgets->jupyter->flaml[notebook]) (4.7.1)\n",
            "Requirement already satisfied: Send2Trash in /usr/local/lib/python3.7/dist-packages (from notebook->jupyter->flaml[notebook]) (1.8.0)\n",
            "Requirement already satisfied: terminado>=0.8.1 in /usr/local/lib/python3.7/dist-packages (from notebook->jupyter->flaml[notebook]) (0.12.1)\n",
            "Requirement already satisfied: jinja2 in /usr/local/lib/python3.7/dist-packages (from notebook->jupyter->flaml[notebook]) (2.11.3)\n",
            "Requirement already satisfied: pyzmq>=13 in /usr/local/lib/python3.7/dist-packages (from jupyter-client->ipykernel->jupyter->flaml[notebook]) (22.2.1)\n",
            "Requirement already satisfied: ptyprocess in /usr/local/lib/python3.7/dist-packages (from terminado>=0.8.1->notebook->jupyter->flaml[notebook]) (0.7.0)\n",
            "Requirement already satisfied: MarkupSafe>=0.23 in /usr/local/lib/python3.7/dist-packages (from jinja2->notebook->jupyter->flaml[notebook]) (2.0.1)\n",
            "Requirement already satisfied: pandocfilters>=1.4.1 in /usr/local/lib/python3.7/dist-packages (from nbconvert->jupyter->flaml[notebook]) (1.5.0)\n",
            "Requirement already satisfied: mistune<2,>=0.8.1 in /usr/local/lib/python3.7/dist-packages (from nbconvert->jupyter->flaml[notebook]) (0.8.4)\n",
            "Requirement already satisfied: entrypoints>=0.2.2 in /usr/local/lib/python3.7/dist-packages (from nbconvert->jupyter->flaml[notebook]) (0.3)\n",
            "Requirement already satisfied: testpath in /usr/local/lib/python3.7/dist-packages (from nbconvert->jupyter->flaml[notebook]) (0.5.0)\n",
            "Requirement already satisfied: defusedxml in /usr/local/lib/python3.7/dist-packages (from nbconvert->jupyter->flaml[notebook]) (0.7.1)\n",
            "Requirement already satisfied: bleach in /usr/local/lib/python3.7/dist-packages (from nbconvert->jupyter->flaml[notebook]) (4.1.0)\n",
            "Requirement already satisfied: webencodings in /usr/local/lib/python3.7/dist-packages (from bleach->nbconvert->jupyter->flaml[notebook]) (0.5.1)\n",
            "Requirement already satisfied: packaging in /usr/local/lib/python3.7/dist-packages (from bleach->nbconvert->jupyter->flaml[notebook]) (21.0)\n",
            "Requirement already satisfied: retrying>=1.3.3 in /usr/local/lib/python3.7/dist-packages (from plotly->catboost>=0.23->flaml[notebook]) (1.3.3)\n",
            "Requirement already satisfied: qtpy in /usr/local/lib/python3.7/dist-packages (from qtconsole->jupyter->flaml[notebook]) (1.11.1)\n",
            "Requirement already satisfied: certifi>=2017.4.17 in /usr/local/lib/python3.7/dist-packages (from requests->openml==0.10.2->flaml[notebook]) (2021.5.30)\n",
            "Requirement already satisfied: urllib3!=1.25.0,!=1.25.1,<1.26,>=1.21.1 in /usr/local/lib/python3.7/dist-packages (from requests->openml==0.10.2->flaml[notebook]) (1.24.3)\n",
            "Requirement already satisfied: idna<3,>=2.5 in /usr/local/lib/python3.7/dist-packages (from requests->openml==0.10.2->flaml[notebook]) (2.10)\n",
            "Requirement already satisfied: chardet<4,>=3.0.2 in /usr/local/lib/python3.7/dist-packages (from requests->openml==0.10.2->flaml[notebook]) (3.0.4)\n",
            "Building wheels for collected packages: openml, liac-arff\n",
            "  Building wheel for openml (setup.py) ... \u001b[?25l\u001b[?25hdone\n",
            "  Created wheel for openml: filename=openml-0.10.2-py3-none-any.whl size=190318 sha256=4eac34466739bd45d8fa9a1f00854dfc39f8876ee5dda765b82172f60425378a\n",
            "  Stored in directory: /root/.cache/pip/wheels/9c/9e/f3/6a5ebf16527d7fe22d9bc1652bc9beb5dc9fcfdeb75e805400\n",
            "  Building wheel for liac-arff (setup.py) ... \u001b[?25l\u001b[?25hdone\n",
            "  Created wheel for liac-arff: filename=liac_arff-2.5.0-py3-none-any.whl size=11731 sha256=61b3c09ca50f1a33c594d1da5fb86ad91149119fd19d6bee43ac11d1fd373ec2\n",
            "  Stored in directory: /root/.cache/pip/wheels/1f/0f/15/332ca86cbebf25ddf98518caaf887945fbe1712b97a0f2493b\n",
            "Successfully built openml liac-arff\n",
            "Installing collected packages: threadpoolctl, scikit-learn, matplotlib, xmltodict, lightgbm, liac-arff, catboost, rgf-python, openml, flaml\n",
            "  Attempting uninstall: scikit-learn\n",
            "    Found existing installation: scikit-learn 0.22.2.post1\n",
            "    Uninstalling scikit-learn-0.22.2.post1:\n",
            "      Successfully uninstalled scikit-learn-0.22.2.post1\n",
            "  Attempting uninstall: matplotlib\n",
            "    Found existing installation: matplotlib 3.2.2\n",
            "    Uninstalling matplotlib-3.2.2:\n",
            "      Successfully uninstalled matplotlib-3.2.2\n",
            "  Attempting uninstall: lightgbm\n",
            "    Found existing installation: lightgbm 2.2.3\n",
            "    Uninstalling lightgbm-2.2.3:\n",
            "      Successfully uninstalled lightgbm-2.2.3\n",
            "\u001b[31mERROR: pip's dependency resolver does not currently take into account all the packages that are installed. This behaviour is the source of the following dependency conflicts.\n",
            "albumentations 0.1.12 requires imgaug<0.2.7,>=0.2.5, but you have imgaug 0.2.9 which is incompatible.\u001b[0m\n",
            "Successfully installed catboost-0.26.1 flaml-0.6.3 liac-arff-2.5.0 lightgbm-3.2.1 matplotlib-3.2.0 openml-0.10.2 rgf-python-3.11.0 scikit-learn-0.24.2 threadpoolctl-2.2.0 xmltodict-0.12.0\n"
          ]
        },
        {
          "output_type": "display_data",
          "data": {
            "application/vnd.colab-display-data+json": {
              "pip_warning": {
                "packages": [
                  "matplotlib",
                  "mpl_toolkits"
                ]
              }
            }
          },
          "metadata": {}
        }
      ]
    },
    {
      "cell_type": "markdown",
      "metadata": {
        "id": "hMY4CFezjcG-"
      },
      "source": [
        "## Authenticating with Kaggle using kaggle.json\n",
        "\n",
        "Navigate to https://www.kaggle.com. Then go to the [Account tab of your user profile](https://www.kaggle.com/me/account) and select Create API Token. This will trigger the download of kaggle.json, a file containing your API credentials.\n",
        "\n",
        "Then run the cell below to upload kaggle.json to your Colab runtime."
      ]
    },
    {
      "cell_type": "code",
      "metadata": {
        "id": "0HtGf0HEXEa5",
        "colab": {
          "resources": {
            "http://localhost:8080/nbextensions/google.colab/files.js": {
              "data": "Ly8gQ29weXJpZ2h0IDIwMTcgR29vZ2xlIExMQwovLwovLyBMaWNlbnNlZCB1bmRlciB0aGUgQXBhY2hlIExpY2Vuc2UsIFZlcnNpb24gMi4wICh0aGUgIkxpY2Vuc2UiKTsKLy8geW91IG1heSBub3QgdXNlIHRoaXMgZmlsZSBleGNlcHQgaW4gY29tcGxpYW5jZSB3aXRoIHRoZSBMaWNlbnNlLgovLyBZb3UgbWF5IG9idGFpbiBhIGNvcHkgb2YgdGhlIExpY2Vuc2UgYXQKLy8KLy8gICAgICBodHRwOi8vd3d3LmFwYWNoZS5vcmcvbGljZW5zZXMvTElDRU5TRS0yLjAKLy8KLy8gVW5sZXNzIHJlcXVpcmVkIGJ5IGFwcGxpY2FibGUgbGF3IG9yIGFncmVlZCB0byBpbiB3cml0aW5nLCBzb2Z0d2FyZQovLyBkaXN0cmlidXRlZCB1bmRlciB0aGUgTGljZW5zZSBpcyBkaXN0cmlidXRlZCBvbiBhbiAiQVMgSVMiIEJBU0lTLAovLyBXSVRIT1VUIFdBUlJBTlRJRVMgT1IgQ09ORElUSU9OUyBPRiBBTlkgS0lORCwgZWl0aGVyIGV4cHJlc3Mgb3IgaW1wbGllZC4KLy8gU2VlIHRoZSBMaWNlbnNlIGZvciB0aGUgc3BlY2lmaWMgbGFuZ3VhZ2UgZ292ZXJuaW5nIHBlcm1pc3Npb25zIGFuZAovLyBsaW1pdGF0aW9ucyB1bmRlciB0aGUgTGljZW5zZS4KCi8qKgogKiBAZmlsZW92ZXJ2aWV3IEhlbHBlcnMgZm9yIGdvb2dsZS5jb2xhYiBQeXRob24gbW9kdWxlLgogKi8KKGZ1bmN0aW9uKHNjb3BlKSB7CmZ1bmN0aW9uIHNwYW4odGV4dCwgc3R5bGVBdHRyaWJ1dGVzID0ge30pIHsKICBjb25zdCBlbGVtZW50ID0gZG9jdW1lbnQuY3JlYXRlRWxlbWVudCgnc3BhbicpOwogIGVsZW1lbnQudGV4dENvbnRlbnQgPSB0ZXh0OwogIGZvciAoY29uc3Qga2V5IG9mIE9iamVjdC5rZXlzKHN0eWxlQXR0cmlidXRlcykpIHsKICAgIGVsZW1lbnQuc3R5bGVba2V5XSA9IHN0eWxlQXR0cmlidXRlc1trZXldOwogIH0KICByZXR1cm4gZWxlbWVudDsKfQoKLy8gTWF4IG51bWJlciBvZiBieXRlcyB3aGljaCB3aWxsIGJlIHVwbG9hZGVkIGF0IGEgdGltZS4KY29uc3QgTUFYX1BBWUxPQURfU0laRSA9IDEwMCAqIDEwMjQ7CgpmdW5jdGlvbiBfdXBsb2FkRmlsZXMoaW5wdXRJZCwgb3V0cHV0SWQpIHsKICBjb25zdCBzdGVwcyA9IHVwbG9hZEZpbGVzU3RlcChpbnB1dElkLCBvdXRwdXRJZCk7CiAgY29uc3Qgb3V0cHV0RWxlbWVudCA9IGRvY3VtZW50LmdldEVsZW1lbnRCeUlkKG91dHB1dElkKTsKICAvLyBDYWNoZSBzdGVwcyBvbiB0aGUgb3V0cHV0RWxlbWVudCB0byBtYWtlIGl0IGF2YWlsYWJsZSBmb3IgdGhlIG5leHQgY2FsbAogIC8vIHRvIHVwbG9hZEZpbGVzQ29udGludWUgZnJvbSBQeXRob24uCiAgb3V0cHV0RWxlbWVudC5zdGVwcyA9IHN0ZXBzOwoKICByZXR1cm4gX3VwbG9hZEZpbGVzQ29udGludWUob3V0cHV0SWQpOwp9CgovLyBUaGlzIGlzIHJvdWdobHkgYW4gYXN5bmMgZ2VuZXJhdG9yIChub3Qgc3VwcG9ydGVkIGluIHRoZSBicm93c2VyIHlldCksCi8vIHdoZXJlIHRoZXJlIGFyZSBtdWx0aXBsZSBhc3luY2hyb25vdXMgc3RlcHMgYW5kIHRoZSBQeXRob24gc2lkZSBpcyBnb2luZwovLyB0byBwb2xsIGZvciBjb21wbGV0aW9uIG9mIGVhY2ggc3RlcC4KLy8gVGhpcyB1c2VzIGEgUHJvbWlzZSB0byBibG9jayB0aGUgcHl0aG9uIHNpZGUgb24gY29tcGxldGlvbiBvZiBlYWNoIHN0ZXAsCi8vIHRoZW4gcGFzc2VzIHRoZSByZXN1bHQgb2YgdGhlIHByZXZpb3VzIHN0ZXAgYXMgdGhlIGlucHV0IHRvIHRoZSBuZXh0IHN0ZXAuCmZ1bmN0aW9uIF91cGxvYWRGaWxlc0NvbnRpbnVlKG91dHB1dElkKSB7CiAgY29uc3Qgb3V0cHV0RWxlbWVudCA9IGRvY3VtZW50LmdldEVsZW1lbnRCeUlkKG91dHB1dElkKTsKICBjb25zdCBzdGVwcyA9IG91dHB1dEVsZW1lbnQuc3RlcHM7CgogIGNvbnN0IG5leHQgPSBzdGVwcy5uZXh0KG91dHB1dEVsZW1lbnQubGFzdFByb21pc2VWYWx1ZSk7CiAgcmV0dXJuIFByb21pc2UucmVzb2x2ZShuZXh0LnZhbHVlLnByb21pc2UpLnRoZW4oKHZhbHVlKSA9PiB7CiAgICAvLyBDYWNoZSB0aGUgbGFzdCBwcm9taXNlIHZhbHVlIHRvIG1ha2UgaXQgYXZhaWxhYmxlIHRvIHRoZSBuZXh0CiAgICAvLyBzdGVwIG9mIHRoZSBnZW5lcmF0b3IuCiAgICBvdXRwdXRFbGVtZW50Lmxhc3RQcm9taXNlVmFsdWUgPSB2YWx1ZTsKICAgIHJldHVybiBuZXh0LnZhbHVlLnJlc3BvbnNlOwogIH0pOwp9CgovKioKICogR2VuZXJhdG9yIGZ1bmN0aW9uIHdoaWNoIGlzIGNhbGxlZCBiZXR3ZWVuIGVhY2ggYXN5bmMgc3RlcCBvZiB0aGUgdXBsb2FkCiAqIHByb2Nlc3MuCiAqIEBwYXJhbSB7c3RyaW5nfSBpbnB1dElkIEVsZW1lbnQgSUQgb2YgdGhlIGlucHV0IGZpbGUgcGlja2VyIGVsZW1lbnQuCiAqIEBwYXJhbSB7c3RyaW5nfSBvdXRwdXRJZCBFbGVtZW50IElEIG9mIHRoZSBvdXRwdXQgZGlzcGxheS4KICogQHJldHVybiB7IUl0ZXJhYmxlPCFPYmplY3Q+fSBJdGVyYWJsZSBvZiBuZXh0IHN0ZXBzLgogKi8KZnVuY3Rpb24qIHVwbG9hZEZpbGVzU3RlcChpbnB1dElkLCBvdXRwdXRJZCkgewogIGNvbnN0IGlucHV0RWxlbWVudCA9IGRvY3VtZW50LmdldEVsZW1lbnRCeUlkKGlucHV0SWQpOwogIGlucHV0RWxlbWVudC5kaXNhYmxlZCA9IGZhbHNlOwoKICBjb25zdCBvdXRwdXRFbGVtZW50ID0gZG9jdW1lbnQuZ2V0RWxlbWVudEJ5SWQob3V0cHV0SWQpOwogIG91dHB1dEVsZW1lbnQuaW5uZXJIVE1MID0gJyc7CgogIGNvbnN0IHBpY2tlZFByb21pc2UgPSBuZXcgUHJvbWlzZSgocmVzb2x2ZSkgPT4gewogICAgaW5wdXRFbGVtZW50LmFkZEV2ZW50TGlzdGVuZXIoJ2NoYW5nZScsIChlKSA9PiB7CiAgICAgIHJlc29sdmUoZS50YXJnZXQuZmlsZXMpOwogICAgfSk7CiAgfSk7CgogIGNvbnN0IGNhbmNlbCA9IGRvY3VtZW50LmNyZWF0ZUVsZW1lbnQoJ2J1dHRvbicpOwogIGlucHV0RWxlbWVudC5wYXJlbnRFbGVtZW50LmFwcGVuZENoaWxkKGNhbmNlbCk7CiAgY2FuY2VsLnRleHRDb250ZW50ID0gJ0NhbmNlbCB1cGxvYWQnOwogIGNvbnN0IGNhbmNlbFByb21pc2UgPSBuZXcgUHJvbWlzZSgocmVzb2x2ZSkgPT4gewogICAgY2FuY2VsLm9uY2xpY2sgPSAoKSA9PiB7CiAgICAgIHJlc29sdmUobnVsbCk7CiAgICB9OwogIH0pOwoKICAvLyBXYWl0IGZvciB0aGUgdXNlciB0byBwaWNrIHRoZSBmaWxlcy4KICBjb25zdCBmaWxlcyA9IHlpZWxkIHsKICAgIHByb21pc2U6IFByb21pc2UucmFjZShbcGlja2VkUHJvbWlzZSwgY2FuY2VsUHJvbWlzZV0pLAogICAgcmVzcG9uc2U6IHsKICAgICAgYWN0aW9uOiAnc3RhcnRpbmcnLAogICAgfQogIH07CgogIGNhbmNlbC5yZW1vdmUoKTsKCiAgLy8gRGlzYWJsZSB0aGUgaW5wdXQgZWxlbWVudCBzaW5jZSBmdXJ0aGVyIHBpY2tzIGFyZSBub3QgYWxsb3dlZC4KICBpbnB1dEVsZW1lbnQuZGlzYWJsZWQgPSB0cnVlOwoKICBpZiAoIWZpbGVzKSB7CiAgICByZXR1cm4gewogICAgICByZXNwb25zZTogewogICAgICAgIGFjdGlvbjogJ2NvbXBsZXRlJywKICAgICAgfQogICAgfTsKICB9CgogIGZvciAoY29uc3QgZmlsZSBvZiBmaWxlcykgewogICAgY29uc3QgbGkgPSBkb2N1bWVudC5jcmVhdGVFbGVtZW50KCdsaScpOwogICAgbGkuYXBwZW5kKHNwYW4oZmlsZS5uYW1lLCB7Zm9udFdlaWdodDogJ2JvbGQnfSkpOwogICAgbGkuYXBwZW5kKHNwYW4oCiAgICAgICAgYCgke2ZpbGUudHlwZSB8fCAnbi9hJ30pIC0gJHtmaWxlLnNpemV9IGJ5dGVzLCBgICsKICAgICAgICBgbGFzdCBtb2RpZmllZDogJHsKICAgICAgICAgICAgZmlsZS5sYXN0TW9kaWZpZWREYXRlID8gZmlsZS5sYXN0TW9kaWZpZWREYXRlLnRvTG9jYWxlRGF0ZVN0cmluZygpIDoKICAgICAgICAgICAgICAgICAgICAgICAgICAgICAgICAgICAgJ24vYSd9IC0gYCkpOwogICAgY29uc3QgcGVyY2VudCA9IHNwYW4oJzAlIGRvbmUnKTsKICAgIGxpLmFwcGVuZENoaWxkKHBlcmNlbnQpOwoKICAgIG91dHB1dEVsZW1lbnQuYXBwZW5kQ2hpbGQobGkpOwoKICAgIGNvbnN0IGZpbGVEYXRhUHJvbWlzZSA9IG5ldyBQcm9taXNlKChyZXNvbHZlKSA9PiB7CiAgICAgIGNvbnN0IHJlYWRlciA9IG5ldyBGaWxlUmVhZGVyKCk7CiAgICAgIHJlYWRlci5vbmxvYWQgPSAoZSkgPT4gewogICAgICAgIHJlc29sdmUoZS50YXJnZXQucmVzdWx0KTsKICAgICAgfTsKICAgICAgcmVhZGVyLnJlYWRBc0FycmF5QnVmZmVyKGZpbGUpOwogICAgfSk7CiAgICAvLyBXYWl0IGZvciB0aGUgZGF0YSB0byBiZSByZWFkeS4KICAgIGxldCBmaWxlRGF0YSA9IHlpZWxkIHsKICAgICAgcHJvbWlzZTogZmlsZURhdGFQcm9taXNlLAogICAgICByZXNwb25zZTogewogICAgICAgIGFjdGlvbjogJ2NvbnRpbnVlJywKICAgICAgfQogICAgfTsKCiAgICAvLyBVc2UgYSBjaHVua2VkIHNlbmRpbmcgdG8gYXZvaWQgbWVzc2FnZSBzaXplIGxpbWl0cy4gU2VlIGIvNjIxMTU2NjAuCiAgICBsZXQgcG9zaXRpb24gPSAwOwogICAgZG8gewogICAgICBjb25zdCBsZW5ndGggPSBNYXRoLm1pbihmaWxlRGF0YS5ieXRlTGVuZ3RoIC0gcG9zaXRpb24sIE1BWF9QQVlMT0FEX1NJWkUpOwogICAgICBjb25zdCBjaHVuayA9IG5ldyBVaW50OEFycmF5KGZpbGVEYXRhLCBwb3NpdGlvbiwgbGVuZ3RoKTsKICAgICAgcG9zaXRpb24gKz0gbGVuZ3RoOwoKICAgICAgY29uc3QgYmFzZTY0ID0gYnRvYShTdHJpbmcuZnJvbUNoYXJDb2RlLmFwcGx5KG51bGwsIGNodW5rKSk7CiAgICAgIHlpZWxkIHsKICAgICAgICByZXNwb25zZTogewogICAgICAgICAgYWN0aW9uOiAnYXBwZW5kJywKICAgICAgICAgIGZpbGU6IGZpbGUubmFtZSwKICAgICAgICAgIGRhdGE6IGJhc2U2NCwKICAgICAgICB9LAogICAgICB9OwoKICAgICAgbGV0IHBlcmNlbnREb25lID0gZmlsZURhdGEuYnl0ZUxlbmd0aCA9PT0gMCA/CiAgICAgICAgICAxMDAgOgogICAgICAgICAgTWF0aC5yb3VuZCgocG9zaXRpb24gLyBmaWxlRGF0YS5ieXRlTGVuZ3RoKSAqIDEwMCk7CiAgICAgIHBlcmNlbnQudGV4dENvbnRlbnQgPSBgJHtwZXJjZW50RG9uZX0lIGRvbmVgOwoKICAgIH0gd2hpbGUgKHBvc2l0aW9uIDwgZmlsZURhdGEuYnl0ZUxlbmd0aCk7CiAgfQoKICAvLyBBbGwgZG9uZS4KICB5aWVsZCB7CiAgICByZXNwb25zZTogewogICAgICBhY3Rpb246ICdjb21wbGV0ZScsCiAgICB9CiAgfTsKfQoKc2NvcGUuZ29vZ2xlID0gc2NvcGUuZ29vZ2xlIHx8IHt9OwpzY29wZS5nb29nbGUuY29sYWIgPSBzY29wZS5nb29nbGUuY29sYWIgfHwge307CnNjb3BlLmdvb2dsZS5jb2xhYi5fZmlsZXMgPSB7CiAgX3VwbG9hZEZpbGVzLAogIF91cGxvYWRGaWxlc0NvbnRpbnVlLAp9Owp9KShzZWxmKTsK",
              "ok": true,
              "headers": [
                [
                  "content-type",
                  "application/javascript"
                ]
              ],
              "status": 200,
              "status_text": ""
            }
          },
          "base_uri": "https://localhost:8080/",
          "height": 91
        },
        "outputId": "ea8521fb-007e-4e12-b728-fe31357ca351"
      },
      "source": [
        "from google.colab import files\n",
        "\n",
        "uploaded = files.upload()\n",
        "\n",
        "for fn in uploaded.keys():\n",
        "  print('User uploaded file \"{name}\" with length {length} bytes'.format(\n",
        "      name=fn, length=len(uploaded[fn])))\n",
        "  \n",
        "# Then move kaggle.json into the folder where the API expects to find it.\n",
        "!mkdir -p ~/.kaggle/ && mv kaggle.json ~/.kaggle/ && chmod 600 ~/.kaggle/kaggle.json"
      ],
      "execution_count": null,
      "outputs": [
        {
          "output_type": "display_data",
          "data": {
            "text/html": [
              "\n",
              "     <input type=\"file\" id=\"files-0f7813a4-bcf9-4a0f-bc8b-dcecd538649d\" name=\"files[]\" multiple disabled\n",
              "        style=\"border:none\" />\n",
              "     <output id=\"result-0f7813a4-bcf9-4a0f-bc8b-dcecd538649d\">\n",
              "      Upload widget is only available when the cell has been executed in the\n",
              "      current browser session. Please rerun this cell to enable.\n",
              "      </output>\n",
              "      <script src=\"/nbextensions/google.colab/files.js\"></script> "
            ],
            "text/plain": [
              "<IPython.core.display.HTML object>"
            ]
          },
          "metadata": {}
        },
        {
          "output_type": "stream",
          "name": "stdout",
          "text": [
            "Saving kaggle.json to kaggle.json\n",
            "User uploaded file \"kaggle.json\" with length 70 bytes\n"
          ]
        }
      ]
    },
    {
      "cell_type": "markdown",
      "metadata": {
        "id": "-AaB9a4cq8Hx"
      },
      "source": [
        "## 2. Classification Example\n",
        "### Load data and preprocess\n",
        "\n"
      ]
    },
    {
      "cell_type": "code",
      "metadata": {
        "tags": [],
        "id": "AehaSqAGq8H0",
        "colab": {
          "base_uri": "https://localhost:8080/"
        },
        "outputId": "3a91748e-9075-4006-af3d-d56b78ebf2af"
      },
      "source": [
        "!kaggle competitions download -c titanic"
      ],
      "execution_count": null,
      "outputs": [
        {
          "output_type": "stream",
          "name": "stdout",
          "text": [
            "Warning: Looks like you're using an outdated API Version, please consider updating (server 1.5.12 / client 1.5.4)\n",
            "Downloading test.csv to /content\n",
            "  0% 0.00/28.0k [00:00<?, ?B/s]\n",
            "100% 28.0k/28.0k [00:00<00:00, 43.7MB/s]\n",
            "Downloading train.csv to /content\n",
            "  0% 0.00/59.8k [00:00<?, ?B/s]\n",
            "100% 59.8k/59.8k [00:00<00:00, 53.6MB/s]\n",
            "Downloading gender_submission.csv to /content\n",
            "  0% 0.00/3.18k [00:00<?, ?B/s]\n",
            "100% 3.18k/3.18k [00:00<00:00, 3.07MB/s]\n"
          ]
        }
      ]
    },
    {
      "cell_type": "code",
      "metadata": {
        "colab": {
          "base_uri": "https://localhost:8080/"
        },
        "id": "xzazBY-A9I8Z",
        "outputId": "0dcd80c6-3417-4006-dca4-f5dfe2d981bc"
      },
      "source": [
        "!ls"
      ],
      "execution_count": null,
      "outputs": [
        {
          "output_type": "stream",
          "name": "stdout",
          "text": [
            " gender_submission.csv\t   nyc-traffic-accidents.zip   test.csv\n",
            "'NYC Accidents 2020.csv'   sample_data\t\t       train.csv\n"
          ]
        }
      ]
    },
    {
      "cell_type": "code",
      "metadata": {
        "id": "dkEOzIzvu-pI"
      },
      "source": [
        "import pandas as pd\n",
        "import numpy as np\n",
        "\n",
        "dataset = pd.read_csv('train.csv')"
      ],
      "execution_count": null,
      "outputs": []
    },
    {
      "cell_type": "code",
      "metadata": {
        "id": "AwiRWoq9_9b6"
      },
      "source": [
        "msk = np.random.rand(len(dataset)) < 0.8\n",
        "ds_train = dataset[msk]\n",
        "ds_test = dataset[~msk]"
      ],
      "execution_count": null,
      "outputs": []
    },
    {
      "cell_type": "code",
      "metadata": {
        "id": "76Qkjyl1vheB"
      },
      "source": [
        "X_train = ds_train.drop('Survived', axis=1)\n",
        "y_train = ds_train['Survived']\n",
        "X_test = ds_test.drop('Survived', axis=1)\n",
        "y_test = ds_test['Survived']"
      ],
      "execution_count": null,
      "outputs": []
    },
    {
      "cell_type": "markdown",
      "metadata": {
        "id": "PUYUyOtlq8H3"
      },
      "source": [
        "### Run FLAML\n",
        "In the FLAML automl run configuration, users can specify the task type, time budget, error metric, learner list, whether to subsample, resampling strategy type, and so on. All these arguments have default values which will be used if users do not provide them. For example, the default ML learners of FLAML are `['lgbm', 'xgboost', 'catboost', 'rf', 'extra_tree', 'lrl1']`. "
      ]
    },
    {
      "cell_type": "code",
      "metadata": {
        "id": "WMayPhVTq8H6"
      },
      "source": [
        "''' import AutoML class from flaml package '''\n",
        "from flaml import AutoML\n",
        "automl = AutoML()"
      ],
      "execution_count": null,
      "outputs": []
    },
    {
      "cell_type": "code",
      "metadata": {
        "id": "c6rD7ScAq8H7"
      },
      "source": [
        "settings = {\n",
        "    \"time_budget\": 120,  # total running time in seconds\n",
        "    \"metric\": 'accuracy',  # can be: 'r2', 'rmse', 'mae', 'mse', 'accuracy', 'roc_auc', 'roc_auc_ovr',\n",
        "                           # 'roc_auc_ovo', 'log_loss', 'mape', 'f1', 'ap', 'ndcg', 'micro_f1', 'macro_f1'\n",
        "    \"task\": 'classification',  # task type    \n",
        "    \"log_file_name\": 'airlines_experiment.log',  # flaml log file\n",
        "    \"seed\": 7654321,    # random seed\n",
        "}"
      ],
      "execution_count": null,
      "outputs": []
    },
    {
      "cell_type": "code",
      "metadata": {
        "tags": [
          "outputPrepend"
        ],
        "id": "i2uja2qSq8H8",
        "colab": {
          "base_uri": "https://localhost:8080/"
        },
        "outputId": "4b2f60d9-1c17-4741-fab8-d1e6c865e522"
      },
      "source": [
        "'''The main flaml automl API'''\n",
        "automl.fit(X_train=X_train, y_train=y_train, **settings)"
      ],
      "execution_count": null,
      "outputs": [
        {
          "output_type": "stream",
          "name": "stderr",
          "text": [
            "[flaml.automl: 09-18 22:23:44] {1427} INFO - Evaluation method: cv\n",
            "[flaml.automl: 09-18 22:23:44] {1473} INFO - Minimizing error metric: 1-accuracy\n",
            "[flaml.automl: 09-18 22:23:44] {1505} INFO - List of ML learners in AutoML Run: ['lgbm', 'rf', 'catboost', 'xgboost', 'extra_tree', 'lrl1']\n",
            "[flaml.automl: 09-18 22:23:44] {1735} INFO - iteration 0, current learner lgbm\n",
            "[flaml.automl: 09-18 22:23:44] {1920} INFO -  at 0.3s,\tbest lgbm's error=0.2103,\tbest lgbm's error=0.2103\n",
            "[flaml.automl: 09-18 22:23:44] {1735} INFO - iteration 1, current learner lgbm\n",
            "[flaml.automl: 09-18 22:23:44] {1920} INFO -  at 0.5s,\tbest lgbm's error=0.2103,\tbest lgbm's error=0.2103\n",
            "[flaml.automl: 09-18 22:23:44] {1735} INFO - iteration 2, current learner lgbm\n",
            "[flaml.automl: 09-18 22:23:44] {1920} INFO -  at 0.7s,\tbest lgbm's error=0.2103,\tbest lgbm's error=0.2103\n",
            "[flaml.automl: 09-18 22:23:44] {1735} INFO - iteration 3, current learner xgboost\n",
            "[flaml.automl: 09-18 22:23:44] {1920} INFO -  at 0.9s,\tbest xgboost's error=0.2131,\tbest lgbm's error=0.2103\n",
            "[flaml.automl: 09-18 22:23:44] {1735} INFO - iteration 4, current learner lgbm\n",
            "[flaml.automl: 09-18 22:23:45] {1920} INFO -  at 1.1s,\tbest lgbm's error=0.1992,\tbest lgbm's error=0.1992\n",
            "[flaml.automl: 09-18 22:23:45] {1735} INFO - iteration 5, current learner xgboost\n",
            "[flaml.automl: 09-18 22:23:45] {1920} INFO -  at 1.3s,\tbest xgboost's error=0.2118,\tbest lgbm's error=0.1992\n",
            "[flaml.automl: 09-18 22:23:45] {1735} INFO - iteration 6, current learner extra_tree\n",
            "[flaml.automl: 09-18 22:23:46] {1920} INFO -  at 2.6s,\tbest extra_tree's error=0.2173,\tbest lgbm's error=0.1992\n",
            "[flaml.automl: 09-18 22:23:46] {1735} INFO - iteration 7, current learner rf\n",
            "[flaml.automl: 09-18 22:23:47] {1920} INFO -  at 3.9s,\tbest rf's error=0.2159,\tbest lgbm's error=0.1992\n",
            "[flaml.automl: 09-18 22:23:47] {1735} INFO - iteration 8, current learner lgbm\n",
            "[flaml.automl: 09-18 22:23:48] {1920} INFO -  at 4.2s,\tbest lgbm's error=0.1867,\tbest lgbm's error=0.1867\n",
            "[flaml.automl: 09-18 22:23:48] {1735} INFO - iteration 9, current learner lgbm\n",
            "[flaml.automl: 09-18 22:23:48] {1920} INFO -  at 4.4s,\tbest lgbm's error=0.1867,\tbest lgbm's error=0.1867\n",
            "[flaml.automl: 09-18 22:23:48] {1735} INFO - iteration 10, current learner lgbm\n",
            "[flaml.automl: 09-18 22:23:48] {1920} INFO -  at 4.6s,\tbest lgbm's error=0.1867,\tbest lgbm's error=0.1867\n",
            "[flaml.automl: 09-18 22:23:48] {1735} INFO - iteration 11, current learner lgbm\n",
            "[flaml.automl: 09-18 22:23:48] {1920} INFO -  at 4.8s,\tbest lgbm's error=0.1811,\tbest lgbm's error=0.1811\n",
            "[flaml.automl: 09-18 22:23:48] {1735} INFO - iteration 12, current learner lgbm\n",
            "[flaml.automl: 09-18 22:23:49] {1920} INFO -  at 5.0s,\tbest lgbm's error=0.1811,\tbest lgbm's error=0.1811\n",
            "[flaml.automl: 09-18 22:23:49] {1735} INFO - iteration 13, current learner rf\n",
            "[flaml.automl: 09-18 22:23:50] {1920} INFO -  at 6.4s,\tbest rf's error=0.1922,\tbest lgbm's error=0.1811\n",
            "[flaml.automl: 09-18 22:23:50] {1735} INFO - iteration 14, current learner lgbm\n",
            "[flaml.automl: 09-18 22:23:50] {1920} INFO -  at 6.6s,\tbest lgbm's error=0.1811,\tbest lgbm's error=0.1811\n",
            "[flaml.automl: 09-18 22:23:50] {1735} INFO - iteration 15, current learner rf\n",
            "[flaml.automl: 09-18 22:23:51] {1920} INFO -  at 7.9s,\tbest rf's error=0.1922,\tbest lgbm's error=0.1811\n",
            "[flaml.automl: 09-18 22:23:51] {1735} INFO - iteration 16, current learner lgbm\n",
            "[flaml.automl: 09-18 22:23:52] {1920} INFO -  at 8.2s,\tbest lgbm's error=0.1811,\tbest lgbm's error=0.1811\n",
            "[flaml.automl: 09-18 22:23:52] {1735} INFO - iteration 17, current learner extra_tree\n",
            "[flaml.automl: 09-18 22:23:53] {1920} INFO -  at 9.5s,\tbest extra_tree's error=0.1951,\tbest lgbm's error=0.1811\n",
            "[flaml.automl: 09-18 22:23:53] {1735} INFO - iteration 18, current learner lgbm\n",
            "[flaml.automl: 09-18 22:23:53] {1920} INFO -  at 9.7s,\tbest lgbm's error=0.1811,\tbest lgbm's error=0.1811\n",
            "[flaml.automl: 09-18 22:23:53] {1735} INFO - iteration 19, current learner xgboost\n",
            "[flaml.automl: 09-18 22:23:53] {1920} INFO -  at 9.9s,\tbest xgboost's error=0.2118,\tbest lgbm's error=0.1811\n",
            "[flaml.automl: 09-18 22:23:53] {1735} INFO - iteration 20, current learner lgbm\n",
            "[flaml.automl: 09-18 22:23:54] {1920} INFO -  at 10.2s,\tbest lgbm's error=0.1769,\tbest lgbm's error=0.1769\n",
            "[flaml.automl: 09-18 22:23:54] {1735} INFO - iteration 21, current learner rf\n",
            "[flaml.automl: 09-18 22:23:55] {1920} INFO -  at 11.6s,\tbest rf's error=0.1922,\tbest lgbm's error=0.1769\n",
            "[flaml.automl: 09-18 22:23:55] {1735} INFO - iteration 22, current learner lgbm\n",
            "[flaml.automl: 09-18 22:23:55] {1920} INFO -  at 11.9s,\tbest lgbm's error=0.1769,\tbest lgbm's error=0.1769\n",
            "[flaml.automl: 09-18 22:23:55] {1735} INFO - iteration 23, current learner lgbm\n",
            "[flaml.automl: 09-18 22:23:56] {1920} INFO -  at 12.1s,\tbest lgbm's error=0.1769,\tbest lgbm's error=0.1769\n",
            "[flaml.automl: 09-18 22:23:56] {1735} INFO - iteration 24, current learner extra_tree\n",
            "[flaml.automl: 09-18 22:23:57] {1920} INFO -  at 13.4s,\tbest extra_tree's error=0.1951,\tbest lgbm's error=0.1769\n",
            "[flaml.automl: 09-18 22:23:57] {1735} INFO - iteration 25, current learner extra_tree\n",
            "[flaml.automl: 09-18 22:23:58] {1920} INFO -  at 14.9s,\tbest extra_tree's error=0.1937,\tbest lgbm's error=0.1769\n",
            "[flaml.automl: 09-18 22:23:58] {1735} INFO - iteration 26, current learner lgbm\n",
            "[flaml.automl: 09-18 22:23:59] {1920} INFO -  at 15.1s,\tbest lgbm's error=0.1769,\tbest lgbm's error=0.1769\n",
            "[flaml.automl: 09-18 22:23:59] {1735} INFO - iteration 27, current learner lgbm\n",
            "[flaml.automl: 09-18 22:23:59] {1920} INFO -  at 15.4s,\tbest lgbm's error=0.1769,\tbest lgbm's error=0.1769\n",
            "[flaml.automl: 09-18 22:23:59] {1735} INFO - iteration 28, current learner rf\n",
            "[flaml.automl: 09-18 22:24:00] {1920} INFO -  at 16.7s,\tbest rf's error=0.1922,\tbest lgbm's error=0.1769\n",
            "[flaml.automl: 09-18 22:24:00] {1735} INFO - iteration 29, current learner rf\n",
            "[flaml.automl: 09-18 22:24:02] {1920} INFO -  at 18.1s,\tbest rf's error=0.1922,\tbest lgbm's error=0.1769\n",
            "[flaml.automl: 09-18 22:24:02] {1735} INFO - iteration 30, current learner lgbm\n",
            "[flaml.automl: 09-18 22:24:02] {1920} INFO -  at 18.4s,\tbest lgbm's error=0.1769,\tbest lgbm's error=0.1769\n",
            "[flaml.automl: 09-18 22:24:02] {1735} INFO - iteration 31, current learner lgbm\n",
            "[flaml.automl: 09-18 22:24:02] {1920} INFO -  at 18.6s,\tbest lgbm's error=0.1769,\tbest lgbm's error=0.1769\n",
            "[flaml.automl: 09-18 22:24:02] {1735} INFO - iteration 32, current learner lgbm\n",
            "[flaml.automl: 09-18 22:24:02] {1920} INFO -  at 18.8s,\tbest lgbm's error=0.1769,\tbest lgbm's error=0.1769\n",
            "[flaml.automl: 09-18 22:24:02] {1735} INFO - iteration 33, current learner rf\n",
            "[flaml.automl: 09-18 22:24:04] {1920} INFO -  at 20.2s,\tbest rf's error=0.1922,\tbest lgbm's error=0.1769\n",
            "[flaml.automl: 09-18 22:24:04] {1735} INFO - iteration 34, current learner lgbm\n",
            "[flaml.automl: 09-18 22:24:04] {1920} INFO -  at 20.4s,\tbest lgbm's error=0.1769,\tbest lgbm's error=0.1769\n",
            "[flaml.automl: 09-18 22:24:04] {1735} INFO - iteration 35, current learner lgbm\n",
            "[flaml.automl: 09-18 22:24:04] {1920} INFO -  at 20.6s,\tbest lgbm's error=0.1769,\tbest lgbm's error=0.1769\n",
            "[flaml.automl: 09-18 22:24:04] {1735} INFO - iteration 36, current learner xgboost\n",
            "[flaml.automl: 09-18 22:24:04] {1920} INFO -  at 20.8s,\tbest xgboost's error=0.2090,\tbest lgbm's error=0.1769\n",
            "[flaml.automl: 09-18 22:24:04] {1735} INFO - iteration 37, current learner lgbm\n",
            "[flaml.automl: 09-18 22:24:05] {1920} INFO -  at 21.1s,\tbest lgbm's error=0.1755,\tbest lgbm's error=0.1755\n",
            "[flaml.automl: 09-18 22:24:05] {1735} INFO - iteration 38, current learner rf\n",
            "[flaml.automl: 09-18 22:24:06] {1920} INFO -  at 22.5s,\tbest rf's error=0.1922,\tbest lgbm's error=0.1755\n",
            "[flaml.automl: 09-18 22:24:06] {1735} INFO - iteration 39, current learner lgbm\n",
            "[flaml.automl: 09-18 22:24:06] {1920} INFO -  at 22.8s,\tbest lgbm's error=0.1755,\tbest lgbm's error=0.1755\n",
            "[flaml.automl: 09-18 22:24:06] {1735} INFO - iteration 40, current learner rf\n",
            "[flaml.automl: 09-18 22:24:08] {1920} INFO -  at 24.1s,\tbest rf's error=0.1922,\tbest lgbm's error=0.1755\n",
            "[flaml.automl: 09-18 22:24:08] {1735} INFO - iteration 41, current learner xgboost\n",
            "[flaml.automl: 09-18 22:24:08] {1920} INFO -  at 24.3s,\tbest xgboost's error=0.2034,\tbest lgbm's error=0.1755\n",
            "[flaml.automl: 09-18 22:24:08] {1735} INFO - iteration 42, current learner lgbm\n",
            "[flaml.automl: 09-18 22:24:08] {1920} INFO -  at 24.5s,\tbest lgbm's error=0.1755,\tbest lgbm's error=0.1755\n",
            "[flaml.automl: 09-18 22:24:08] {1735} INFO - iteration 43, current learner xgboost\n",
            "[flaml.automl: 09-18 22:24:08] {1920} INFO -  at 24.7s,\tbest xgboost's error=0.2034,\tbest lgbm's error=0.1755\n",
            "[flaml.automl: 09-18 22:24:08] {1735} INFO - iteration 44, current learner extra_tree\n",
            "[flaml.automl: 09-18 22:24:10] {1920} INFO -  at 26.0s,\tbest extra_tree's error=0.1909,\tbest lgbm's error=0.1755\n",
            "[flaml.automl: 09-18 22:24:10] {1735} INFO - iteration 45, current learner xgboost\n",
            "[flaml.automl: 09-18 22:24:10] {1920} INFO -  at 26.2s,\tbest xgboost's error=0.2034,\tbest lgbm's error=0.1755\n",
            "[flaml.automl: 09-18 22:24:10] {1735} INFO - iteration 46, current learner lgbm\n",
            "[flaml.automl: 09-18 22:24:10] {1920} INFO -  at 26.5s,\tbest lgbm's error=0.1728,\tbest lgbm's error=0.1728\n",
            "[flaml.automl: 09-18 22:24:10] {1735} INFO - iteration 47, current learner lgbm\n",
            "[flaml.automl: 09-18 22:24:10] {1920} INFO -  at 26.8s,\tbest lgbm's error=0.1728,\tbest lgbm's error=0.1728\n",
            "[flaml.automl: 09-18 22:24:10] {1735} INFO - iteration 48, current learner lgbm\n",
            "[flaml.automl: 09-18 22:24:11] {1920} INFO -  at 27.0s,\tbest lgbm's error=0.1728,\tbest lgbm's error=0.1728\n",
            "[flaml.automl: 09-18 22:24:11] {1735} INFO - iteration 49, current learner lgbm\n",
            "[flaml.automl: 09-18 22:24:11] {1920} INFO -  at 27.3s,\tbest lgbm's error=0.1728,\tbest lgbm's error=0.1728\n",
            "[flaml.automl: 09-18 22:24:11] {1735} INFO - iteration 50, current learner xgboost\n",
            "[flaml.automl: 09-18 22:24:11] {1920} INFO -  at 27.5s,\tbest xgboost's error=0.2034,\tbest lgbm's error=0.1728\n",
            "[flaml.automl: 09-18 22:24:11] {1735} INFO - iteration 51, current learner lgbm\n",
            "[flaml.automl: 09-18 22:24:11] {1920} INFO -  at 27.8s,\tbest lgbm's error=0.1728,\tbest lgbm's error=0.1728\n",
            "[flaml.automl: 09-18 22:24:11] {1735} INFO - iteration 52, current learner lgbm\n",
            "[flaml.automl: 09-18 22:24:12] {1920} INFO -  at 28.0s,\tbest lgbm's error=0.1728,\tbest lgbm's error=0.1728\n",
            "[flaml.automl: 09-18 22:24:12] {1735} INFO - iteration 53, current learner lgbm\n",
            "[flaml.automl: 09-18 22:24:12] {1920} INFO -  at 28.3s,\tbest lgbm's error=0.1728,\tbest lgbm's error=0.1728\n",
            "[flaml.automl: 09-18 22:24:12] {1735} INFO - iteration 54, current learner lgbm\n",
            "[flaml.automl: 09-18 22:24:12] {1920} INFO -  at 28.5s,\tbest lgbm's error=0.1728,\tbest lgbm's error=0.1728\n",
            "[flaml.automl: 09-18 22:24:12] {1735} INFO - iteration 55, current learner lgbm\n",
            "[flaml.automl: 09-18 22:24:12] {1920} INFO -  at 28.8s,\tbest lgbm's error=0.1728,\tbest lgbm's error=0.1728\n",
            "[flaml.automl: 09-18 22:24:12] {1735} INFO - iteration 56, current learner lgbm\n",
            "[flaml.automl: 09-18 22:24:13] {1920} INFO -  at 29.1s,\tbest lgbm's error=0.1728,\tbest lgbm's error=0.1728\n",
            "[flaml.automl: 09-18 22:24:13] {1735} INFO - iteration 57, current learner lgbm\n",
            "[flaml.automl: 09-18 22:24:13] {1920} INFO -  at 29.3s,\tbest lgbm's error=0.1728,\tbest lgbm's error=0.1728\n",
            "[flaml.automl: 09-18 22:24:13] {1735} INFO - iteration 58, current learner lgbm\n",
            "[flaml.automl: 09-18 22:24:13] {1920} INFO -  at 29.6s,\tbest lgbm's error=0.1728,\tbest lgbm's error=0.1728\n",
            "[flaml.automl: 09-18 22:24:13] {1735} INFO - iteration 59, current learner lgbm\n",
            "[flaml.automl: 09-18 22:24:13] {1920} INFO -  at 29.8s,\tbest lgbm's error=0.1728,\tbest lgbm's error=0.1728\n",
            "[flaml.automl: 09-18 22:24:13] {1735} INFO - iteration 60, current learner lgbm\n",
            "[flaml.automl: 09-18 22:24:14] {1920} INFO -  at 30.2s,\tbest lgbm's error=0.1728,\tbest lgbm's error=0.1728\n",
            "[flaml.automl: 09-18 22:24:14] {1735} INFO - iteration 61, current learner catboost\n",
            "[flaml.automl: 09-18 22:24:15] {1920} INFO -  at 31.3s,\tbest catboost's error=0.1826,\tbest lgbm's error=0.1728\n",
            "[flaml.automl: 09-18 22:24:15] {1735} INFO - iteration 62, current learner lgbm\n",
            "[flaml.automl: 09-18 22:24:15] {1920} INFO -  at 31.6s,\tbest lgbm's error=0.1728,\tbest lgbm's error=0.1728\n",
            "[flaml.automl: 09-18 22:24:15] {1735} INFO - iteration 63, current learner catboost\n",
            "[flaml.automl: 09-18 22:24:16] {1920} INFO -  at 32.9s,\tbest catboost's error=0.1728,\tbest lgbm's error=0.1728\n",
            "[flaml.automl: 09-18 22:24:16] {1735} INFO - iteration 64, current learner catboost\n",
            "[flaml.automl: 09-18 22:24:18] {1920} INFO -  at 34.1s,\tbest catboost's error=0.1728,\tbest lgbm's error=0.1728\n",
            "[flaml.automl: 09-18 22:24:18] {1735} INFO - iteration 65, current learner lgbm\n",
            "[flaml.automl: 09-18 22:24:18] {1920} INFO -  at 34.3s,\tbest lgbm's error=0.1728,\tbest lgbm's error=0.1728\n",
            "[flaml.automl: 09-18 22:24:18] {1735} INFO - iteration 66, current learner catboost\n",
            "[flaml.automl: 09-18 22:24:20] {1920} INFO -  at 36.3s,\tbest catboost's error=0.1700,\tbest catboost's error=0.1700\n",
            "[flaml.automl: 09-18 22:24:20] {1735} INFO - iteration 67, current learner catboost\n",
            "[flaml.automl: 09-18 22:24:21] {1920} INFO -  at 37.7s,\tbest catboost's error=0.1700,\tbest catboost's error=0.1700\n",
            "[flaml.automl: 09-18 22:24:21] {1735} INFO - iteration 68, current learner catboost\n",
            "[flaml.automl: 09-18 22:24:24] {1920} INFO -  at 40.6s,\tbest catboost's error=0.1700,\tbest catboost's error=0.1700\n",
            "[flaml.automl: 09-18 22:24:24] {1735} INFO - iteration 69, current learner lgbm\n",
            "[flaml.automl: 09-18 22:24:24] {1920} INFO -  at 40.9s,\tbest lgbm's error=0.1728,\tbest catboost's error=0.1700\n",
            "[flaml.automl: 09-18 22:24:24] {1735} INFO - iteration 70, current learner catboost\n",
            "[flaml.automl: 09-18 22:24:26] {1920} INFO -  at 42.6s,\tbest catboost's error=0.1700,\tbest catboost's error=0.1700\n",
            "[flaml.automl: 09-18 22:24:26] {1735} INFO - iteration 71, current learner catboost\n",
            "[flaml.automl: 09-18 22:24:28] {1920} INFO -  at 44.7s,\tbest catboost's error=0.1700,\tbest catboost's error=0.1700\n",
            "[flaml.automl: 09-18 22:24:28] {1735} INFO - iteration 72, current learner catboost\n",
            "[flaml.automl: 09-18 22:24:30] {1920} INFO -  at 46.4s,\tbest catboost's error=0.1700,\tbest catboost's error=0.1700\n",
            "[flaml.automl: 09-18 22:24:30] {1735} INFO - iteration 73, current learner extra_tree\n",
            "[flaml.automl: 09-18 22:24:31] {1920} INFO -  at 47.9s,\tbest extra_tree's error=0.1909,\tbest catboost's error=0.1700\n",
            "[flaml.automl: 09-18 22:24:31] {1735} INFO - iteration 74, current learner catboost\n",
            "[flaml.automl: 09-18 22:24:34] {1920} INFO -  at 50.1s,\tbest catboost's error=0.1700,\tbest catboost's error=0.1700\n",
            "[flaml.automl: 09-18 22:24:34] {1735} INFO - iteration 75, current learner xgboost\n",
            "[flaml.automl: 09-18 22:24:34] {1920} INFO -  at 50.3s,\tbest xgboost's error=0.2034,\tbest catboost's error=0.1700\n",
            "[flaml.automl: 09-18 22:24:34] {1735} INFO - iteration 76, current learner lgbm\n",
            "[flaml.automl: 09-18 22:24:34] {1920} INFO -  at 50.6s,\tbest lgbm's error=0.1728,\tbest catboost's error=0.1700\n",
            "[flaml.automl: 09-18 22:24:34] {1735} INFO - iteration 77, current learner lgbm\n",
            "[flaml.automl: 09-18 22:24:34] {1920} INFO -  at 50.8s,\tbest lgbm's error=0.1714,\tbest catboost's error=0.1700\n",
            "[flaml.automl: 09-18 22:24:34] {1735} INFO - iteration 78, current learner xgboost\n",
            "[flaml.automl: 09-18 22:24:34] {1920} INFO -  at 51.0s,\tbest xgboost's error=0.1965,\tbest catboost's error=0.1700\n",
            "[flaml.automl: 09-18 22:24:35] {1735} INFO - iteration 79, current learner rf\n",
            "[flaml.automl: 09-18 22:24:36] {1920} INFO -  at 52.4s,\tbest rf's error=0.1922,\tbest catboost's error=0.1700\n",
            "[flaml.automl: 09-18 22:24:36] {1735} INFO - iteration 80, current learner lgbm\n",
            "[flaml.automl: 09-18 22:24:36] {1920} INFO -  at 52.7s,\tbest lgbm's error=0.1714,\tbest catboost's error=0.1700\n",
            "[flaml.automl: 09-18 22:24:36] {1735} INFO - iteration 81, current learner xgboost\n",
            "[flaml.automl: 09-18 22:24:36] {1920} INFO -  at 52.9s,\tbest xgboost's error=0.1965,\tbest catboost's error=0.1700\n",
            "[flaml.automl: 09-18 22:24:36] {1735} INFO - iteration 82, current learner rf\n",
            "[flaml.automl: 09-18 22:24:38] {1920} INFO -  at 54.2s,\tbest rf's error=0.1922,\tbest catboost's error=0.1700\n",
            "[flaml.automl: 09-18 22:24:38] {1735} INFO - iteration 83, current learner xgboost\n",
            "[flaml.automl: 09-18 22:24:38] {1920} INFO -  at 54.4s,\tbest xgboost's error=0.1965,\tbest catboost's error=0.1700\n",
            "[flaml.automl: 09-18 22:24:38] {1735} INFO - iteration 84, current learner xgboost\n",
            "[flaml.automl: 09-18 22:24:38] {1920} INFO -  at 54.6s,\tbest xgboost's error=0.1965,\tbest catboost's error=0.1700\n",
            "[flaml.automl: 09-18 22:24:38] {1735} INFO - iteration 85, current learner xgboost\n",
            "[flaml.automl: 09-18 22:24:38] {1920} INFO -  at 54.8s,\tbest xgboost's error=0.1922,\tbest catboost's error=0.1700\n",
            "[flaml.automl: 09-18 22:24:38] {1735} INFO - iteration 86, current learner xgboost\n",
            "[flaml.automl: 09-18 22:24:39] {1920} INFO -  at 55.0s,\tbest xgboost's error=0.1922,\tbest catboost's error=0.1700\n",
            "[flaml.automl: 09-18 22:24:39] {1735} INFO - iteration 87, current learner xgboost\n",
            "[flaml.automl: 09-18 22:24:39] {1920} INFO -  at 55.2s,\tbest xgboost's error=0.1922,\tbest catboost's error=0.1700\n",
            "[flaml.automl: 09-18 22:24:39] {1735} INFO - iteration 88, current learner rf\n",
            "[flaml.automl: 09-18 22:24:40] {1920} INFO -  at 56.5s,\tbest rf's error=0.1922,\tbest catboost's error=0.1700\n",
            "[flaml.automl: 09-18 22:24:40] {1735} INFO - iteration 89, current learner lgbm\n",
            "[flaml.automl: 09-18 22:24:40] {1920} INFO -  at 56.8s,\tbest lgbm's error=0.1714,\tbest catboost's error=0.1700\n",
            "[flaml.automl: 09-18 22:24:40] {1735} INFO - iteration 90, current learner xgboost\n",
            "[flaml.automl: 09-18 22:24:41] {1920} INFO -  at 57.0s,\tbest xgboost's error=0.1895,\tbest catboost's error=0.1700\n",
            "[flaml.automl: 09-18 22:24:41] {1735} INFO - iteration 91, current learner catboost\n",
            "[flaml.automl: 09-18 22:24:43] {1920} INFO -  at 59.2s,\tbest catboost's error=0.1700,\tbest catboost's error=0.1700\n",
            "[flaml.automl: 09-18 22:24:43] {1735} INFO - iteration 92, current learner extra_tree\n",
            "[flaml.automl: 09-18 22:24:44] {1920} INFO -  at 60.5s,\tbest extra_tree's error=0.1909,\tbest catboost's error=0.1700\n",
            "[flaml.automl: 09-18 22:24:44] {1735} INFO - iteration 93, current learner xgboost\n",
            "[flaml.automl: 09-18 22:24:44] {1920} INFO -  at 60.7s,\tbest xgboost's error=0.1895,\tbest catboost's error=0.1700\n",
            "[flaml.automl: 09-18 22:24:44] {1735} INFO - iteration 94, current learner catboost\n",
            "[flaml.automl: 09-18 22:24:46] {1920} INFO -  at 62.2s,\tbest catboost's error=0.1700,\tbest catboost's error=0.1700\n",
            "[flaml.automl: 09-18 22:24:46] {1735} INFO - iteration 95, current learner lgbm\n",
            "[flaml.automl: 09-18 22:24:46] {1920} INFO -  at 62.4s,\tbest lgbm's error=0.1714,\tbest catboost's error=0.1700\n",
            "[flaml.automl: 09-18 22:24:46] {1735} INFO - iteration 96, current learner extra_tree\n",
            "[flaml.automl: 09-18 22:24:47] {1920} INFO -  at 63.9s,\tbest extra_tree's error=0.1909,\tbest catboost's error=0.1700\n",
            "[flaml.automl: 09-18 22:24:47] {1735} INFO - iteration 97, current learner rf\n",
            "[flaml.automl: 09-18 22:24:49] {1920} INFO -  at 65.3s,\tbest rf's error=0.1922,\tbest catboost's error=0.1700\n",
            "[flaml.automl: 09-18 22:24:49] {1735} INFO - iteration 98, current learner catboost\n",
            "[flaml.automl: 09-18 22:24:51] {1920} INFO -  at 68.0s,\tbest catboost's error=0.1700,\tbest catboost's error=0.1700\n",
            "[flaml.automl: 09-18 22:24:51] {1735} INFO - iteration 99, current learner rf\n",
            "[flaml.automl: 09-18 22:24:53] {1920} INFO -  at 69.3s,\tbest rf's error=0.1922,\tbest catboost's error=0.1700\n",
            "[flaml.automl: 09-18 22:24:53] {1735} INFO - iteration 100, current learner lgbm\n",
            "[flaml.automl: 09-18 22:24:53] {1920} INFO -  at 69.6s,\tbest lgbm's error=0.1714,\tbest catboost's error=0.1700\n",
            "[flaml.automl: 09-18 22:24:53] {1735} INFO - iteration 101, current learner xgboost\n",
            "[flaml.automl: 09-18 22:24:53] {1920} INFO -  at 69.9s,\tbest xgboost's error=0.1895,\tbest catboost's error=0.1700\n",
            "[flaml.automl: 09-18 22:24:53] {1735} INFO - iteration 102, current learner catboost\n",
            "[flaml.automl: 09-18 22:24:56] {1920} INFO -  at 72.2s,\tbest catboost's error=0.1700,\tbest catboost's error=0.1700\n",
            "[flaml.automl: 09-18 22:24:56] {1735} INFO - iteration 103, current learner lgbm\n",
            "[flaml.automl: 09-18 22:24:56] {1920} INFO -  at 72.4s,\tbest lgbm's error=0.1714,\tbest catboost's error=0.1700\n",
            "[flaml.automl: 09-18 22:24:56] {1735} INFO - iteration 104, current learner catboost\n",
            "[flaml.automl: 09-18 22:24:58] {1920} INFO -  at 74.1s,\tbest catboost's error=0.1672,\tbest catboost's error=0.1672\n",
            "[flaml.automl: 09-18 22:24:58] {1735} INFO - iteration 105, current learner rf\n",
            "[flaml.automl: 09-18 22:24:59] {1920} INFO -  at 75.6s,\tbest rf's error=0.1922,\tbest catboost's error=0.1672\n",
            "[flaml.automl: 09-18 22:24:59] {1735} INFO - iteration 106, current learner catboost\n",
            "[flaml.automl: 09-18 22:25:01] {1920} INFO -  at 77.6s,\tbest catboost's error=0.1672,\tbest catboost's error=0.1672\n",
            "[flaml.automl: 09-18 22:25:01] {1735} INFO - iteration 107, current learner xgboost\n",
            "[flaml.automl: 09-18 22:25:01] {1920} INFO -  at 77.8s,\tbest xgboost's error=0.1895,\tbest catboost's error=0.1672\n",
            "[flaml.automl: 09-18 22:25:01] {1735} INFO - iteration 108, current learner catboost\n",
            "[flaml.automl: 09-18 22:25:03] {1920} INFO -  at 79.2s,\tbest catboost's error=0.1672,\tbest catboost's error=0.1672\n",
            "[flaml.automl: 09-18 22:25:03] {1735} INFO - iteration 109, current learner xgboost\n",
            "[flaml.automl: 09-18 22:25:03] {1920} INFO -  at 79.5s,\tbest xgboost's error=0.1895,\tbest catboost's error=0.1672\n",
            "[flaml.automl: 09-18 22:25:03] {1735} INFO - iteration 110, current learner catboost\n",
            "[flaml.automl: 09-18 22:25:05] {1920} INFO -  at 81.2s,\tbest catboost's error=0.1672,\tbest catboost's error=0.1672\n",
            "[flaml.automl: 09-18 22:25:05] {1735} INFO - iteration 111, current learner lgbm\n",
            "[flaml.automl: 09-18 22:25:05] {1920} INFO -  at 81.5s,\tbest lgbm's error=0.1714,\tbest catboost's error=0.1672\n",
            "[flaml.automl: 09-18 22:25:05] {1735} INFO - iteration 112, current learner extra_tree\n",
            "[flaml.automl: 09-18 22:25:06] {1920} INFO -  at 82.8s,\tbest extra_tree's error=0.1909,\tbest catboost's error=0.1672\n",
            "[flaml.automl: 09-18 22:25:06] {1735} INFO - iteration 113, current learner xgboost\n",
            "[flaml.automl: 09-18 22:25:07] {1920} INFO -  at 83.0s,\tbest xgboost's error=0.1895,\tbest catboost's error=0.1672\n",
            "[flaml.automl: 09-18 22:25:07] {1735} INFO - iteration 114, current learner extra_tree\n",
            "[flaml.automl: 09-18 22:25:08] {1920} INFO -  at 84.5s,\tbest extra_tree's error=0.1909,\tbest catboost's error=0.1672\n",
            "[flaml.automl: 09-18 22:25:08] {1735} INFO - iteration 115, current learner lgbm\n",
            "[flaml.automl: 09-18 22:25:08] {1920} INFO -  at 84.8s,\tbest lgbm's error=0.1714,\tbest catboost's error=0.1672\n",
            "[flaml.automl: 09-18 22:25:08] {1735} INFO - iteration 116, current learner lgbm\n",
            "[flaml.automl: 09-18 22:25:09] {1920} INFO -  at 85.0s,\tbest lgbm's error=0.1714,\tbest catboost's error=0.1672\n",
            "[flaml.automl: 09-18 22:25:09] {1735} INFO - iteration 117, current learner xgboost\n",
            "[flaml.automl: 09-18 22:25:09] {1920} INFO -  at 85.2s,\tbest xgboost's error=0.1895,\tbest catboost's error=0.1672\n",
            "[flaml.automl: 09-18 22:25:09] {1735} INFO - iteration 118, current learner catboost\n",
            "[flaml.automl: 09-18 22:25:11] {1920} INFO -  at 87.3s,\tbest catboost's error=0.1672,\tbest catboost's error=0.1672\n",
            "[flaml.automl: 09-18 22:25:11] {1735} INFO - iteration 119, current learner lgbm\n",
            "[flaml.automl: 09-18 22:25:11] {1920} INFO -  at 87.6s,\tbest lgbm's error=0.1658,\tbest lgbm's error=0.1658\n",
            "[flaml.automl: 09-18 22:25:11] {1735} INFO - iteration 120, current learner lgbm\n",
            "[flaml.automl: 09-18 22:25:11] {1920} INFO -  at 87.9s,\tbest lgbm's error=0.1658,\tbest lgbm's error=0.1658\n",
            "[flaml.automl: 09-18 22:25:11] {1735} INFO - iteration 121, current learner lgbm\n",
            "[flaml.automl: 09-18 22:25:12] {1920} INFO -  at 88.2s,\tbest lgbm's error=0.1658,\tbest lgbm's error=0.1658\n",
            "[flaml.automl: 09-18 22:25:12] {1735} INFO - iteration 122, current learner catboost\n",
            "[flaml.automl: 09-18 22:25:13] {1920} INFO -  at 89.9s,\tbest catboost's error=0.1644,\tbest catboost's error=0.1644\n",
            "[flaml.automl: 09-18 22:25:13] {1735} INFO - iteration 123, current learner lgbm\n",
            "[flaml.automl: 09-18 22:25:14] {1920} INFO -  at 90.1s,\tbest lgbm's error=0.1658,\tbest catboost's error=0.1644\n",
            "[flaml.automl: 09-18 22:25:14] {1735} INFO - iteration 124, current learner lgbm\n",
            "[flaml.automl: 09-18 22:25:14] {1920} INFO -  at 90.4s,\tbest lgbm's error=0.1658,\tbest catboost's error=0.1644\n",
            "[flaml.automl: 09-18 22:25:14] {1735} INFO - iteration 125, current learner lgbm\n",
            "[flaml.automl: 09-18 22:25:14] {1920} INFO -  at 90.7s,\tbest lgbm's error=0.1658,\tbest catboost's error=0.1644\n",
            "[flaml.automl: 09-18 22:25:14] {1735} INFO - iteration 126, current learner lgbm\n",
            "[flaml.automl: 09-18 22:25:14] {1920} INFO -  at 91.0s,\tbest lgbm's error=0.1658,\tbest catboost's error=0.1644\n",
            "[flaml.automl: 09-18 22:25:14] {1735} INFO - iteration 127, current learner lgbm\n",
            "[flaml.automl: 09-18 22:25:15] {1920} INFO -  at 91.3s,\tbest lgbm's error=0.1658,\tbest catboost's error=0.1644\n",
            "[flaml.automl: 09-18 22:25:15] {1735} INFO - iteration 128, current learner lgbm\n",
            "[flaml.automl: 09-18 22:25:15] {1920} INFO -  at 91.7s,\tbest lgbm's error=0.1658,\tbest catboost's error=0.1644\n",
            "[flaml.automl: 09-18 22:25:15] {1735} INFO - iteration 129, current learner catboost\n",
            "[flaml.automl: 09-18 22:25:17] {1920} INFO -  at 93.7s,\tbest catboost's error=0.1644,\tbest catboost's error=0.1644\n",
            "[flaml.automl: 09-18 22:25:17] {1735} INFO - iteration 130, current learner lgbm\n",
            "[flaml.automl: 09-18 22:25:17] {1920} INFO -  at 94.0s,\tbest lgbm's error=0.1658,\tbest catboost's error=0.1644\n",
            "[flaml.automl: 09-18 22:25:17] {1735} INFO - iteration 131, current learner lgbm\n",
            "[flaml.automl: 09-18 22:25:18] {1920} INFO -  at 94.3s,\tbest lgbm's error=0.1658,\tbest catboost's error=0.1644\n",
            "[flaml.automl: 09-18 22:25:18] {1735} INFO - iteration 132, current learner catboost\n",
            "[flaml.automl: 09-18 22:25:20] {1920} INFO -  at 96.3s,\tbest catboost's error=0.1644,\tbest catboost's error=0.1644\n",
            "[flaml.automl: 09-18 22:25:20] {1735} INFO - iteration 133, current learner lgbm\n",
            "[flaml.automl: 09-18 22:25:20] {1920} INFO -  at 96.6s,\tbest lgbm's error=0.1658,\tbest catboost's error=0.1644\n",
            "[flaml.automl: 09-18 22:25:20] {1735} INFO - iteration 134, current learner lgbm\n",
            "[flaml.automl: 09-18 22:25:20] {1920} INFO -  at 96.9s,\tbest lgbm's error=0.1658,\tbest catboost's error=0.1644\n",
            "[flaml.automl: 09-18 22:25:20] {1735} INFO - iteration 135, current learner lgbm\n",
            "[flaml.automl: 09-18 22:25:21] {1920} INFO -  at 97.2s,\tbest lgbm's error=0.1658,\tbest catboost's error=0.1644\n",
            "[flaml.automl: 09-18 22:25:21] {1735} INFO - iteration 136, current learner xgboost\n",
            "[flaml.automl: 09-18 22:25:21] {1920} INFO -  at 97.4s,\tbest xgboost's error=0.1895,\tbest catboost's error=0.1644\n",
            "[flaml.automl: 09-18 22:25:21] {1735} INFO - iteration 137, current learner lgbm\n",
            "[flaml.automl: 09-18 22:25:21] {1920} INFO -  at 97.7s,\tbest lgbm's error=0.1658,\tbest catboost's error=0.1644\n",
            "[flaml.automl: 09-18 22:25:21] {1735} INFO - iteration 138, current learner lgbm\n",
            "[flaml.automl: 09-18 22:25:21] {1920} INFO -  at 98.0s,\tbest lgbm's error=0.1658,\tbest catboost's error=0.1644\n",
            "[flaml.automl: 09-18 22:25:22] {1735} INFO - iteration 139, current learner catboost\n",
            "[flaml.automl: 09-18 22:25:23] {1920} INFO -  at 99.6s,\tbest catboost's error=0.1644,\tbest catboost's error=0.1644\n",
            "[flaml.automl: 09-18 22:25:23] {1735} INFO - iteration 140, current learner lgbm\n",
            "[flaml.automl: 09-18 22:25:24] {1920} INFO -  at 100.1s,\tbest lgbm's error=0.1658,\tbest catboost's error=0.1644\n",
            "[flaml.automl: 09-18 22:25:24] {1735} INFO - iteration 141, current learner catboost\n",
            "[flaml.automl: 09-18 22:25:25] {1920} INFO -  at 101.9s,\tbest catboost's error=0.1644,\tbest catboost's error=0.1644\n",
            "[flaml.automl: 09-18 22:25:25] {1735} INFO - iteration 142, current learner lgbm\n",
            "[flaml.automl: 09-18 22:25:26] {1920} INFO -  at 102.1s,\tbest lgbm's error=0.1658,\tbest catboost's error=0.1644\n",
            "[flaml.automl: 09-18 22:25:26] {1735} INFO - iteration 143, current learner catboost\n",
            "[flaml.automl: 09-18 22:25:27] {1920} INFO -  at 103.6s,\tbest catboost's error=0.1644,\tbest catboost's error=0.1644\n",
            "[flaml.automl: 09-18 22:25:27] {1735} INFO - iteration 144, current learner catboost\n",
            "[flaml.automl: 09-18 22:25:29] {1920} INFO -  at 105.4s,\tbest catboost's error=0.1644,\tbest catboost's error=0.1644\n",
            "[flaml.automl: 09-18 22:25:29] {1735} INFO - iteration 145, current learner lgbm\n",
            "[flaml.automl: 09-18 22:25:29] {1920} INFO -  at 105.7s,\tbest lgbm's error=0.1658,\tbest catboost's error=0.1644\n",
            "[flaml.automl: 09-18 22:25:29] {1735} INFO - iteration 146, current learner lgbm\n",
            "[flaml.automl: 09-18 22:25:29] {1920} INFO -  at 106.0s,\tbest lgbm's error=0.1658,\tbest catboost's error=0.1644\n",
            "[flaml.automl: 09-18 22:25:29] {1735} INFO - iteration 147, current learner lgbm\n",
            "[flaml.automl: 09-18 22:25:30] {1920} INFO -  at 106.2s,\tbest lgbm's error=0.1658,\tbest catboost's error=0.1644\n",
            "[flaml.automl: 09-18 22:25:30] {1735} INFO - iteration 148, current learner lgbm\n",
            "[flaml.automl: 09-18 22:25:30] {1920} INFO -  at 106.6s,\tbest lgbm's error=0.1658,\tbest catboost's error=0.1644\n",
            "[flaml.automl: 09-18 22:25:30] {1735} INFO - iteration 149, current learner lgbm\n",
            "[flaml.automl: 09-18 22:25:30] {1920} INFO -  at 107.0s,\tbest lgbm's error=0.1658,\tbest catboost's error=0.1644\n",
            "[flaml.automl: 09-18 22:25:30] {1735} INFO - iteration 150, current learner lgbm\n",
            "[flaml.automl: 09-18 22:25:31] {1920} INFO -  at 107.2s,\tbest lgbm's error=0.1658,\tbest catboost's error=0.1644\n",
            "[flaml.automl: 09-18 22:25:31] {1735} INFO - iteration 151, current learner lgbm\n",
            "[flaml.automl: 09-18 22:25:31] {1920} INFO -  at 107.5s,\tbest lgbm's error=0.1658,\tbest catboost's error=0.1644\n",
            "[flaml.automl: 09-18 22:25:31] {1735} INFO - iteration 152, current learner catboost\n",
            "[flaml.automl: 09-18 22:25:33] {1920} INFO -  at 109.5s,\tbest catboost's error=0.1644,\tbest catboost's error=0.1644\n",
            "[flaml.automl: 09-18 22:25:33] {1735} INFO - iteration 153, current learner rf\n",
            "[flaml.automl: 09-18 22:25:34] {1920} INFO -  at 110.8s,\tbest rf's error=0.1922,\tbest catboost's error=0.1644\n",
            "[flaml.automl: 09-18 22:25:34] {1735} INFO - iteration 154, current learner lgbm\n",
            "[flaml.automl: 09-18 22:25:35] {1920} INFO -  at 111.1s,\tbest lgbm's error=0.1658,\tbest catboost's error=0.1644\n",
            "[flaml.automl: 09-18 22:25:35] {1735} INFO - iteration 155, current learner lgbm\n",
            "[flaml.automl: 09-18 22:25:35] {1920} INFO -  at 111.4s,\tbest lgbm's error=0.1658,\tbest catboost's error=0.1644\n",
            "[flaml.automl: 09-18 22:25:35] {1735} INFO - iteration 156, current learner xgboost\n",
            "[flaml.automl: 09-18 22:25:35] {1920} INFO -  at 111.7s,\tbest xgboost's error=0.1881,\tbest catboost's error=0.1644\n",
            "[flaml.automl: 09-18 22:25:35] {1735} INFO - iteration 157, current learner rf\n",
            "[flaml.automl: 09-18 22:25:37] {1920} INFO -  at 113.1s,\tbest rf's error=0.1922,\tbest catboost's error=0.1644\n",
            "[flaml.automl: 09-18 22:25:37] {1735} INFO - iteration 158, current learner lgbm\n",
            "[flaml.automl: 09-18 22:25:37] {1920} INFO -  at 113.4s,\tbest lgbm's error=0.1658,\tbest catboost's error=0.1644\n",
            "[flaml.automl: 09-18 22:25:37] {1735} INFO - iteration 159, current learner lgbm\n",
            "[flaml.automl: 09-18 22:25:37] {1920} INFO -  at 113.7s,\tbest lgbm's error=0.1658,\tbest catboost's error=0.1644\n",
            "[flaml.automl: 09-18 22:25:37] {1735} INFO - iteration 160, current learner catboost\n",
            "[flaml.automl: 09-18 22:25:39] {1920} INFO -  at 115.1s,\tbest catboost's error=0.1644,\tbest catboost's error=0.1644\n",
            "[flaml.automl: 09-18 22:25:39] {1735} INFO - iteration 161, current learner lgbm\n",
            "[flaml.automl: 09-18 22:25:39] {1920} INFO -  at 115.3s,\tbest lgbm's error=0.1658,\tbest catboost's error=0.1644\n",
            "[flaml.automl: 09-18 22:25:39] {1735} INFO - iteration 162, current learner rf\n",
            "[flaml.automl: 09-18 22:25:40] {1920} INFO -  at 116.6s,\tbest rf's error=0.1922,\tbest catboost's error=0.1644\n",
            "[flaml.automl: 09-18 22:25:40] {1735} INFO - iteration 163, current learner xgboost\n",
            "[flaml.automl: 09-18 22:25:40] {1920} INFO -  at 116.8s,\tbest xgboost's error=0.1881,\tbest catboost's error=0.1644\n",
            "[flaml.automl: 09-18 22:25:40] {1735} INFO - iteration 164, current learner catboost\n",
            "[flaml.automl: 09-18 22:25:41] {1920} INFO -  at 117.7s,\tbest catboost's error=0.1644,\tbest catboost's error=0.1644\n",
            "[flaml.automl: 09-18 22:25:41] {1735} INFO - iteration 165, current learner lgbm\n",
            "[flaml.automl: 09-18 22:25:41] {1920} INFO -  at 118.0s,\tbest lgbm's error=0.1658,\tbest catboost's error=0.1644\n",
            "[flaml.automl: 09-18 22:25:41] {1735} INFO - iteration 166, current learner lgbm\n",
            "[flaml.automl: 09-18 22:25:42] {1920} INFO -  at 118.2s,\tbest lgbm's error=0.1658,\tbest catboost's error=0.1644\n",
            "[flaml.automl: 09-18 22:25:42] {1735} INFO - iteration 167, current learner catboost\n",
            "[flaml.automl: 09-18 22:25:42] {1920} INFO -  at 118.8s,\tbest catboost's error=0.1644,\tbest catboost's error=0.1644\n",
            "[flaml.automl: 09-18 22:25:42] {1735} INFO - iteration 168, current learner lgbm\n",
            "[flaml.automl: 09-18 22:25:43] {1920} INFO -  at 119.1s,\tbest lgbm's error=0.1658,\tbest catboost's error=0.1644\n",
            "[flaml.automl: 09-18 22:25:43] {1735} INFO - iteration 169, current learner lgbm\n",
            "[flaml.automl: 09-18 22:25:43] {1920} INFO -  at 119.3s,\tbest lgbm's error=0.1658,\tbest catboost's error=0.1644\n",
            "[flaml.automl: 09-18 22:25:43] {1735} INFO - iteration 170, current learner lgbm\n",
            "[flaml.automl: 09-18 22:25:43] {1920} INFO -  at 119.6s,\tbest lgbm's error=0.1658,\tbest catboost's error=0.1644\n",
            "[flaml.automl: 09-18 22:25:43] {1735} INFO - iteration 171, current learner lgbm\n",
            "[flaml.automl: 09-18 22:25:43] {1920} INFO -  at 119.9s,\tbest lgbm's error=0.1658,\tbest catboost's error=0.1644\n",
            "[flaml.automl: 09-18 22:25:43] {1735} INFO - iteration 172, current learner lrl1\n",
            "No low-cost partial config given to the search algorithm. For cost-frugal search, consider providing low-cost values for cost-related hps via 'low_cost_partial_config'.\n",
            "/usr/local/lib/python3.7/dist-packages/sklearn/linear_model/_sag.py:329: ConvergenceWarning: The max_iter was reached which means the coef_ did not converge\n",
            "  \"the coef_ did not converge\", ConvergenceWarning)\n",
            "[flaml.automl: 09-18 22:25:44] {1920} INFO -  at 120.1s,\tbest lrl1's error=0.3125,\tbest catboost's error=0.1644\n",
            "[flaml.automl: 09-18 22:25:44] {2021} INFO - selected model: <catboost.core.CatBoostClassifier object at 0x7fb91c406250>\n",
            "[flaml.automl: 09-18 22:25:44] {2084} INFO - retrain catboost for 0.4s\n",
            "[flaml.automl: 09-18 22:25:44] {2088} INFO - retrained model: <catboost.core.CatBoostClassifier object at 0x7fb91ccaa3d0>\n",
            "[flaml.automl: 09-18 22:25:44] {1529} INFO - fit succeeded\n",
            "[flaml.automl: 09-18 22:25:44] {1531} INFO - Time taken to find the best model: 89.85470008850098\n",
            "[flaml.automl: 09-18 22:25:44] {1545} WARNING - Time taken to find the best model is 75% of the provided time budget and not all estimators' hyperparameter search converged. Consider increasing the time budget.\n"
          ]
        }
      ]
    },
    {
      "cell_type": "markdown",
      "metadata": {
        "id": "UDiRZRGaq8H-"
      },
      "source": [
        "### Best model and metric"
      ]
    },
    {
      "cell_type": "code",
      "metadata": {
        "tags": [],
        "id": "qWeLf9fxq8IA",
        "colab": {
          "base_uri": "https://localhost:8080/"
        },
        "outputId": "fbb7efa8-042b-4c37-ec0a-8d2b62971638"
      },
      "source": [
        "''' retrieve best config and best learner'''\n",
        "print('Best ML leaner:', automl.best_estimator)\n",
        "print('Best hyperparmeter config:', automl.best_config)\n",
        "print('Best accuracy on validation data: {0:.4g}'.format(1-automl.best_loss))\n",
        "print('Training duration of best run: {0:.4g} s'.format(automl.best_config_train_time))"
      ],
      "execution_count": null,
      "outputs": [
        {
          "output_type": "stream",
          "name": "stdout",
          "text": [
            "Best ML leaner: catboost\n",
            "Best hyperparmeter config: {'early_stopping_rounds': 10, 'learning_rate': 0.047337336217363433}\n",
            "Best accuracy on validation data: 0.8356\n",
            "Training duration of best run: 1.66 s\n"
          ]
        }
      ]
    },
    {
      "cell_type": "code",
      "metadata": {
        "id": "Cl0MQu5cq8IB",
        "colab": {
          "base_uri": "https://localhost:8080/"
        },
        "outputId": "7fe627e4-bcee-4511-fc5f-796aa6d84647"
      },
      "source": [
        "automl.model.estimator"
      ],
      "execution_count": null,
      "outputs": [
        {
          "output_type": "execute_result",
          "data": {
            "text/plain": [
              "<catboost.core.CatBoostClassifier at 0x7fb91ccaa3d0>"
            ]
          },
          "metadata": {},
          "execution_count": 35
        }
      ]
    },
    {
      "cell_type": "code",
      "metadata": {
        "tags": [],
        "id": "HkeW2yE9q8ID",
        "colab": {
          "base_uri": "https://localhost:8080/"
        },
        "outputId": "d72b72ab-4bf4-4ba0-dad4-7e6f5b28ba44"
      },
      "source": [
        "''' compute predictions of testing dataset ''' \n",
        "y_pred = automl.predict(X_test)\n",
        "print('Predicted labels', y_pred)\n",
        "print('True labels', y_test)\n",
        "y_pred_proba = automl.predict_proba(X_test)[:,1]"
      ],
      "execution_count": null,
      "outputs": [
        {
          "output_type": "stream",
          "name": "stdout",
          "text": [
            "Predicted labels [1 0 0 1 1 0 0 1 0 0 0 1 0 0 0 0 1 1 0 0 0 0 0 0 0 0 1 0 0 0 1 0 1 1 0 0 0\n",
            " 1 0 0 1 0 0 0 0 0 0 1 1 0 1 0 0 0 0 0 0 1 1 0 0 1 1 0 0 1 1 1 0 0 1 0 0 1\n",
            " 1 1 1 0 1 0 0 1 0 1 0 1 0 0 0 1 0 1 1 0 0 0 0 0 0 0 0 1 1 0 0 0 1 0 0 1 1\n",
            " 0 1 0 1 0 0 0 1 0 1 0 0 0 0 1 0 1 0 0 0 0 0 0 0 1 0 0 0 0 0 0 1 1 1 0 0 0\n",
            " 0 1 1 0 0 0 0 0 1 1 0 0 0 0 0 0 0 0 0 0 0 1 1 0 0]\n",
            "True labels 3      1\n",
            "6      0\n",
            "17     1\n",
            "22     1\n",
            "31     1\n",
            "      ..\n",
            "864    0\n",
            "869    1\n",
            "874    1\n",
            "885    0\n",
            "889    1\n",
            "Name: Survived, Length: 173, dtype: int64\n"
          ]
        }
      ]
    },
    {
      "cell_type": "code",
      "metadata": {
        "tags": [],
        "id": "sJ8jmPUzq8IE",
        "colab": {
          "base_uri": "https://localhost:8080/"
        },
        "outputId": "7ca67a4f-acbd-4c3b-9a00-b624050624e8"
      },
      "source": [
        "''' compute different metric values on testing dataset'''\n",
        "from flaml.ml import sklearn_metric_loss_score\n",
        "print('accuracy', '=', 1 - sklearn_metric_loss_score('accuracy', y_pred, y_test))\n"
      ],
      "execution_count": null,
      "outputs": [
        {
          "output_type": "stream",
          "name": "stdout",
          "text": [
            "accuracy = 0.815028901734104\n"
          ]
        }
      ]
    },
    {
      "cell_type": "markdown",
      "metadata": {
        "id": "LyOGKeXfq8IF"
      },
      "source": [
        "See Section 4 for an accuracy comparison with default LightGBM and XGBoost.\n",
        "\n",
        "### Log history"
      ]
    },
    {
      "cell_type": "code",
      "metadata": {
        "tags": [],
        "id": "1zr-bKJdq8IH",
        "colab": {
          "base_uri": "https://localhost:8080/"
        },
        "outputId": "627cf4b6-7a38-40b4-ae4c-6187d430908b"
      },
      "source": [
        "from flaml.data import get_output_from_log\n",
        "time_history, best_valid_loss_history, valid_loss_history, config_history, metric_history = \\\n",
        "    get_output_from_log(filename=settings['log_file_name'], time_budget=240)\n",
        "for config in config_history:\n",
        "    print(config)"
      ],
      "execution_count": null,
      "outputs": [
        {
          "output_type": "stream",
          "name": "stdout",
          "text": [
            "{'Current Learner': 'lgbm', 'Current Sample': 718, 'Current Hyper-parameters': {'n_estimators': 4, 'num_leaves': 4, 'min_child_samples': 20, 'learning_rate': 0.09999999999999995, 'log_max_bin': 8, 'colsample_bytree': 1.0, 'reg_alpha': 0.0009765625, 'reg_lambda': 1.0}, 'Best Learner': 'lgbm', 'Best Hyper-parameters': {'n_estimators': 4, 'num_leaves': 4, 'min_child_samples': 20, 'learning_rate': 0.09999999999999995, 'log_max_bin': 8, 'colsample_bytree': 1.0, 'reg_alpha': 0.0009765625, 'reg_lambda': 1.0}}\n",
            "{'Current Learner': 'lgbm', 'Current Sample': 718, 'Current Hyper-parameters': {'n_estimators': 7, 'num_leaves': 4, 'min_child_samples': 15, 'learning_rate': 0.2712162364070373, 'log_max_bin': 10, 'colsample_bytree': 0.9285002286474459, 'reg_alpha': 0.002668211515123386, 'reg_lambda': 0.5215467339232843}, 'Best Learner': 'lgbm', 'Best Hyper-parameters': {'n_estimators': 7, 'num_leaves': 4, 'min_child_samples': 15, 'learning_rate': 0.2712162364070373, 'log_max_bin': 10, 'colsample_bytree': 0.9285002286474459, 'reg_alpha': 0.002668211515123386, 'reg_lambda': 0.5215467339232843}}\n",
            "{'Current Learner': 'lgbm', 'Current Sample': 718, 'Current Hyper-parameters': {'n_estimators': 8, 'num_leaves': 5, 'min_child_samples': 9, 'learning_rate': 0.2835381908967212, 'log_max_bin': 9, 'colsample_bytree': 0.8304072431299575, 'reg_alpha': 0.0014132988481787994, 'reg_lambda': 0.033183495034912504}, 'Best Learner': 'lgbm', 'Best Hyper-parameters': {'n_estimators': 8, 'num_leaves': 5, 'min_child_samples': 9, 'learning_rate': 0.2835381908967212, 'log_max_bin': 9, 'colsample_bytree': 0.8304072431299575, 'reg_alpha': 0.0014132988481787994, 'reg_lambda': 0.033183495034912504}}\n",
            "{'Current Learner': 'lgbm', 'Current Sample': 718, 'Current Hyper-parameters': {'n_estimators': 17, 'num_leaves': 4, 'min_child_samples': 7, 'learning_rate': 0.15662398373030859, 'log_max_bin': 10, 'colsample_bytree': 0.7610534336273627, 'reg_alpha': 0.0009765625, 'reg_lambda': 0.0064258982194552745}, 'Best Learner': 'lgbm', 'Best Hyper-parameters': {'n_estimators': 17, 'num_leaves': 4, 'min_child_samples': 7, 'learning_rate': 0.15662398373030859, 'log_max_bin': 10, 'colsample_bytree': 0.7610534336273627, 'reg_alpha': 0.0009765625, 'reg_lambda': 0.0064258982194552745}}\n",
            "{'Current Learner': 'lgbm', 'Current Sample': 718, 'Current Hyper-parameters': {'n_estimators': 23, 'num_leaves': 4, 'min_child_samples': 6, 'learning_rate': 0.2915468353191124, 'log_max_bin': 10, 'colsample_bytree': 0.8291836310024803, 'reg_alpha': 0.0009765625, 'reg_lambda': 0.022917008702549507}, 'Best Learner': 'lgbm', 'Best Hyper-parameters': {'n_estimators': 23, 'num_leaves': 4, 'min_child_samples': 6, 'learning_rate': 0.2915468353191124, 'log_max_bin': 10, 'colsample_bytree': 0.8291836310024803, 'reg_alpha': 0.0009765625, 'reg_lambda': 0.022917008702549507}}\n",
            "{'Current Learner': 'lgbm', 'Current Sample': 718, 'Current Hyper-parameters': {'n_estimators': 28, 'num_leaves': 4, 'min_child_samples': 6, 'learning_rate': 0.11822917838369575, 'log_max_bin': 10, 'colsample_bytree': 1.0, 'reg_alpha': 0.001346442339014509, 'reg_lambda': 0.04074999167061471}, 'Best Learner': 'lgbm', 'Best Hyper-parameters': {'n_estimators': 28, 'num_leaves': 4, 'min_child_samples': 6, 'learning_rate': 0.11822917838369575, 'log_max_bin': 10, 'colsample_bytree': 1.0, 'reg_alpha': 0.001346442339014509, 'reg_lambda': 0.04074999167061471}}\n",
            "{'Current Learner': 'lgbm', 'Current Sample': 718, 'Current Hyper-parameters': {'n_estimators': 37, 'num_leaves': 4, 'min_child_samples': 11, 'learning_rate': 0.1908612102096217, 'log_max_bin': 9, 'colsample_bytree': 1.0, 'reg_alpha': 0.00305956643719558, 'reg_lambda': 0.024096451587641576}, 'Best Learner': 'lgbm', 'Best Hyper-parameters': {'n_estimators': 37, 'num_leaves': 4, 'min_child_samples': 11, 'learning_rate': 0.1908612102096217, 'log_max_bin': 9, 'colsample_bytree': 1.0, 'reg_alpha': 0.00305956643719558, 'reg_lambda': 0.024096451587641576}}\n",
            "{'Current Learner': 'catboost', 'Current Sample': 718, 'Current Hyper-parameters': {'early_stopping_rounds': 13, 'learning_rate': 0.04171721859304757}, 'Best Learner': 'catboost', 'Best Hyper-parameters': {'early_stopping_rounds': 13, 'learning_rate': 0.04171721859304757}}\n",
            "{'Current Learner': 'catboost', 'Current Sample': 718, 'Current Hyper-parameters': {'early_stopping_rounds': 11, 'learning_rate': 0.04674648767212625}, 'Best Learner': 'catboost', 'Best Hyper-parameters': {'early_stopping_rounds': 11, 'learning_rate': 0.04674648767212625}}\n",
            "{'Current Learner': 'lgbm', 'Current Sample': 718, 'Current Hyper-parameters': {'n_estimators': 67, 'num_leaves': 5, 'min_child_samples': 14, 'learning_rate': 0.06345166228683606, 'log_max_bin': 9, 'colsample_bytree': 1.0, 'reg_alpha': 0.35322235235627303, 'reg_lambda': 0.029568171474304333}, 'Best Learner': 'lgbm', 'Best Hyper-parameters': {'n_estimators': 67, 'num_leaves': 5, 'min_child_samples': 14, 'learning_rate': 0.06345166228683606, 'log_max_bin': 9, 'colsample_bytree': 1.0, 'reg_alpha': 0.35322235235627303, 'reg_lambda': 0.029568171474304333}}\n",
            "{'Current Learner': 'catboost', 'Current Sample': 718, 'Current Hyper-parameters': {'early_stopping_rounds': 10, 'learning_rate': 0.047337336217363433}, 'Best Learner': 'catboost', 'Best Hyper-parameters': {'early_stopping_rounds': 10, 'learning_rate': 0.047337336217363433}}\n"
          ]
        }
      ]
    },
    {
      "cell_type": "code",
      "metadata": {
        "id": "iWOgNDZgq8IH",
        "colab": {
          "base_uri": "https://localhost:8080/",
          "height": 295
        },
        "outputId": "840aaed0-839b-4e59-b450-f320060555ad"
      },
      "source": [
        "import matplotlib.pyplot as plt\n",
        "import numpy as np\n",
        "\n",
        "plt.title('Learning Curve')\n",
        "plt.xlabel('Wall Clock Time (s)')\n",
        "plt.ylabel('Validation Accuracy')\n",
        "plt.scatter(time_history, 1 - np.array(valid_loss_history))\n",
        "plt.step(time_history, 1 - np.array(best_valid_loss_history), where='post')\n",
        "plt.show()"
      ],
      "execution_count": null,
      "outputs": [
        {
          "output_type": "display_data",
          "data": {
            "image/png": "[encoded data removed]",
            "text/plain": [
              "<Figure size 432x288 with 1 Axes>"
            ]
          },
          "metadata": {
            "needs_background": "light"
          }
        }
      ]
    }
  ]
}